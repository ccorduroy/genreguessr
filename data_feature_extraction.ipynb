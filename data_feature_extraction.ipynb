{
 "cells": [
  {
   "cell_type": "code",
   "execution_count": 82,
   "id": "de2a7945",
   "metadata": {},
   "outputs": [],
   "source": [
    "import librosa\n",
    "import numpy as np\n",
    "\n",
    "def extract_features(file_path, sample_rate=22050, num_mfcc=20, n_fft=2048, hop_length=512):\n",
    "    try:\n",
    "        y, sr = librosa.load(file_path, sr=sample_rate)\n",
    "    except Exception as e:\n",
    "        print(f\"Error loading {file_path}: {e}\")\n",
    "        return None\n",
    "\n",
    "    features = []\n",
    "\n",
    "    # Chromagram\n",
    "    chromagram = librosa.feature.chroma_stft(y=y, sr=sample_rate, hop_length=hop_length)\n",
    "    features.append(chromagram.mean())\n",
    "    features.append(chromagram.var())\n",
    "\n",
    "    # RMS\n",
    "    rms = librosa.feature.rms(y=y)\n",
    "    features.append(rms.mean())\n",
    "    features.append(rms.var())\n",
    "\n",
    "    # Spectral Centroid\n",
    "    spec_cent = librosa.feature.spectral_centroid(y=y)\n",
    "    features.append(spec_cent.mean())\n",
    "    features.append(spec_cent.var())\n",
    "\n",
    "    # Spectral Bandwidth\n",
    "    spec_band = librosa.feature.spectral_bandwidth(y=y, sr=sample_rate)\n",
    "    features.append(spec_band.mean())\n",
    "    features.append(spec_band.var())\n",
    "\n",
    "    # Spectral Rolloff\n",
    "    spec_roll = librosa.feature.spectral_rolloff(y=y, sr=sample_rate)\n",
    "    features.append(spec_roll.mean())\n",
    "    features.append(spec_roll.var())\n",
    "\n",
    "    # Zero Crossing Rate\n",
    "    zcr = librosa.feature.zero_crossing_rate(y=y)\n",
    "    features.append(zcr.mean())\n",
    "    features.append(zcr.var())\n",
    "\n",
    "    # Harmonics and Percussive\n",
    "    harmony, perceptr = librosa.effects.hpss(y=y)\n",
    "    features.append(harmony.mean())\n",
    "    features.append(harmony.var())\n",
    "    features.append(perceptr.mean())\n",
    "    features.append(perceptr.var())\n",
    "\n",
    "    # Tempo\n",
    "    tempo, _ = librosa.beat.beat_track(y=y, sr=sr)\n",
    "    features.append(tempo[0])\n",
    "\n",
    "    # MFCCs\n",
    "    mfcc = librosa.feature.mfcc(y=y, sr=sample_rate, n_mfcc=num_mfcc, n_fft=n_fft, hop_length=hop_length)\n",
    "    mfcc = mfcc.T\n",
    "    for i in range(num_mfcc):\n",
    "        features.append(mfcc[:, i].mean())\n",
    "        features.append(mfcc[:, i].var())\n",
    "\n",
    "    return np.array(features, dtype=np.float64)"
   ]
  },
  {
   "cell_type": "code",
   "execution_count": 83,
   "id": "a7aca544",
   "metadata": {},
   "outputs": [
    {
     "name": "stdout",
     "output_type": "stream",
     "text": [
      "[ 3.50128502e-01  8.87716636e-02  1.30184323e-01  2.82838009e-03\n",
      "  1.78412264e+03  1.29745484e+05  2.00241241e+03  8.58344104e+04\n",
      "  3.80572303e+03  9.01252917e+05  8.30448207e-02  7.66945655e-04\n",
      " -4.90663442e-05  8.17246269e-03 -1.06184834e-05  5.70443785e-03\n",
      "  1.23046875e+02 -1.13598824e+02  2.56936938e+03  1.21570671e+02\n",
      "  2.95847107e+02 -1.91622620e+01  2.35584442e+02  4.23639412e+01\n",
      "  1.51038742e+02 -6.36226606e+00  1.67992889e+02  1.86219311e+01\n",
      "  8.91724167e+01 -1.36997337e+01  6.76030884e+01  1.53398018e+01\n",
      "  6.90014954e+01 -1.22743044e+01  8.22198486e+01  1.09709444e+01\n",
      "  6.33465424e+01 -8.32606125e+00  6.17649918e+01  8.80208778e+00\n",
      "  5.12807541e+01 -3.66994119e+00  4.12158966e+01  5.74467611e+00\n",
      "  4.05175247e+01 -5.16278267e+00  4.97842293e+01  7.51706481e-01\n",
      "  5.24245338e+01 -1.68785417e+00  3.65358620e+01 -4.08729911e-01\n",
      "  4.16031685e+01 -2.30267668e+00  5.50536537e+01  1.22246706e+00\n",
      "  4.69413490e+01]\n"
     ]
    }
   ],
   "source": [
    "features_extracted = extract_features(\"GTZAN_Dataset/genres_original/blues/blues.00000.wav\")\n",
    "print(features_extracted)"
   ]
  }
 ],
 "metadata": {
  "kernelspec": {
   "display_name": "Python 3",
   "language": "python",
   "name": "python3"
  },
  "language_info": {
   "codemirror_mode": {
    "name": "ipython",
    "version": 3
   },
   "file_extension": ".py",
   "mimetype": "text/x-python",
   "name": "python",
   "nbconvert_exporter": "python",
   "pygments_lexer": "ipython3",
   "version": "3.13.1"
  }
 },
 "nbformat": 4,
 "nbformat_minor": 5
}
