{
 "cells": [
  {
   "cell_type": "code",
   "execution_count": 1,
   "id": "c7dd129d",
   "metadata": {},
   "outputs": [],
   "source": [
    "import numpy as np \n",
    "import matplotlib.pyplot as plt\n",
    "from torchvision import datasets\n",
    "from sklearn.model_selection import train_test_split\n",
    "import numpy as np\n",
    "import torch\n",
    "import torch.nn as nn\n",
    "from torch.utils.data import TensorDataset, DataLoader\n",
    "import torch.nn.functional as F\n",
    "import torch.optim as optim\n",
    "from tqdm import tqdm\n",
    "import matplotlib.pyplot as plt\n",
    "import pandas as pd\n",
    "from sklearn.preprocessing import MinMaxScaler\n",
    "from sklearn.decomposition import PCA\n",
    "import seaborn as sns\n",
    "from sklearn.preprocessing import MinMaxScaler, LabelEncoder\n"
   ]
  },
  {
   "cell_type": "markdown",
   "id": "6ce8bc92",
   "metadata": {},
   "source": [
    "## Processing Dataset"
   ]
  },
  {
   "cell_type": "code",
   "execution_count": 2,
   "id": "91addc6a",
   "metadata": {},
   "outputs": [
    {
     "name": "stdout",
     "output_type": "stream",
     "text": [
      "(9990, 60)\n",
      "Missing values in dataset: 0\n",
      "Top 10 discriminative features:\n",
      "rolloff_mean               0.133172\n",
      "spectral_bandwidth_mean    0.124018\n",
      "chroma_stft_mean           0.104967\n",
      "spectral_centroid_mean     0.104227\n",
      "mfcc1_mean                 0.102413\n",
      "rms_mean                   0.099443\n",
      "mfcc4_mean                 0.091735\n",
      "mfcc2_mean                 0.087981\n",
      "mfcc6_mean                 0.083583\n",
      "mfcc7_mean                 0.081289\n",
      "dtype: float64\n"
     ]
    }
   ],
   "source": [
    "df = pd.read_csv('GTZAN_Dataset/features_3_sec.csv')\n",
    "print(df.shape)\n",
    "# Check for missing values\n",
    "print(f\"Missing values in dataset: {df.isnull().sum().sum()}\")\n",
    "\n",
    "# Analyze class distribution\n",
    "plt.figure(figsize=(10, 6))\n",
    "sns.countplot(data=df, x='label')\n",
    "plt.title('Class Distribution')\n",
    "plt.xticks(rotation=45)\n",
    "plt.savefig('class_distribution.png')\n",
    "plt.close()\n",
    "\n",
    "# Scale features\n",
    "scalar = MinMaxScaler()\n",
    "df_processed = df.drop(columns=['filename', 'label'])\n",
    "df_processed_normalized = pd.DataFrame(scalar.fit_transform(df_processed), columns=df_processed.columns)\n",
    "\n",
    "# Analyze feature correlations to identify redundancy\n",
    "plt.figure(figsize=(15, 12))\n",
    "correlation = df_processed.corr()\n",
    "sns.heatmap(correlation, annot=False, cmap='coolwarm')\n",
    "plt.title('Feature Correlation Matrix')\n",
    "plt.savefig('feature_correlation.png')\n",
    "plt.close()\n",
    "\n",
    "# Add back labels\n",
    "df_processed_normalized = pd.concat([df_processed_normalized, df['label']], axis=1)\n",
    "\n",
    "# Calculate averages per genre\n",
    "averages_df = df_processed_normalized.groupby('label').mean()\n",
    "\n",
    "# Find features with highest variance between classes (most discriminative)\n",
    "std_dev_of_means = averages_df.std()\n",
    "sorted_by_std = std_dev_of_means.sort_values(ascending=False)\n",
    "print(\"Top 10 discriminative features:\")\n",
    "print(sorted_by_std.head(10))\n",
    "\n",
    "# Select top features (more discriminative)\n",
    "top_k_features = 60  # Can be tuned based on analysis\n",
    "top_features = sorted_by_std.head(top_k_features).index.tolist()\n",
    "\n",
    "# Split data\n",
    "X = df_processed_normalized.drop(columns='label')\n",
    "y = df['label']\n",
    "X_train, X_temp, y_train, y_temp = train_test_split(X, y, test_size=0.30, random_state=42)\n",
    "X_test, X_val, y_test, y_val = train_test_split(X_temp, y_temp, test_size=0.50, random_state=42)\n"
   ]
  },
  {
   "cell_type": "code",
   "execution_count": 3,
   "id": "eb9173a4",
   "metadata": {},
   "outputs": [
    {
     "name": "stdout",
     "output_type": "stream",
     "text": [
      "Number of components needed for 95% variance: 33\n",
      "Reduced dimensions from 58 to 58\n",
      "Transformed shapes - Train: (6993, 58), Test: (1498, 58), Val: (1499, 58)\n",
      "Labels distribution: label\n",
      "pop          733\n",
      "jazz         714\n",
      "country      711\n",
      "disco        698\n",
      "rock         698\n",
      "metal        697\n",
      "classical    690\n",
      "hiphop       687\n",
      "reggae       684\n",
      "blues        681\n",
      "Name: count, dtype: int64\n"
     ]
    }
   ],
   "source": [
    "pca = PCA(n_components=0.95)  # Keep components that explain 95% of variance\n",
    "pca.fit(X_train)\n",
    "\n",
    "# Plot explained variance to visualize information preservation\n",
    "plt.figure(figsize=(10, 6))\n",
    "plt.plot(np.cumsum(pca.explained_variance_ratio_))\n",
    "plt.xlabel('Number of Components')\n",
    "plt.ylabel('Cumulative Explained Variance')\n",
    "plt.title('Explained Variance vs. Number of PCA Components')\n",
    "plt.axhline(y=0.95, color='r', linestyle='--')\n",
    "plt.grid(True)\n",
    "plt.savefig('pca_variance.png')\n",
    "plt.close()\n",
    "\n",
    "print(f\"Number of components needed for 95% variance: {pca.n_components_}\")\n",
    "\n",
    "# Transform data using PCA\n",
    "X_train_transformed = (X_train)\n",
    "X_val_transformed = (X_val)\n",
    "X_test_transformed = (X_test)\n",
    "\n",
    "print(f\"Reduced dimensions from {X_train.shape[1]} to {X_train_transformed.shape[1]}\")\n",
    "print(f\"Transformed shapes - Train: {X_train_transformed.shape}, Test: {X_test_transformed.shape}, Val: {X_val_transformed.shape}\")\n",
    "print(f\"Labels distribution: {y_train.value_counts()}\")"
   ]
  },
  {
   "cell_type": "markdown",
   "id": "58742fd0",
   "metadata": {},
   "source": [
    "## Training Model"
   ]
  },
  {
   "cell_type": "code",
   "execution_count": 4,
   "id": "63dacbc4",
   "metadata": {},
   "outputs": [
    {
     "name": "stdout",
     "output_type": "stream",
     "text": [
      "Example feature vector shape: torch.Size([58])\n",
      "Example label: 7 (pop)\n",
      "Train set size: 6993, Validation set size: 1499, Test set size: 1498\n"
     ]
    }
   ],
   "source": [
    "import torch\n",
    "import torch.nn as nn\n",
    "import torch.optim as optim\n",
    "from torch.utils.data import TensorDataset, DataLoader\n",
    "from tqdm import tqdm\n",
    "from sklearn.preprocessing import MinMaxScaler, LabelEncoder\n",
    "\n",
    "# Encode labels\n",
    "encoder = LabelEncoder()\n",
    "encoder.fit(y)\n",
    "y_train_encoded = encoder.transform(y_train)\n",
    "y_test_encoded = encoder.transform(y_test)\n",
    "y_val_encoded = encoder.transform(y_val)\n",
    "\n",
    "# Convert to PyTorch tensors\n",
    "X_train_tensor = torch.tensor(X_train_transformed.to_numpy(), dtype=torch.float32)\n",
    "Y_train_tensor = torch.tensor(y_train_encoded, dtype=torch.long)\n",
    "\n",
    "X_val_tensor = torch.tensor(X_val_transformed.to_numpy(), dtype=torch.float32)\n",
    "Y_val_tensor = torch.tensor(y_val_encoded, dtype=torch.long)\n",
    "\n",
    "X_test_tensor = torch.tensor(X_test_transformed.to_numpy(), dtype=torch.float32)\n",
    "Y_test_tensor = torch.tensor(y_test_encoded, dtype=torch.long)\n",
    "\n",
    "# Create datasets\n",
    "trainset = TensorDataset(X_train_tensor, Y_train_tensor)\n",
    "valset = TensorDataset(X_val_tensor, Y_val_tensor)\n",
    "testset = TensorDataset(X_test_tensor, Y_test_tensor)\n",
    "\n",
    "# Check dataset dimensions\n",
    "song_stats, label = trainset[8]\n",
    "print(f\"Example feature vector shape: {song_stats.shape}\")\n",
    "print(f\"Example label: {label} ({encoder.inverse_transform([label])[0]})\")\n",
    "\n",
    "print(f'Train set size: {len(trainset)}, Validation set size: {len(valset)}, Test set size: {len(testset)}')\n"
   ]
  },
  {
   "cell_type": "code",
   "execution_count": 5,
   "id": "6036c3a6",
   "metadata": {},
   "outputs": [],
   "source": [
    "batchsize = 32  # Increased from 16 for faster training\n",
    "\n",
    "trainloader = torch.utils.data.DataLoader(trainset, batch_size=batchsize, shuffle=True)\n",
    "valloader = torch.utils.data.DataLoader(valset, batch_size=batchsize, shuffle=False)\n",
    "testloader = torch.utils.data.DataLoader(testset, batch_size=batchsize, shuffle=False)\n"
   ]
  },
  {
   "cell_type": "code",
   "execution_count": 6,
   "id": "714c7d48",
   "metadata": {},
   "outputs": [
    {
     "name": "stdout",
     "output_type": "stream",
     "text": [
      "ImprovedMLP(\n",
      "  (model): Sequential(\n",
      "    (0): Linear(in_features=58, out_features=256, bias=True)\n",
      "    (1): BatchNorm1d(256, eps=1e-05, momentum=0.1, affine=True, track_running_stats=True)\n",
      "    (2): ReLU()\n",
      "    (3): Dropout(p=0.2, inplace=False)\n",
      "    (4): Linear(in_features=256, out_features=128, bias=True)\n",
      "    (5): BatchNorm1d(128, eps=1e-05, momentum=0.1, affine=True, track_running_stats=True)\n",
      "    (6): ReLU()\n",
      "    (7): Dropout(p=0.3, inplace=False)\n",
      "    (8): Linear(in_features=128, out_features=64, bias=True)\n",
      "    (9): BatchNorm1d(64, eps=1e-05, momentum=0.1, affine=True, track_running_stats=True)\n",
      "    (10): ReLU()\n",
      "    (11): Dropout(p=0.4, inplace=False)\n",
      "    (12): Linear(in_features=64, out_features=10, bias=True)\n",
      "  )\n",
      ")\n"
     ]
    }
   ],
   "source": [
    "n_pixels = X_train_transformed.shape[1]  # Number of PCA components\n",
    "n_classes = 10  # 10 music genres in GTZAN\n",
    "\n",
    "class ImprovedMLP(nn.Module):\n",
    "    def __init__(self, n_pixels, n_classes):\n",
    "        super().__init__()\n",
    "        self.model = nn.Sequential(\n",
    "            nn.Linear(n_pixels, 256),\n",
    "            nn.BatchNorm1d(256),\n",
    "            nn.ReLU(),\n",
    "            nn.Dropout(0.2),\n",
    "            nn.Linear(256, 128),\n",
    "            nn.BatchNorm1d(128),\n",
    "            nn.ReLU(),\n",
    "            nn.Dropout(0.3),\n",
    "            nn.Linear(128, 64),\n",
    "            nn.BatchNorm1d(64),\n",
    "            nn.ReLU(),\n",
    "            nn.Dropout(0.4),\n",
    "            nn.Linear(64, n_classes)  \n",
    "        )\n",
    "        \n",
    "    def forward(self, x):\n",
    "        x = x.view(x.shape[0], -1)\n",
    "        return self.model(x)\n",
    "\n",
    "model = ImprovedMLP(n_pixels, n_classes)\n",
    "print(model)"
   ]
  },
  {
   "cell_type": "code",
   "execution_count": 7,
   "id": "9483b97f",
   "metadata": {},
   "outputs": [
    {
     "name": "stderr",
     "output_type": "stream",
     "text": [
      "/Library/Frameworks/Python.framework/Versions/3.13/lib/python3.13/site-packages/torch/optim/lr_scheduler.py:62: UserWarning: The verbose parameter is deprecated. Please use get_last_lr() to access the learning rate.\n",
      "  warnings.warn(\n"
     ]
    }
   ],
   "source": [
    "criterion = nn.CrossEntropyLoss()\n",
    "optimizer = torch.optim.Adam(model.parameters(), lr=1e-3, weight_decay=1e-5)\n",
    "scheduler = torch.optim.lr_scheduler.ReduceLROnPlateau(\n",
    "    optimizer, mode='max', factor=0.5, patience=3, verbose=True\n",
    ")"
   ]
  },
  {
   "cell_type": "code",
   "execution_count": 8,
   "id": "f96ad2fe",
   "metadata": {},
   "outputs": [
    {
     "name": "stdout",
     "output_type": "stream",
     "text": [
      "Using device: mps\n"
     ]
    },
    {
     "data": {
      "text/plain": [
       "ImprovedMLP(\n",
       "  (model): Sequential(\n",
       "    (0): Linear(in_features=58, out_features=256, bias=True)\n",
       "    (1): BatchNorm1d(256, eps=1e-05, momentum=0.1, affine=True, track_running_stats=True)\n",
       "    (2): ReLU()\n",
       "    (3): Dropout(p=0.2, inplace=False)\n",
       "    (4): Linear(in_features=256, out_features=128, bias=True)\n",
       "    (5): BatchNorm1d(128, eps=1e-05, momentum=0.1, affine=True, track_running_stats=True)\n",
       "    (6): ReLU()\n",
       "    (7): Dropout(p=0.3, inplace=False)\n",
       "    (8): Linear(in_features=128, out_features=64, bias=True)\n",
       "    (9): BatchNorm1d(64, eps=1e-05, momentum=0.1, affine=True, track_running_stats=True)\n",
       "    (10): ReLU()\n",
       "    (11): Dropout(p=0.4, inplace=False)\n",
       "    (12): Linear(in_features=64, out_features=10, bias=True)\n",
       "  )\n",
       ")"
      ]
     },
     "execution_count": 8,
     "metadata": {},
     "output_type": "execute_result"
    }
   ],
   "source": [
    "if torch.cuda.is_available():\n",
    "    device = torch.device(\"cuda:0\")\n",
    "elif hasattr(torch, 'backends') and hasattr(torch.backends, 'mps') and torch.backends.mps.is_available():\n",
    "    device = torch.device(\"mps\")  # MPS acceleration is available on MacOS 12.3+\n",
    "else:\n",
    "    device = torch.device(\"cpu\")\n",
    "\n",
    "print(f'Using device: {device}')\n",
    "model.to(device)"
   ]
  },
  {
   "cell_type": "code",
   "execution_count": 9,
   "id": "ca279f55",
   "metadata": {},
   "outputs": [],
   "source": [
    "def train(model, trainloader, criterion, optimizer, device):\n",
    "    model.train()\n",
    "    running_loss = 0\n",
    "    running_acc = 0\n",
    "    with tqdm(total=len(trainloader), desc=f\"Train\", unit=\"batch\") as pbar:\n",
    "        for n_batch, (images, labels) in enumerate(trainloader):\n",
    "            images, labels = images.to(device), labels.to(device)\n",
    "            optimizer.zero_grad()\n",
    "            output = model(images)\n",
    "            loss = criterion(output, labels)\n",
    "            loss.backward()\n",
    "            optimizer.step()\n",
    "            running_loss += loss.item()\n",
    "            running_acc += (output.argmax(1) == labels).float().mean().item()\n",
    "            pbar.set_postfix({'loss': loss.item(), 'acc': 100. * running_acc / (n_batch+1)})\n",
    "            pbar.update()\n",
    "    return running_loss / len(trainloader), running_acc / len(trainloader)\n"
   ]
  },
  {
   "cell_type": "code",
   "execution_count": 10,
   "id": "85c86f4a",
   "metadata": {},
   "outputs": [],
   "source": [
    "def validate(model, valloader, criterion, device):\n",
    "    model.eval()\n",
    "    running_loss = 0\n",
    "    running_acc = 0\n",
    "    with torch.no_grad():\n",
    "        with tqdm(total=len(valloader), desc=f\"Eval\", unit=\"batch\") as pbar:\n",
    "            for n_batch, (images, labels) in enumerate(valloader):\n",
    "                images, labels = images.to(device), labels.to(device)\n",
    "                output = model(images)\n",
    "                loss = criterion(output, labels)\n",
    "                running_loss += loss.item()\n",
    "                running_acc += (output.argmax(1) == labels).float().mean().item()\n",
    "                pbar.set_postfix({'loss': loss.item(), 'acc': 100. * running_acc / (n_batch+1)})\n",
    "                pbar.update()\n",
    "    return running_loss / len(valloader), running_acc / len(valloader)\n"
   ]
  },
  {
   "cell_type": "code",
   "execution_count": 11,
   "id": "0ae63228",
   "metadata": {},
   "outputs": [],
   "source": [
    "def evaluate_model(model, dataloader, device, encoder):\n",
    "    model.eval()\n",
    "    all_preds = []\n",
    "    all_labels = []\n",
    "    \n",
    "    with torch.no_grad():\n",
    "        for images, labels in dataloader:\n",
    "            images, labels = images.to(device), labels.to(device)\n",
    "            outputs = model(images)\n",
    "            _, preds = torch.max(outputs, 1)\n",
    "            all_preds.extend(preds.cpu().numpy())\n",
    "            all_labels.extend(labels.cpu().numpy())\n",
    "    \n",
    "    # Calculate and plot confusion matrix\n",
    "    from sklearn.metrics import confusion_matrix\n",
    "    cm = confusion_matrix(all_labels, all_preds)\n",
    "    \n",
    "    plt.figure(figsize=(12, 10))\n",
    "    sns.heatmap(cm, annot=True, fmt='d', cmap='Blues', \n",
    "                xticklabels=encoder.classes_, \n",
    "                yticklabels=encoder.classes_)\n",
    "    plt.xlabel('Predicted')\n",
    "    plt.ylabel('True')\n",
    "    plt.title('Confusion Matrix')\n",
    "    plt.savefig('confusion_matrix.png')\n",
    "    plt.close()\n",
    "    \n",
    "    # Calculate per-class metrics\n",
    "    precision = np.diag(cm) / np.sum(cm, axis=0)\n",
    "    recall = np.diag(cm) / np.sum(cm, axis=1)\n",
    "    f1 = 2 * (precision * recall) / (precision + recall)\n",
    "    \n",
    "    for i, class_name in enumerate(encoder.classes_):\n",
    "        print(f\"{class_name}: Precision: {precision[i]:.4f}, Recall: {recall[i]:.4f}, F1: {f1[i]:.4f}\")\n",
    "    \n",
    "    return np.mean(f1)"
   ]
  },
  {
   "cell_type": "code",
   "execution_count": 12,
   "id": "1f13ef6d",
   "metadata": {},
   "outputs": [
    {
     "name": "stdout",
     "output_type": "stream",
     "text": [
      "Epoch 1 of 50\n"
     ]
    },
    {
     "name": "stderr",
     "output_type": "stream",
     "text": [
      "Train: 100%|██████████| 219/219 [00:03<00:00, 70.57batch/s, loss=1.7, acc=47.3]   \n",
      "Eval: 100%|██████████| 47/47 [00:00<00:00, 213.28batch/s, loss=0.991, acc=64.3]\n"
     ]
    },
    {
     "name": "stdout",
     "output_type": "stream",
     "text": [
      "Epoch 2 of 50\n"
     ]
    },
    {
     "name": "stderr",
     "output_type": "stream",
     "text": [
      "Train: 100%|██████████| 219/219 [00:01<00:00, 183.55batch/s, loss=0.768, acc=61.7]\n",
      "Eval: 100%|██████████| 47/47 [00:00<00:00, 496.32batch/s, loss=0.835, acc=72.6]\n"
     ]
    },
    {
     "name": "stdout",
     "output_type": "stream",
     "text": [
      "Epoch 3 of 50\n"
     ]
    },
    {
     "name": "stderr",
     "output_type": "stream",
     "text": [
      "Train: 100%|██████████| 219/219 [00:01<00:00, 195.36batch/s, loss=1.26, acc=67.2] \n",
      "Eval: 100%|██████████| 47/47 [00:00<00:00, 502.43batch/s, loss=0.715, acc=74.4]\n"
     ]
    },
    {
     "name": "stdout",
     "output_type": "stream",
     "text": [
      "Epoch 4 of 50\n"
     ]
    },
    {
     "name": "stderr",
     "output_type": "stream",
     "text": [
      "Train: 100%|██████████| 219/219 [00:01<00:00, 193.91batch/s, loss=1.59, acc=70.2] \n",
      "Eval: 100%|██████████| 47/47 [00:00<00:00, 502.81batch/s, loss=0.811, acc=76.9]\n"
     ]
    },
    {
     "name": "stdout",
     "output_type": "stream",
     "text": [
      "Epoch 5 of 50\n"
     ]
    },
    {
     "name": "stderr",
     "output_type": "stream",
     "text": [
      "Train: 100%|██████████| 219/219 [00:01<00:00, 184.24batch/s, loss=0.826, acc=70.8]\n",
      "Eval: 100%|██████████| 47/47 [00:00<00:00, 522.10batch/s, loss=0.685, acc=78.9]\n"
     ]
    },
    {
     "name": "stdout",
     "output_type": "stream",
     "text": [
      "Epoch 6 of 50\n"
     ]
    },
    {
     "name": "stderr",
     "output_type": "stream",
     "text": [
      "Train: 100%|██████████| 219/219 [00:01<00:00, 188.12batch/s, loss=0.861, acc=72.8]\n",
      "Eval: 100%|██████████| 47/47 [00:00<00:00, 508.91batch/s, loss=0.723, acc=79.8]\n"
     ]
    },
    {
     "name": "stdout",
     "output_type": "stream",
     "text": [
      "Epoch 7 of 50\n"
     ]
    },
    {
     "name": "stderr",
     "output_type": "stream",
     "text": [
      "Train: 100%|██████████| 219/219 [00:01<00:00, 192.15batch/s, loss=1.09, acc=74.5] \n",
      "Eval: 100%|██████████| 47/47 [00:00<00:00, 505.35batch/s, loss=0.763, acc=80.4]\n"
     ]
    },
    {
     "name": "stdout",
     "output_type": "stream",
     "text": [
      "Epoch 8 of 50\n"
     ]
    },
    {
     "name": "stderr",
     "output_type": "stream",
     "text": [
      "Train: 100%|██████████| 219/219 [00:01<00:00, 195.47batch/s, loss=1.48, acc=75.4] \n",
      "Eval: 100%|██████████| 47/47 [00:00<00:00, 506.05batch/s, loss=0.641, acc=79.8]\n"
     ]
    },
    {
     "name": "stdout",
     "output_type": "stream",
     "text": [
      "Epoch 9 of 50\n"
     ]
    },
    {
     "name": "stderr",
     "output_type": "stream",
     "text": [
      "Train: 100%|██████████| 219/219 [00:01<00:00, 189.27batch/s, loss=0.266, acc=75.7]\n",
      "Eval: 100%|██████████| 47/47 [00:00<00:00, 510.01batch/s, loss=0.674, acc=80.9]\n"
     ]
    },
    {
     "name": "stdout",
     "output_type": "stream",
     "text": [
      "Epoch 10 of 50\n"
     ]
    },
    {
     "name": "stderr",
     "output_type": "stream",
     "text": [
      "Train: 100%|██████████| 219/219 [00:01<00:00, 192.60batch/s, loss=0.732, acc=77.5]\n",
      "Eval: 100%|██████████| 47/47 [00:00<00:00, 434.00batch/s, loss=0.702, acc=82.5]\n"
     ]
    },
    {
     "name": "stdout",
     "output_type": "stream",
     "text": [
      "Epoch 11 of 50\n"
     ]
    },
    {
     "name": "stderr",
     "output_type": "stream",
     "text": [
      "Train: 100%|██████████| 219/219 [00:01<00:00, 181.77batch/s, loss=0.434, acc=78.3]\n",
      "Eval: 100%|██████████| 47/47 [00:00<00:00, 457.58batch/s, loss=0.748, acc=83.6]\n"
     ]
    },
    {
     "name": "stdout",
     "output_type": "stream",
     "text": [
      "Epoch 12 of 50\n"
     ]
    },
    {
     "name": "stderr",
     "output_type": "stream",
     "text": [
      "Train: 100%|██████████| 219/219 [00:01<00:00, 180.10batch/s, loss=0.638, acc=78.5]\n",
      "Eval: 100%|██████████| 47/47 [00:00<00:00, 506.04batch/s, loss=0.862, acc=84.2]\n"
     ]
    },
    {
     "name": "stdout",
     "output_type": "stream",
     "text": [
      "Epoch 13 of 50\n"
     ]
    },
    {
     "name": "stderr",
     "output_type": "stream",
     "text": [
      "Train: 100%|██████████| 219/219 [00:01<00:00, 189.72batch/s, loss=0.531, acc=79.4]\n",
      "Eval: 100%|██████████| 47/47 [00:00<00:00, 505.15batch/s, loss=0.635, acc=84.3]\n"
     ]
    },
    {
     "name": "stdout",
     "output_type": "stream",
     "text": [
      "Epoch 14 of 50\n"
     ]
    },
    {
     "name": "stderr",
     "output_type": "stream",
     "text": [
      "Train: 100%|██████████| 219/219 [00:01<00:00, 194.62batch/s, loss=0.934, acc=79.4]\n",
      "Eval: 100%|██████████| 47/47 [00:00<00:00, 513.67batch/s, loss=0.672, acc=84.4]\n"
     ]
    },
    {
     "name": "stdout",
     "output_type": "stream",
     "text": [
      "Epoch 15 of 50\n"
     ]
    },
    {
     "name": "stderr",
     "output_type": "stream",
     "text": [
      "Train: 100%|██████████| 219/219 [00:01<00:00, 196.98batch/s, loss=0.551, acc=80.4]\n",
      "Eval: 100%|██████████| 47/47 [00:00<00:00, 442.77batch/s, loss=0.632, acc=86.3]\n"
     ]
    },
    {
     "name": "stdout",
     "output_type": "stream",
     "text": [
      "Epoch 16 of 50\n"
     ]
    },
    {
     "name": "stderr",
     "output_type": "stream",
     "text": [
      "Train: 100%|██████████| 219/219 [00:01<00:00, 137.52batch/s, loss=0.459, acc=81.2]\n",
      "Eval: 100%|██████████| 47/47 [00:00<00:00, 415.55batch/s, loss=0.674, acc=83.8]\n"
     ]
    },
    {
     "name": "stdout",
     "output_type": "stream",
     "text": [
      "Epoch 17 of 50\n"
     ]
    },
    {
     "name": "stderr",
     "output_type": "stream",
     "text": [
      "Train: 100%|██████████| 219/219 [00:01<00:00, 182.93batch/s, loss=0.313, acc=80.8]\n",
      "Eval: 100%|██████████| 47/47 [00:00<00:00, 529.41batch/s, loss=0.726, acc=85.1]\n"
     ]
    },
    {
     "name": "stdout",
     "output_type": "stream",
     "text": [
      "Epoch 18 of 50\n"
     ]
    },
    {
     "name": "stderr",
     "output_type": "stream",
     "text": [
      "Train: 100%|██████████| 219/219 [00:01<00:00, 190.25batch/s, loss=0.458, acc=82.1]\n",
      "Eval: 100%|██████████| 47/47 [00:00<00:00, 515.10batch/s, loss=0.742, acc=85.6]\n"
     ]
    },
    {
     "name": "stdout",
     "output_type": "stream",
     "text": [
      "Epoch 19 of 50\n"
     ]
    },
    {
     "name": "stderr",
     "output_type": "stream",
     "text": [
      "Train: 100%|██████████| 219/219 [00:01<00:00, 175.03batch/s, loss=0.516, acc=82.6]\n",
      "Eval: 100%|██████████| 47/47 [00:00<00:00, 499.20batch/s, loss=0.685, acc=85.7]\n"
     ]
    },
    {
     "name": "stdout",
     "output_type": "stream",
     "text": [
      "Epoch 20 of 50\n"
     ]
    },
    {
     "name": "stderr",
     "output_type": "stream",
     "text": [
      "Train: 100%|██████████| 219/219 [00:01<00:00, 196.36batch/s, loss=0.507, acc=82.3]\n",
      "Eval: 100%|██████████| 47/47 [00:00<00:00, 445.25batch/s, loss=0.661, acc=87]  \n"
     ]
    },
    {
     "name": "stdout",
     "output_type": "stream",
     "text": [
      "Epoch 21 of 50\n"
     ]
    },
    {
     "name": "stderr",
     "output_type": "stream",
     "text": [
      "Train: 100%|██████████| 219/219 [00:01<00:00, 196.22batch/s, loss=0.328, acc=83.9]\n",
      "Eval: 100%|██████████| 47/47 [00:00<00:00, 515.55batch/s, loss=0.503, acc=87.7]\n"
     ]
    },
    {
     "name": "stdout",
     "output_type": "stream",
     "text": [
      "Epoch 22 of 50\n"
     ]
    },
    {
     "name": "stderr",
     "output_type": "stream",
     "text": [
      "Train: 100%|██████████| 219/219 [00:01<00:00, 189.18batch/s, loss=0.518, acc=82.8]\n",
      "Eval: 100%|██████████| 47/47 [00:00<00:00, 506.82batch/s, loss=0.65, acc=87.3] \n"
     ]
    },
    {
     "name": "stdout",
     "output_type": "stream",
     "text": [
      "Epoch 23 of 50\n"
     ]
    },
    {
     "name": "stderr",
     "output_type": "stream",
     "text": [
      "Train: 100%|██████████| 219/219 [00:01<00:00, 190.43batch/s, loss=0.61, acc=84]   \n",
      "Eval: 100%|██████████| 47/47 [00:00<00:00, 511.16batch/s, loss=0.652, acc=86.4]\n"
     ]
    },
    {
     "name": "stdout",
     "output_type": "stream",
     "text": [
      "Epoch 24 of 50\n"
     ]
    },
    {
     "name": "stderr",
     "output_type": "stream",
     "text": [
      "Train: 100%|██████████| 219/219 [00:01<00:00, 187.11batch/s, loss=0.542, acc=83.7]\n",
      "Eval: 100%|██████████| 47/47 [00:00<00:00, 501.93batch/s, loss=0.642, acc=89.3]\n"
     ]
    },
    {
     "name": "stdout",
     "output_type": "stream",
     "text": [
      "Epoch 25 of 50\n"
     ]
    },
    {
     "name": "stderr",
     "output_type": "stream",
     "text": [
      "Train: 100%|██████████| 219/219 [00:01<00:00, 172.19batch/s, loss=0.782, acc=84.7]\n",
      "Eval: 100%|██████████| 47/47 [00:00<00:00, 514.55batch/s, loss=0.526, acc=88.8] \n"
     ]
    },
    {
     "name": "stdout",
     "output_type": "stream",
     "text": [
      "Epoch 26 of 50\n"
     ]
    },
    {
     "name": "stderr",
     "output_type": "stream",
     "text": [
      "Train: 100%|██████████| 219/219 [00:01<00:00, 178.53batch/s, loss=0.402, acc=84.9]\n",
      "Eval: 100%|██████████| 47/47 [00:00<00:00, 500.12batch/s, loss=0.721, acc=86.9]\n"
     ]
    },
    {
     "name": "stdout",
     "output_type": "stream",
     "text": [
      "Epoch 27 of 50\n"
     ]
    },
    {
     "name": "stderr",
     "output_type": "stream",
     "text": [
      "Train: 100%|██████████| 219/219 [00:01<00:00, 174.30batch/s, loss=0.312, acc=84.4]\n",
      "Eval: 100%|██████████| 47/47 [00:00<00:00, 490.24batch/s, loss=0.532, acc=89]  \n"
     ]
    },
    {
     "name": "stdout",
     "output_type": "stream",
     "text": [
      "Epoch 28 of 50\n"
     ]
    },
    {
     "name": "stderr",
     "output_type": "stream",
     "text": [
      "Train: 100%|██████████| 219/219 [00:01<00:00, 170.99batch/s, loss=0.693, acc=85.5]\n",
      "Eval: 100%|██████████| 47/47 [00:00<00:00, 494.68batch/s, loss=0.364, acc=88.7] \n"
     ]
    },
    {
     "name": "stdout",
     "output_type": "stream",
     "text": [
      "Epoch 29 of 50\n"
     ]
    },
    {
     "name": "stderr",
     "output_type": "stream",
     "text": [
      "Train: 100%|██████████| 219/219 [00:01<00:00, 182.61batch/s, loss=0.371, acc=85.7]\n",
      "Eval: 100%|██████████| 47/47 [00:00<00:00, 517.51batch/s, loss=0.476, acc=88.1]\n"
     ]
    },
    {
     "name": "stdout",
     "output_type": "stream",
     "text": [
      "Epoch 30 of 50\n"
     ]
    },
    {
     "name": "stderr",
     "output_type": "stream",
     "text": [
      "Train: 100%|██████████| 219/219 [00:01<00:00, 194.29batch/s, loss=0.411, acc=85.8]\n",
      "Eval: 100%|██████████| 47/47 [00:00<00:00, 518.53batch/s, loss=0.544, acc=89.8]\n"
     ]
    },
    {
     "name": "stdout",
     "output_type": "stream",
     "text": [
      "Epoch 31 of 50\n"
     ]
    },
    {
     "name": "stderr",
     "output_type": "stream",
     "text": [
      "Train: 100%|██████████| 219/219 [00:01<00:00, 193.53batch/s, loss=0.119, acc=86.1]\n",
      "Eval: 100%|██████████| 47/47 [00:00<00:00, 517.58batch/s, loss=0.412, acc=88.1]\n"
     ]
    },
    {
     "name": "stdout",
     "output_type": "stream",
     "text": [
      "Epoch 32 of 50\n"
     ]
    },
    {
     "name": "stderr",
     "output_type": "stream",
     "text": [
      "Train: 100%|██████████| 219/219 [00:01<00:00, 180.26batch/s, loss=0.187, acc=85.8]\n",
      "Eval: 100%|██████████| 47/47 [00:00<00:00, 460.20batch/s, loss=0.655, acc=88.4] \n"
     ]
    },
    {
     "name": "stdout",
     "output_type": "stream",
     "text": [
      "Epoch 33 of 50\n"
     ]
    },
    {
     "name": "stderr",
     "output_type": "stream",
     "text": [
      "Train: 100%|██████████| 219/219 [00:01<00:00, 177.21batch/s, loss=0.278, acc=86.7]\n",
      "Eval: 100%|██████████| 47/47 [00:00<00:00, 484.74batch/s, loss=0.521, acc=89.1]\n"
     ]
    },
    {
     "name": "stdout",
     "output_type": "stream",
     "text": [
      "Epoch 34 of 50\n"
     ]
    },
    {
     "name": "stderr",
     "output_type": "stream",
     "text": [
      "Train: 100%|██████████| 219/219 [00:01<00:00, 192.31batch/s, loss=0.935, acc=86.6]\n",
      "Eval: 100%|██████████| 47/47 [00:00<00:00, 511.89batch/s, loss=0.597, acc=89.4]\n"
     ]
    },
    {
     "name": "stdout",
     "output_type": "stream",
     "text": [
      "Epoch 35 of 50\n"
     ]
    },
    {
     "name": "stderr",
     "output_type": "stream",
     "text": [
      "Train: 100%|██████████| 219/219 [00:01<00:00, 197.79batch/s, loss=0.442, acc=87.6] \n",
      "Eval: 100%|██████████| 47/47 [00:00<00:00, 511.04batch/s, loss=0.473, acc=89.5] \n"
     ]
    },
    {
     "name": "stdout",
     "output_type": "stream",
     "text": [
      "Epoch 36 of 50\n"
     ]
    },
    {
     "name": "stderr",
     "output_type": "stream",
     "text": [
      "Train: 100%|██████████| 219/219 [00:01<00:00, 191.30batch/s, loss=0.461, acc=87.5]\n",
      "Eval: 100%|██████████| 47/47 [00:00<00:00, 511.00batch/s, loss=0.483, acc=88.8]\n"
     ]
    },
    {
     "name": "stdout",
     "output_type": "stream",
     "text": [
      "Epoch 37 of 50\n"
     ]
    },
    {
     "name": "stderr",
     "output_type": "stream",
     "text": [
      "Train: 100%|██████████| 219/219 [00:01<00:00, 195.53batch/s, loss=0.876, acc=86.8]\n",
      "Eval: 100%|██████████| 47/47 [00:00<00:00, 506.49batch/s, loss=0.448, acc=86.7]\n"
     ]
    },
    {
     "name": "stdout",
     "output_type": "stream",
     "text": [
      "Epoch 38 of 50\n"
     ]
    },
    {
     "name": "stderr",
     "output_type": "stream",
     "text": [
      "Train: 100%|██████████| 219/219 [00:01<00:00, 186.93batch/s, loss=0.258, acc=87.9]\n",
      "Eval: 100%|██████████| 47/47 [00:00<00:00, 492.48batch/s, loss=0.541, acc=89.1] \n"
     ]
    },
    {
     "name": "stdout",
     "output_type": "stream",
     "text": [
      "Epoch 39 of 50\n"
     ]
    },
    {
     "name": "stderr",
     "output_type": "stream",
     "text": [
      "Train: 100%|██████████| 219/219 [00:01<00:00, 190.35batch/s, loss=0.574, acc=88]   \n",
      "Eval: 100%|██████████| 47/47 [00:00<00:00, 483.67batch/s, loss=0.43, acc=89.7]  \n"
     ]
    },
    {
     "name": "stdout",
     "output_type": "stream",
     "text": [
      "Epoch 40 of 50\n"
     ]
    },
    {
     "name": "stderr",
     "output_type": "stream",
     "text": [
      "Train: 100%|██████████| 219/219 [00:01<00:00, 196.08batch/s, loss=0.658, acc=87.7] \n",
      "Eval: 100%|██████████| 47/47 [00:00<00:00, 520.63batch/s, loss=0.421, acc=90.1] \n"
     ]
    },
    {
     "name": "stdout",
     "output_type": "stream",
     "text": [
      "Epoch 41 of 50\n"
     ]
    },
    {
     "name": "stderr",
     "output_type": "stream",
     "text": [
      "Train: 100%|██████████| 219/219 [00:01<00:00, 195.29batch/s, loss=1.24, acc=88]    \n",
      "Eval: 100%|██████████| 47/47 [00:00<00:00, 516.95batch/s, loss=0.393, acc=91]   \n"
     ]
    },
    {
     "name": "stdout",
     "output_type": "stream",
     "text": [
      "Epoch 42 of 50\n"
     ]
    },
    {
     "name": "stderr",
     "output_type": "stream",
     "text": [
      "Train: 100%|██████████| 219/219 [00:01<00:00, 197.43batch/s, loss=0.153, acc=88]  \n",
      "Eval: 100%|██████████| 47/47 [00:00<00:00, 510.52batch/s, loss=0.592, acc=89.5]\n"
     ]
    },
    {
     "name": "stdout",
     "output_type": "stream",
     "text": [
      "Epoch 43 of 50\n"
     ]
    },
    {
     "name": "stderr",
     "output_type": "stream",
     "text": [
      "Train: 100%|██████████| 219/219 [00:01<00:00, 194.90batch/s, loss=1.22, acc=87.9]  \n",
      "Eval: 100%|██████████| 47/47 [00:00<00:00, 510.61batch/s, loss=0.45, acc=88.8] \n"
     ]
    },
    {
     "name": "stdout",
     "output_type": "stream",
     "text": [
      "Epoch 44 of 50\n"
     ]
    },
    {
     "name": "stderr",
     "output_type": "stream",
     "text": [
      "Train: 100%|██████████| 219/219 [00:01<00:00, 198.50batch/s, loss=0.544, acc=88]  \n",
      "Eval: 100%|██████████| 47/47 [00:00<00:00, 521.01batch/s, loss=0.452, acc=91.3]\n"
     ]
    },
    {
     "name": "stdout",
     "output_type": "stream",
     "text": [
      "Epoch 45 of 50\n"
     ]
    },
    {
     "name": "stderr",
     "output_type": "stream",
     "text": [
      "Train: 100%|██████████| 219/219 [00:01<00:00, 195.81batch/s, loss=0.58, acc=88]   \n",
      "Eval: 100%|██████████| 47/47 [00:00<00:00, 513.66batch/s, loss=0.446, acc=89.7] \n"
     ]
    },
    {
     "name": "stdout",
     "output_type": "stream",
     "text": [
      "Epoch 46 of 50\n"
     ]
    },
    {
     "name": "stderr",
     "output_type": "stream",
     "text": [
      "Train: 100%|██████████| 219/219 [00:01<00:00, 199.51batch/s, loss=0.557, acc=88.6] \n",
      "Eval: 100%|██████████| 47/47 [00:00<00:00, 526.85batch/s, loss=0.372, acc=90.7] \n"
     ]
    },
    {
     "name": "stdout",
     "output_type": "stream",
     "text": [
      "Epoch 47 of 50\n"
     ]
    },
    {
     "name": "stderr",
     "output_type": "stream",
     "text": [
      "Train: 100%|██████████| 219/219 [00:01<00:00, 195.90batch/s, loss=0.52, acc=87.9]  \n",
      "Eval: 100%|██████████| 47/47 [00:00<00:00, 513.63batch/s, loss=0.551, acc=90.6] \n"
     ]
    },
    {
     "name": "stdout",
     "output_type": "stream",
     "text": [
      "Epoch 48 of 50\n"
     ]
    },
    {
     "name": "stderr",
     "output_type": "stream",
     "text": [
      "Train: 100%|██████████| 219/219 [00:01<00:00, 199.89batch/s, loss=0.514, acc=88.1]\n",
      "Eval: 100%|██████████| 47/47 [00:00<00:00, 512.37batch/s, loss=0.491, acc=91.4] \n"
     ]
    },
    {
     "name": "stdout",
     "output_type": "stream",
     "text": [
      "Epoch 49 of 50\n"
     ]
    },
    {
     "name": "stderr",
     "output_type": "stream",
     "text": [
      "Train: 100%|██████████| 219/219 [00:01<00:00, 196.26batch/s, loss=0.297, acc=88.6] \n",
      "Eval: 100%|██████████| 47/47 [00:00<00:00, 509.40batch/s, loss=0.582, acc=90.8] \n"
     ]
    },
    {
     "name": "stdout",
     "output_type": "stream",
     "text": [
      "Epoch 50 of 50\n"
     ]
    },
    {
     "name": "stderr",
     "output_type": "stream",
     "text": [
      "Train: 100%|██████████| 219/219 [00:01<00:00, 199.57batch/s, loss=0.26, acc=89]    \n",
      "Eval: 100%|██████████| 47/47 [00:00<00:00, 512.20batch/s, loss=0.67, acc=89.9]  \n"
     ]
    }
   ],
   "source": [
    "# Run training and validation loop\n",
    "# Save the best model based on validation accuracy\n",
    "n_epochs = 50\n",
    "best_acc = -1\n",
    "train_loss_history = []; train_acc_history = []\n",
    "val_loss_history = []; val_acc_history = []\n",
    "for epoch in range(n_epochs): # Iterate over epochs\n",
    "    print(f\"Epoch {epoch+1} of {n_epochs}\")\n",
    "    train_loss, train_acc  = train(model, trainloader, criterion, optimizer, device) # Train\n",
    "    val_loss, val_acc = validate(model, valloader, criterion, device) # Validate\n",
    "    train_loss_history.append(train_loss); train_acc_history.append(train_acc)\n",
    "    val_loss_history.append(val_loss); val_acc_history.append(val_acc)\n",
    "    if val_acc > best_acc: # Save best model\n",
    "        best_acc = val_acc\n",
    "        torch.save(model.state_dict(), \"best_model.pt\") # saving model parameters (\"state_dict\") saves memory and is faster than saving the entire model"
   ]
  },
  {
   "cell_type": "code",
   "execution_count": 13,
   "id": "ab07d12e",
   "metadata": {},
   "outputs": [
    {
     "name": "stderr",
     "output_type": "stream",
     "text": [
      "Eval: 100%|██████████| 47/47 [00:00<00:00, 262.48batch/s, loss=0.224, acc=89.2] \n"
     ]
    },
    {
     "name": "stdout",
     "output_type": "stream",
     "text": [
      "Test accuracy: 0.8925\n",
      "Detailed evaluation on test set:\n",
      "blues: Precision: 0.9050, Recall: 0.9419, F1: 0.9231\n",
      "classical: Precision: 0.9012, Recall: 0.9733, F1: 0.9359\n",
      "country: Precision: 0.8231, Recall: 0.8643, F1: 0.8432\n",
      "disco: Precision: 0.8289, Recall: 0.8456, F1: 0.8372\n",
      "hiphop: Precision: 0.9388, Recall: 0.8903, F1: 0.9139\n",
      "jazz: Precision: 0.9091, Recall: 0.8917, F1: 0.9003\n",
      "metal: Precision: 0.9424, Recall: 0.8912, F1: 0.9161\n",
      "pop: Precision: 0.9051, Recall: 0.9394, F1: 0.9219\n",
      "reggae: Precision: 0.9085, Recall: 0.9085, F1: 0.9085\n",
      "rock: Precision: 0.8594, Recall: 0.7692, F1: 0.8118\n",
      "Overall F1 score: 0.8912\n"
     ]
    }
   ],
   "source": [
    "model.load_state_dict(torch.load(\"best_model.pt\"))\n",
    "test_loss, test_acc = validate(model, testloader, criterion, device)\n",
    "print(f\"Test accuracy: {test_acc:.4f}\")\n",
    "\n",
    "# Generate confusion matrix and per-class metrics\n",
    "print(\"Detailed evaluation on test set:\")\n",
    "f1_score = evaluate_model(model, testloader, device, encoder)\n",
    "print(f\"Overall F1 score: {f1_score:.4f}\")"
   ]
  }
 ],
 "metadata": {
  "kernelspec": {
   "display_name": "Python 3",
   "language": "python",
   "name": "python3"
  },
  "language_info": {
   "codemirror_mode": {
    "name": "ipython",
    "version": 3
   },
   "file_extension": ".py",
   "mimetype": "text/x-python",
   "name": "python",
   "nbconvert_exporter": "python",
   "pygments_lexer": "ipython3",
   "version": "3.13.1"
  }
 },
 "nbformat": 4,
 "nbformat_minor": 5
}
