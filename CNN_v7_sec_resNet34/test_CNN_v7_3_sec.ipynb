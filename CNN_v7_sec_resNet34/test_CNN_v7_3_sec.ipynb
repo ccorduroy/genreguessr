{
 "cells": [
  {
   "cell_type": "code",
   "execution_count": 1,
   "id": "df4ffec4",
   "metadata": {},
   "outputs": [],
   "source": [
    "import torch\n",
    "import torch.nn as nn\n",
    "import torch.optim as optim\n",
    "from torch.utils.data import DataLoader, random_split\n",
    "from torchvision import transforms, datasets\n",
    "from tqdm import tqdm\n",
    "import matplotlib.pyplot as plt\n",
    "from torchsummary import summary\n",
    "import torch.nn.functional as F\n",
    "import numpy as np\n",
    "import cv2\n",
    "import pickle\n"
   ]
  },
  {
   "cell_type": "markdown",
   "id": "622f3091",
   "metadata": {},
   "source": [
    "# PARAMS"
   ]
  },
  {
   "cell_type": "code",
   "execution_count": 2,
   "id": "c23eb133",
   "metadata": {},
   "outputs": [],
   "source": [
    "# Parameters for the model\n",
    "n_pixels = 512*512\n",
    "n_classes = 10\n",
    "\n",
    "# Parameters for the training\n",
    "USE_CPU = False\n",
    "reg_val = 1e-4\n",
    "lr = 0.001 / 2\n",
    "batchsize = 32\n",
    "\n",
    "# For version control\n",
    "version_number = 7\n",
    "spectro_len = 3\n"
   ]
  },
  {
   "cell_type": "markdown",
   "id": "7e90ee69",
   "metadata": {},
   "source": [
    "# LOADING DATA \n",
    "\n",
    "## (WARNING: DO NOT RE-RUN THIS CODE AFTER TRAINING!!! - dataset indices will get overwritten!!!)\n"
   ]
  },
  {
   "cell_type": "code",
   "execution_count": 3,
   "id": "d9f3991d",
   "metadata": {},
   "outputs": [
    {
     "name": "stdout",
     "output_type": "stream",
     "text": [
      "torch.Size([1, 512, 512])\n",
      "7\n",
      "Train set size: 6986, Validation set size: 1497, Test set size: 1498\n"
     ]
    }
   ],
   "source": [
    "transform = transforms.Compose([\n",
    "    transforms.Grayscale(num_output_channels=1),\n",
    "    transforms.ToTensor(),  \n",
    "    transforms.Normalize(mean=[.5], std=[.5])  # Normalize for Grayscale\n",
    "])\n",
    "\n",
    "# --- 2. Load dataset ---\n",
    "dataset = datasets.ImageFolder(root=f'sliding_spectrograms_{spectro_len}_seconds', transform=transform)\n",
    "\n",
    "\n",
    "# Split into train, val, test (80/10/10)\n",
    "train_size = int(0.7 * len(dataset))\n",
    "val_size = int(0.15 * len(dataset))\n",
    "test_size = len(dataset) - train_size - val_size\n",
    "trainset, valset, testset = random_split(dataset, [train_size, val_size, test_size])\n",
    "\n",
    "#### DO NOT RE-RUN THIS CODE!!!\n",
    "torch.save(trainset.indices, f'train_indices_v{version_number}.pt')\n",
    "torch.save(valset.indices, f'val_indices_v{version_number}.pt')\n",
    "torch.save(testset.indices, f'test_indices_v{version_number}.pt')\n",
    "\n",
    "image, label = trainset[0] \n",
    "print(image.shape) # torch.Size([1, 28, 28])\n",
    "print(label) \n",
    "input_image_shape = image.shape\n",
    "\n",
    "print(f'Train set size: {len(trainset)}, Validation set size: {len(valset)}, Test set size: {len(testset)}')\n",
    "\n",
    "class FullDataset(torch.utils.data.Dataset):\n",
    "    def __init__(self, dataset):\n",
    "        self.dataset = dataset        \n",
    "        self.data, self.labels = self._load_data()\n",
    "        \n",
    "    def _load_data(self):\n",
    "        data = []\n",
    "        labels = []\n",
    "        \n",
    "        for i in range(len(self.dataset)):\n",
    "            x, y = self.dataset[i]\n",
    "            data.append(x)\n",
    "            labels.append(y)\n",
    "        \n",
    "        return torch.stack(data), torch.tensor(labels)\n",
    "    \n",
    "    def __len__(self):\n",
    "        return len(self.dataset)\n",
    "    \n",
    "    def __getitem__(self, idx):\n",
    "        return self.data[idx], self.labels[idx]\n",
    "    \n",
    "trainset = FullDataset(trainset)\n",
    "valset = FullDataset(valset)\n",
    "\n",
    "# Shuffle the data at the start of each epoch (only useful for training set)\n",
    "\n",
    "trainloader = DataLoader(trainset, batch_size=batchsize, shuffle=True)\n",
    "train_eval_loader = DataLoader(trainset, batch_size=batchsize, shuffle=False)\n",
    "valloader = DataLoader(valset, batch_size=batchsize, shuffle=False)\n",
    "testloader = DataLoader(testset, batch_size=batchsize, shuffle=False)"
   ]
  },
  {
   "cell_type": "markdown",
   "id": "bcf0c31b",
   "metadata": {},
   "source": [
    "# MODEL"
   ]
  },
  {
   "cell_type": "markdown",
   "id": "48889d5e",
   "metadata": {},
   "source": [
    "### RESNET 34"
   ]
  },
  {
   "cell_type": "code",
   "execution_count": 4,
   "id": "c7eec6b6",
   "metadata": {},
   "outputs": [
    {
     "name": "stdout",
     "output_type": "stream",
     "text": [
      "----------------------------------------------------------------\n",
      "        Layer (type)               Output Shape         Param #\n",
      "================================================================\n",
      "            Conv2d-1         [-1, 64, 259, 259]             256\n",
      "       BatchNorm2d-2         [-1, 64, 259, 259]             128\n",
      "              ReLU-3         [-1, 64, 259, 259]               0\n",
      "         MaxPool2d-4         [-1, 64, 129, 129]               0\n",
      "            Conv2d-5         [-1, 64, 129, 129]          36,864\n",
      "       BatchNorm2d-6         [-1, 64, 129, 129]             128\n",
      "              ReLU-7         [-1, 64, 129, 129]               0\n",
      "            Conv2d-8         [-1, 64, 129, 129]          36,864\n",
      "       BatchNorm2d-9         [-1, 64, 129, 129]             128\n",
      "    ResidualBlock-10         [-1, 64, 129, 129]               0\n",
      "           Conv2d-11           [-1, 64, 65, 65]          36,864\n",
      "      BatchNorm2d-12           [-1, 64, 65, 65]             128\n",
      "             ReLU-13           [-1, 64, 65, 65]               0\n",
      "           Conv2d-14           [-1, 64, 65, 65]          36,864\n",
      "      BatchNorm2d-15           [-1, 64, 65, 65]             128\n",
      "           Conv2d-16           [-1, 64, 65, 65]           4,096\n",
      "      BatchNorm2d-17           [-1, 64, 65, 65]             128\n",
      "    ResidualBlock-18           [-1, 64, 65, 65]               0\n",
      "           Conv2d-19          [-1, 128, 65, 65]          73,728\n",
      "      BatchNorm2d-20          [-1, 128, 65, 65]             256\n",
      "             ReLU-21          [-1, 128, 65, 65]               0\n",
      "           Conv2d-22          [-1, 128, 65, 65]         147,456\n",
      "      BatchNorm2d-23          [-1, 128, 65, 65]             256\n",
      "           Conv2d-24          [-1, 128, 65, 65]           8,192\n",
      "      BatchNorm2d-25          [-1, 128, 65, 65]             256\n",
      "    ResidualBlock-26          [-1, 128, 65, 65]               0\n",
      "           Conv2d-27          [-1, 128, 33, 33]         147,456\n",
      "      BatchNorm2d-28          [-1, 128, 33, 33]             256\n",
      "             ReLU-29          [-1, 128, 33, 33]               0\n",
      "           Conv2d-30          [-1, 128, 33, 33]         147,456\n",
      "      BatchNorm2d-31          [-1, 128, 33, 33]             256\n",
      "           Conv2d-32          [-1, 128, 33, 33]          16,384\n",
      "      BatchNorm2d-33          [-1, 128, 33, 33]             256\n",
      "    ResidualBlock-34          [-1, 128, 33, 33]               0\n",
      "           Conv2d-35          [-1, 256, 33, 33]         294,912\n",
      "      BatchNorm2d-36          [-1, 256, 33, 33]             512\n",
      "             ReLU-37          [-1, 256, 33, 33]               0\n",
      "           Conv2d-38          [-1, 256, 33, 33]         589,824\n",
      "      BatchNorm2d-39          [-1, 256, 33, 33]             512\n",
      "           Conv2d-40          [-1, 256, 33, 33]          32,768\n",
      "      BatchNorm2d-41          [-1, 256, 33, 33]             512\n",
      "    ResidualBlock-42          [-1, 256, 33, 33]               0\n",
      "           Conv2d-43          [-1, 256, 17, 17]         589,824\n",
      "      BatchNorm2d-44          [-1, 256, 17, 17]             512\n",
      "             ReLU-45          [-1, 256, 17, 17]               0\n",
      "           Conv2d-46          [-1, 256, 17, 17]         589,824\n",
      "      BatchNorm2d-47          [-1, 256, 17, 17]             512\n",
      "           Conv2d-48          [-1, 256, 17, 17]          65,536\n",
      "      BatchNorm2d-49          [-1, 256, 17, 17]             512\n",
      "    ResidualBlock-50          [-1, 256, 17, 17]               0\n",
      "           Conv2d-51          [-1, 512, 17, 17]       1,179,648\n",
      "      BatchNorm2d-52          [-1, 512, 17, 17]           1,024\n",
      "             ReLU-53          [-1, 512, 17, 17]               0\n",
      "           Conv2d-54          [-1, 512, 17, 17]       2,359,296\n",
      "      BatchNorm2d-55          [-1, 512, 17, 17]           1,024\n",
      "           Conv2d-56          [-1, 512, 17, 17]         131,072\n",
      "      BatchNorm2d-57          [-1, 512, 17, 17]           1,024\n",
      "    ResidualBlock-58          [-1, 512, 17, 17]               0\n",
      "           Conv2d-59            [-1, 512, 9, 9]       2,359,296\n",
      "      BatchNorm2d-60            [-1, 512, 9, 9]           1,024\n",
      "             ReLU-61            [-1, 512, 9, 9]               0\n",
      "           Conv2d-62            [-1, 512, 9, 9]       2,359,296\n",
      "      BatchNorm2d-63            [-1, 512, 9, 9]           1,024\n",
      "           Conv2d-64            [-1, 512, 9, 9]         262,144\n",
      "      BatchNorm2d-65            [-1, 512, 9, 9]           1,024\n",
      "    ResidualBlock-66            [-1, 512, 9, 9]               0\n",
      "        AvgPool2d-67            [-1, 512, 4, 4]               0\n",
      "           Linear-68                 [-1, 1000]       8,193,000\n",
      "             ReLU-69                 [-1, 1000]               0\n",
      "      BatchNorm1d-70                 [-1, 1000]           2,000\n",
      "        Dropout1d-71                 [-1, 1000]               0\n",
      "           Linear-72                   [-1, 10]          10,010\n",
      "================================================================\n",
      "Total params: 19,722,450\n",
      "Trainable params: 19,722,450\n",
      "Non-trainable params: 0\n",
      "----------------------------------------------------------------\n",
      "Input size (MB): 1.00\n",
      "Forward/backward pass size (MB): 246.35\n",
      "Params size (MB): 75.24\n",
      "Estimated Total Size (MB): 322.58\n",
      "----------------------------------------------------------------\n"
     ]
    }
   ],
   "source": [
    "class ResidualBlock(nn.Module):\n",
    "    def __init__(self,in_channels,out_channels,stride=1,kernel_size=3,padding=1,bias=False):\n",
    "        super(ResidualBlock,self).__init__()\n",
    "        self.cnn1 =nn.Sequential(\n",
    "            nn.Conv2d(in_channels,out_channels,kernel_size,stride,padding,bias=False),\n",
    "            nn.BatchNorm2d(out_channels),\n",
    "            nn.ReLU(True)\n",
    "        )\n",
    "        self.cnn2 = nn.Sequential(\n",
    "            nn.Conv2d(out_channels,out_channels,kernel_size,1,padding,bias=False),\n",
    "            nn.BatchNorm2d(out_channels)\n",
    "        )\n",
    "        if stride != 1 or in_channels != out_channels:\n",
    "            self.shortcut = nn.Sequential(\n",
    "                nn.Conv2d(in_channels,out_channels,kernel_size=1,stride=stride,bias=False),\n",
    "                nn.BatchNorm2d(out_channels)\n",
    "            )\n",
    "        else:\n",
    "            self.shortcut = nn.Sequential()\n",
    "            \n",
    "    def forward(self,x):\n",
    "        residual = x\n",
    "        x = self.cnn1(x)\n",
    "        x = self.cnn2(x)\n",
    "        x += self.shortcut(residual)\n",
    "        x = nn.ReLU(True)(x)\n",
    "        return x\n",
    "\n",
    "def classifier_mlp(n_in, n_hidden, n_classes, drate=0.25):\n",
    "    return nn.Sequential(\n",
    "        nn.Linear(n_in, n_hidden),\n",
    "        nn.ReLU(),\n",
    "        nn.BatchNorm1d(n_hidden),\n",
    "        nn.Dropout1d(p=drate),\n",
    "        nn.Linear(n_hidden, n_classes)\n",
    "    )\n",
    "\n",
    "class ResNet34(nn.Module):\n",
    "    def __init__(self):\n",
    "        super(ResNet34,self).__init__()\n",
    "        self.block1 = nn.Sequential(\n",
    "            nn.Conv2d(1,64,kernel_size=2,stride=2,padding=3,bias=False),\n",
    "            nn.BatchNorm2d(64),\n",
    "            nn.ReLU(True)\n",
    "        )\n",
    "        \n",
    "        self.block2 = nn.Sequential(\n",
    "            nn.MaxPool2d(kernel_size=2),\n",
    "            ResidualBlock(64,64),\n",
    "            ResidualBlock(64,64,2)\n",
    "        )\n",
    "        \n",
    "        self.block3 = nn.Sequential(\n",
    "            ResidualBlock(64,128),\n",
    "            ResidualBlock(128,128,2)\n",
    "        )\n",
    "        \n",
    "        self.block4 = nn.Sequential(\n",
    "            ResidualBlock(128,256),\n",
    "            ResidualBlock(256,256,2)\n",
    "        )\n",
    "        self.block5 = nn.Sequential(\n",
    "            ResidualBlock(256,512),\n",
    "            ResidualBlock(512,512,2)\n",
    "        )\n",
    "\n",
    "        self.avgpool = nn.AvgPool2d(2)\n",
    "\n",
    "        self.classifier = classifier_mlp(8192, 1000, 10)\n",
    "        \n",
    "\n",
    "    def forward(self,x):\n",
    "        x = self.block1(x)\n",
    "        x = self.block2(x)\n",
    "        x = self.block3(x)\n",
    "        x = self.block4(x)\n",
    "        x = self.block5(x)\n",
    "        x = self.avgpool(x)\n",
    "        x = x.view(x.size(0),-1)\n",
    "        x = self.classifier(x)\n",
    "        return x\n",
    "\n",
    "model = ResNet34()\n",
    "summary(model, input_image_shape)  # call summary before moving the model to a device...\n",
    "criterion = nn.CrossEntropyLoss() # includes softmax (for numerical stability)\n",
    "optimizer = optim.Adam(model.parameters(), lr=lr, weight_decay=reg_val)  # default learning rate is 0.001"
   ]
  },
  {
   "cell_type": "markdown",
   "metadata": {},
   "source": [
    "### VGG"
   ]
  },
  {
   "cell_type": "code",
   "execution_count": null,
   "id": "0b4bd1b7",
   "metadata": {},
   "outputs": [
    {
     "name": "stdout",
     "output_type": "stream",
     "text": [
      "2\n",
      "----------------------------------------------------------------\n",
      "        Layer (type)               Output Shape         Param #\n",
      "================================================================\n",
      "            Conv2d-1         [-1, 32, 512, 512]             320\n",
      "              ReLU-2         [-1, 32, 512, 512]               0\n",
      "       BatchNorm2d-3         [-1, 32, 512, 512]              64\n",
      "            Conv2d-4         [-1, 32, 512, 512]           9,248\n",
      "              ReLU-5         [-1, 32, 512, 512]               0\n",
      "       BatchNorm2d-6         [-1, 32, 512, 512]              64\n",
      "         MaxPool2d-7         [-1, 32, 256, 256]               0\n",
      "         Dropout2d-8         [-1, 32, 256, 256]               0\n",
      "            Conv2d-9         [-1, 64, 256, 256]          18,496\n",
      "             ReLU-10         [-1, 64, 256, 256]               0\n",
      "      BatchNorm2d-11         [-1, 64, 256, 256]             128\n",
      "           Conv2d-12         [-1, 64, 256, 256]          36,928\n",
      "             ReLU-13         [-1, 64, 256, 256]               0\n",
      "      BatchNorm2d-14         [-1, 64, 256, 256]             128\n",
      "        MaxPool2d-15         [-1, 64, 128, 128]               0\n",
      "        Dropout2d-16         [-1, 64, 128, 128]               0\n",
      "           Conv2d-17        [-1, 128, 128, 128]          73,856\n",
      "             ReLU-18        [-1, 128, 128, 128]               0\n",
      "      BatchNorm2d-19        [-1, 128, 128, 128]             256\n",
      "           Conv2d-20        [-1, 128, 128, 128]         147,584\n",
      "             ReLU-21        [-1, 128, 128, 128]               0\n",
      "      BatchNorm2d-22        [-1, 128, 128, 128]             256\n",
      "        MaxPool2d-23          [-1, 128, 64, 64]               0\n",
      "        Dropout2d-24          [-1, 128, 64, 64]               0\n",
      "           Conv2d-25          [-1, 256, 64, 64]         295,168\n",
      "             ReLU-26          [-1, 256, 64, 64]               0\n",
      "      BatchNorm2d-27          [-1, 256, 64, 64]             512\n",
      "           Conv2d-28          [-1, 256, 64, 64]         590,080\n",
      "             ReLU-29          [-1, 256, 64, 64]               0\n",
      "      BatchNorm2d-30          [-1, 256, 64, 64]             512\n",
      "        MaxPool2d-31          [-1, 256, 32, 32]               0\n",
      "        Dropout2d-32          [-1, 256, 32, 32]               0\n",
      "           Conv2d-33          [-1, 512, 32, 32]       1,180,160\n",
      "             ReLU-34          [-1, 512, 32, 32]               0\n",
      "      BatchNorm2d-35          [-1, 512, 32, 32]           1,024\n",
      "           Conv2d-36          [-1, 512, 32, 32]       2,359,808\n",
      "             ReLU-37          [-1, 512, 32, 32]               0\n",
      "      BatchNorm2d-38          [-1, 512, 32, 32]           1,024\n",
      "        MaxPool2d-39          [-1, 512, 16, 16]               0\n",
      "        Dropout2d-40          [-1, 512, 16, 16]               0\n",
      "           Linear-41                  [-1, 512]      67,109,376\n",
      "             ReLU-42                  [-1, 512]               0\n",
      "      BatchNorm1d-43                  [-1, 512]           1,024\n",
      "        Dropout1d-44                  [-1, 512]               0\n",
      "           Linear-45                   [-1, 10]           5,130\n",
      "================================================================\n",
      "Total params: 71,831,146\n",
      "Trainable params: 71,831,146\n",
      "Non-trainable params: 0\n",
      "----------------------------------------------------------------\n",
      "Input size (MB): 1.00\n",
      "Forward/backward pass size (MB): 806.02\n",
      "Params size (MB): 274.01\n",
      "Estimated Total Size (MB): 1081.03\n",
      "----------------------------------------------------------------\n"
     ]
    }
   ],
   "source": [
    "# Define the model\n",
    "# for an alternative approach, see: mini_vgg_like_torch_1.py\n",
    "def vgg_like_block(in_channels, num_filters, ksize=3, drate=0.25, pad='same'):\n",
    "    return nn.Sequential(\n",
    "        nn.Conv2d(in_channels, num_filters, kernel_size=ksize, padding=pad),\n",
    "        nn.ReLU(),\n",
    "        nn.BatchNorm2d(num_filters),\n",
    "        nn.Conv2d(num_filters, num_filters, kernel_size=ksize, padding=pad),\n",
    "        nn.ReLU(),\n",
    "        nn.BatchNorm2d(num_filters),\n",
    "        nn.MaxPool2d(kernel_size=2),\n",
    "        nn.Dropout2d(p=drate)\n",
    "    )\n",
    "\n",
    "def classifier_mlp(n_in, n_hidden, n_classes, drate=0.25):\n",
    "    return nn.Sequential(\n",
    "        # nn.Flatten(),\n",
    "        nn.Linear(n_in, n_hidden),\n",
    "        nn.ReLU(),\n",
    "        nn.BatchNorm1d(n_hidden),\n",
    "        nn.Dropout1d(p=drate),\n",
    "        nn.Linear(n_hidden, n_classes)\n",
    "    )\n",
    "\n",
    "class MiniVgg(nn.Module):\n",
    "    def __init__(self, b1_filters=32, b2_filters=64, b3_filters=128, b4_filters=256, b5_filters=512, H=512, W=512, fc_nodes=512, n_classes=10):\n",
    "        super().__init__()\n",
    "        self.block1 = vgg_like_block(1, b1_filters)\n",
    "        self.block2 = vgg_like_block(b1_filters, b2_filters)\n",
    "        self.block3 = vgg_like_block(b2_filters, b3_filters)\n",
    "        self.block4 = vgg_like_block(b3_filters, b4_filters)\n",
    "        self.block5 = vgg_like_block(b4_filters, b5_filters)\n",
    "        assert H % 4 == 0, f'the image height and width must be a multiple of 4: you passed H = {H}'\n",
    "        mlp_in_size = (H * W // 1024) * b5_filters  # the H and W are both reduced by 32 with 5 max-pool layers.\n",
    "        self.classifier = classifier_mlp(mlp_in_size, fc_nodes, n_classes)\n",
    "    \n",
    "    def forward(self, x):\n",
    "        batch_size = x.size(0)\n",
    "        print(batch_size)\n",
    "        y = self.block1(x)\n",
    "        y = self.block2(y)\n",
    "        y = self.block3(y)\n",
    "        y = self.block4(y)\n",
    "        y = self.block5(y)\n",
    "        y = y.view(batch_size, -1)\n",
    "        # y_rnn = y\n",
    "        y = self.classifier(y)\n",
    "        # print(\"GOT HERE\")\n",
    "        return y\n",
    "\n",
    "# model = MiniVgg()\n",
    "# print(model)\n",
    "# summary(model, input_image_shape)  # call summary before moving the model to a device...\n"
   ]
  },
  {
   "cell_type": "markdown",
   "id": "ae72c78d",
   "metadata": {},
   "source": [
    "# TRAIN/VALIDATE FUNC"
   ]
  },
  {
   "cell_type": "code",
   "execution_count": 5,
   "id": "cf09cb9a",
   "metadata": {},
   "outputs": [
    {
     "name": "stdout",
     "output_type": "stream",
     "text": [
      "Using device: cpu\n"
     ]
    }
   ],
   "source": [
    "# set the device to use and move model to device\n",
    "\n",
    "if USE_CPU:\n",
    "    device = torch.device(\"cpu\")\n",
    "elif torch.cuda.is_available():\n",
    "    device = torch.device(\"cuda:0\")\n",
    "elif torch.torch.backends.mps.is_available():\n",
    "    device = torch.device(\"mps\") # MPS acceleration is available on MacOS 12.3+\n",
    "else:\n",
    "    device = torch.device(\"cpu\")\n",
    "\n",
    "print(f'Using device: {device}')\n",
    "model.to(device) # Move model to device\n",
    "\n",
    "# Define function to call for each training epoch (one complete pass over the training set)\n",
    "def train(model, trainloader, criterion, optimizer, device):\n",
    "    model.train() # set model to training mode\n",
    "    running_loss = 0; running_acc = 0\n",
    "    with tqdm(total=len(trainloader), desc=f\"Train\", unit=\"batch\") as pbar:\n",
    "        for n_batch, (images, labels) in enumerate(trainloader): # Iterate over batches\n",
    "            images, labels = images.to(device), labels.to(device) # Move batch to device\n",
    "            optimizer.zero_grad()\n",
    "            output = model(images) # Forward pass\n",
    "            loss = criterion(output, labels) # Compute loss\n",
    "            loss.backward() # Backward pass\n",
    "            optimizer.step() # Update weights\n",
    "            running_loss += loss.item()\n",
    "            running_acc += (output.argmax(1) == labels).float().mean().item()\n",
    "            # pbar.set_postfix({'loss': loss.item(), 'acc': 100. * running_acc / (n_batch+1)})\n",
    "            pbar.set_postfix({'loss': running_loss / (n_batch+1), 'acc': 100. * running_acc / (n_batch+1)})\n",
    "            pbar.update() # Update progress bar\n",
    "    return running_loss / len(trainloader), running_acc / len(trainloader) # return loss and accuracy for this epoch\n",
    "\n",
    "# Define function to call for each validation epoch (one complete pass over the validation set)\n",
    "def validate(model, valloader, criterion, device, tag='Val'):\n",
    "    model.eval() # set model to evaluation mode (e.g. turn off dropout, batchnorm, etc.)\n",
    "    running_loss = 0; running_acc = 0\n",
    "    with torch.no_grad(): # no need to compute gradients for validation\n",
    "        with tqdm(total=len(valloader), desc=tag, unit=\"batch\") as pbar:\n",
    "            for n_batch, (images, labels) in enumerate(valloader): # Iterate over batches\n",
    "                images, labels = images.to(device), labels.to(device) # Move batch to device\n",
    "                output = model(images) # Forward pass\n",
    "                loss = criterion(output, labels) # Compute loss\n",
    "                running_loss += loss.item() \n",
    "                running_acc += (output.argmax(1) == labels).float().mean().item()\n",
    "                pbar.set_postfix({'loss': running_loss / (n_batch+1), 'acc': 100. * running_acc / (n_batch+1)})\n",
    "                pbar.update() # Update progress bar\n",
    "    return running_loss / len(valloader), running_acc / len(valloader)  # return loss and accuracy for this epoch"
   ]
  },
  {
   "cell_type": "markdown",
   "id": "f45da66c",
   "metadata": {},
   "source": [
    "# TRAINING"
   ]
  },
  {
   "cell_type": "code",
   "execution_count": 6,
   "id": "a9430ae5",
   "metadata": {},
   "outputs": [
    {
     "name": "stdout",
     "output_type": "stream",
     "text": [
      "\n",
      "Epoch 1 of 20\n"
     ]
    },
    {
     "name": "stderr",
     "output_type": "stream",
     "text": [
      "Train: 100%|██████████| 219/219 [18:08<00:00,  4.97s/batch, loss=1.77, acc=35.3]\n",
      "Train Eval: 100%|██████████| 219/219 [05:59<00:00,  1.64s/batch, loss=1.47, acc=52.1]\n",
      "Val: 100%|██████████| 47/47 [01:17<00:00,  1.64s/batch, loss=1.53, acc=49.3]\n"
     ]
    },
    {
     "name": "stdout",
     "output_type": "stream",
     "text": [
      "\n",
      "Epoch 2 of 20\n"
     ]
    },
    {
     "name": "stderr",
     "output_type": "stream",
     "text": [
      "Train: 100%|██████████| 219/219 [18:32<00:00,  5.08s/batch, loss=1.48, acc=46]  \n",
      "Train Eval: 100%|██████████| 219/219 [06:02<00:00,  1.65s/batch, loss=1.61, acc=42.2]\n",
      "Val: 100%|██████████| 47/47 [01:17<00:00,  1.65s/batch, loss=1.68, acc=41]  \n"
     ]
    },
    {
     "name": "stdout",
     "output_type": "stream",
     "text": [
      "\n",
      "Epoch 3 of 20\n"
     ]
    },
    {
     "name": "stderr",
     "output_type": "stream",
     "text": [
      "Train: 100%|██████████| 219/219 [18:39<00:00,  5.11s/batch, loss=1.33, acc=51.3]\n",
      "Train Eval: 100%|██████████| 219/219 [06:05<00:00,  1.67s/batch, loss=1.17, acc=59.4]\n",
      "Val: 100%|██████████| 47/47 [01:17<00:00,  1.66s/batch, loss=1.25, acc=55.7]\n"
     ]
    },
    {
     "name": "stdout",
     "output_type": "stream",
     "text": [
      "\n",
      "Epoch 4 of 20\n"
     ]
    },
    {
     "name": "stderr",
     "output_type": "stream",
     "text": [
      "Train: 100%|██████████| 219/219 [18:34<00:00,  5.09s/batch, loss=1.19, acc=56.9]\n",
      "Train Eval: 100%|██████████| 219/219 [06:02<00:00,  1.66s/batch, loss=1.01, acc=63.9]\n",
      "Val: 100%|██████████| 47/47 [01:17<00:00,  1.65s/batch, loss=1.17, acc=61.5]\n"
     ]
    },
    {
     "name": "stdout",
     "output_type": "stream",
     "text": [
      "\n",
      "Epoch 5 of 20\n"
     ]
    },
    {
     "name": "stderr",
     "output_type": "stream",
     "text": [
      "Train: 100%|██████████| 219/219 [18:36<00:00,  5.10s/batch, loss=1.09, acc=60.1]\n",
      "Train Eval: 100%|██████████| 219/219 [06:03<00:00,  1.66s/batch, loss=0.677, acc=76.3]\n",
      "Val: 100%|██████████| 47/47 [01:17<00:00,  1.66s/batch, loss=0.839, acc=69.5]\n"
     ]
    },
    {
     "name": "stdout",
     "output_type": "stream",
     "text": [
      "\n",
      "Epoch 6 of 20\n"
     ]
    },
    {
     "name": "stderr",
     "output_type": "stream",
     "text": [
      "Train: 100%|██████████| 219/219 [18:37<00:00,  5.10s/batch, loss=1.01, acc=63]   \n",
      "Train Eval: 100%|██████████| 219/219 [06:05<00:00,  1.67s/batch, loss=0.873, acc=69.4]\n",
      "Val: 100%|██████████| 47/47 [01:17<00:00,  1.66s/batch, loss=1.08, acc=66.1] \n"
     ]
    },
    {
     "name": "stdout",
     "output_type": "stream",
     "text": [
      "\n",
      "Epoch 7 of 20\n"
     ]
    },
    {
     "name": "stderr",
     "output_type": "stream",
     "text": [
      "Train: 100%|██████████| 219/219 [18:39<00:00,  5.11s/batch, loss=0.939, acc=64.4]\n",
      "Train Eval: 100%|██████████| 219/219 [06:03<00:00,  1.66s/batch, loss=0.597, acc=78.1]\n",
      "Val: 100%|██████████| 47/47 [01:18<00:00,  1.66s/batch, loss=0.835, acc=71.5]\n"
     ]
    },
    {
     "name": "stdout",
     "output_type": "stream",
     "text": [
      "\n",
      "Epoch 8 of 20\n"
     ]
    },
    {
     "name": "stderr",
     "output_type": "stream",
     "text": [
      "Train: 100%|██████████| 219/219 [18:35<00:00,  5.10s/batch, loss=0.893, acc=66.9]\n",
      "Train Eval: 100%|██████████| 219/219 [06:03<00:00,  1.66s/batch, loss=0.537, acc=81.3]\n",
      "Val: 100%|██████████| 47/47 [01:17<00:00,  1.66s/batch, loss=0.789, acc=72.2]\n"
     ]
    },
    {
     "name": "stdout",
     "output_type": "stream",
     "text": [
      "\n",
      "Epoch 9 of 20\n"
     ]
    },
    {
     "name": "stderr",
     "output_type": "stream",
     "text": [
      "Train: 100%|██████████| 219/219 [18:46<00:00,  5.14s/batch, loss=0.834, acc=68.9]\n",
      "Train Eval: 100%|██████████| 219/219 [06:01<00:00,  1.65s/batch, loss=0.342, acc=89.5]\n",
      "Val: 100%|██████████| 47/47 [01:17<00:00,  1.65s/batch, loss=0.571, acc=80.6]\n"
     ]
    },
    {
     "name": "stdout",
     "output_type": "stream",
     "text": [
      "\n",
      "Epoch 10 of 20\n"
     ]
    },
    {
     "name": "stderr",
     "output_type": "stream",
     "text": [
      "Train: 100%|██████████| 219/219 [18:51<00:00,  5.17s/batch, loss=0.79, acc=70]   \n",
      "Train Eval: 100%|██████████| 219/219 [06:02<00:00,  1.66s/batch, loss=0.271, acc=91.6]\n",
      "Val: 100%|██████████| 47/47 [01:17<00:00,  1.65s/batch, loss=0.55, acc=81.1] \n"
     ]
    },
    {
     "name": "stdout",
     "output_type": "stream",
     "text": [
      "\n",
      "Epoch 11 of 20\n",
      "Reducing learning rate from 0.0005 to 0.000125\n"
     ]
    },
    {
     "name": "stderr",
     "output_type": "stream",
     "text": [
      "Train: 100%|██████████| 219/219 [18:42<00:00,  5.13s/batch, loss=0.673, acc=74.6]\n",
      "Train Eval: 100%|██████████| 219/219 [06:00<00:00,  1.65s/batch, loss=0.0667, acc=99.5]\n",
      "Val: 100%|██████████| 47/47 [01:17<00:00,  1.64s/batch, loss=0.31, acc=90.1] \n"
     ]
    },
    {
     "name": "stdout",
     "output_type": "stream",
     "text": [
      "\n",
      "Epoch 12 of 20\n"
     ]
    },
    {
     "name": "stderr",
     "output_type": "stream",
     "text": [
      "Train: 100%|██████████| 219/219 [18:43<00:00,  5.13s/batch, loss=0.627, acc=76.4]\n",
      "Train Eval: 100%|██████████| 219/219 [06:03<00:00,  1.66s/batch, loss=0.043, acc=99.8] \n",
      "Val: 100%|██████████| 47/47 [01:18<00:00,  1.66s/batch, loss=0.296, acc=90.8]\n"
     ]
    },
    {
     "name": "stdout",
     "output_type": "stream",
     "text": [
      "\n",
      "Epoch 13 of 20\n"
     ]
    },
    {
     "name": "stderr",
     "output_type": "stream",
     "text": [
      "Train: 100%|██████████| 219/219 [18:48<00:00,  5.15s/batch, loss=0.607, acc=76.6]\n",
      "Train Eval: 100%|██████████| 219/219 [06:04<00:00,  1.66s/batch, loss=0.0359, acc=99.8]\n",
      "Val: 100%|██████████| 47/47 [01:17<00:00,  1.65s/batch, loss=0.306, acc=90.1]\n"
     ]
    },
    {
     "name": "stdout",
     "output_type": "stream",
     "text": [
      "\n",
      "Epoch 14 of 20\n"
     ]
    },
    {
     "name": "stderr",
     "output_type": "stream",
     "text": [
      "Train: 100%|██████████| 219/219 [18:44<00:00,  5.14s/batch, loss=0.597, acc=77.3]\n",
      "Train Eval: 100%|██████████| 219/219 [06:02<00:00,  1.66s/batch, loss=0.0256, acc=99.9]\n",
      "Val: 100%|██████████| 47/47 [01:17<00:00,  1.66s/batch, loss=0.27, acc=91.4] \n"
     ]
    },
    {
     "name": "stdout",
     "output_type": "stream",
     "text": [
      "\n",
      "Epoch 15 of 20\n"
     ]
    },
    {
     "name": "stderr",
     "output_type": "stream",
     "text": [
      "Train: 100%|██████████| 219/219 [18:49<00:00,  5.16s/batch, loss=0.565, acc=78.3]\n",
      "Train Eval: 100%|██████████| 219/219 [06:04<00:00,  1.66s/batch, loss=0.0212, acc=99.9]\n",
      "Val: 100%|██████████| 47/47 [01:17<00:00,  1.66s/batch, loss=0.286, acc=90.9]\n"
     ]
    },
    {
     "name": "stdout",
     "output_type": "stream",
     "text": [
      "\n",
      "Epoch 16 of 20\n"
     ]
    },
    {
     "name": "stderr",
     "output_type": "stream",
     "text": [
      "Train: 100%|██████████| 219/219 [18:44<00:00,  5.14s/batch, loss=0.563, acc=78.1]\n",
      "Train Eval: 100%|██████████| 219/219 [05:59<00:00,  1.64s/batch, loss=0.0215, acc=99.9]\n",
      "Val: 100%|██████████| 47/47 [01:17<00:00,  1.64s/batch, loss=0.289, acc=90.4]\n"
     ]
    },
    {
     "name": "stdout",
     "output_type": "stream",
     "text": [
      "\n",
      "Epoch 17 of 20\n"
     ]
    },
    {
     "name": "stderr",
     "output_type": "stream",
     "text": [
      "Train: 100%|██████████| 219/219 [18:30<00:00,  5.07s/batch, loss=0.602, acc=76.9]\n",
      "Train Eval: 100%|██████████| 219/219 [05:58<00:00,  1.64s/batch, loss=0.017, acc=99.9] \n",
      "Val: 100%|██████████| 47/47 [01:16<00:00,  1.63s/batch, loss=0.277, acc=91]  \n"
     ]
    },
    {
     "name": "stdout",
     "output_type": "stream",
     "text": [
      "\n",
      "Epoch 18 of 20\n"
     ]
    },
    {
     "name": "stderr",
     "output_type": "stream",
     "text": [
      "Train: 100%|██████████| 219/219 [18:33<00:00,  5.09s/batch, loss=0.566, acc=78.2]\n",
      "Train Eval: 100%|██████████| 219/219 [05:59<00:00,  1.64s/batch, loss=0.019, acc=99.8] \n",
      "Val: 100%|██████████| 47/47 [01:17<00:00,  1.64s/batch, loss=0.283, acc=91.2]\n"
     ]
    },
    {
     "name": "stdout",
     "output_type": "stream",
     "text": [
      "\n",
      "Epoch 19 of 20\n"
     ]
    },
    {
     "name": "stderr",
     "output_type": "stream",
     "text": [
      "Train: 100%|██████████| 219/219 [18:29<00:00,  5.07s/batch, loss=0.589, acc=77.4]\n",
      "Train Eval: 100%|██████████| 219/219 [05:57<00:00,  1.63s/batch, loss=0.0177, acc=99.8]\n",
      "Val: 100%|██████████| 47/47 [01:16<00:00,  1.63s/batch, loss=0.286, acc=91.2]\n"
     ]
    },
    {
     "name": "stdout",
     "output_type": "stream",
     "text": [
      "\n",
      "Epoch 20 of 20\n"
     ]
    },
    {
     "name": "stderr",
     "output_type": "stream",
     "text": [
      "Train: 100%|██████████| 219/219 [18:28<00:00,  5.06s/batch, loss=0.608, acc=76.5]\n",
      "Train Eval: 100%|██████████| 219/219 [05:59<00:00,  1.64s/batch, loss=0.0412, acc=99.3]\n",
      "Val: 100%|██████████| 47/47 [01:16<00:00,  1.63s/batch, loss=0.347, acc=89]  \n"
     ]
    },
    {
     "data": {
      "image/png": "[encoded data removed]",
      "text/plain": [
       "<Figure size 640x480 with 1 Axes>"
      ]
     },
     "metadata": {},
     "output_type": "display_data"
    },
    {
     "data": {
      "image/png": "[encoded data removed]",
      "text/plain": [
       "<Figure size 640x480 with 1 Axes>"
      ]
     },
     "metadata": {},
     "output_type": "display_data"
    },
    {
     "data": {
      "text/plain": [
       "ResNet34(\n",
       "  (block1): Sequential(\n",
       "    (0): Conv2d(1, 64, kernel_size=(2, 2), stride=(2, 2), padding=(3, 3), bias=False)\n",
       "    (1): BatchNorm2d(64, eps=1e-05, momentum=0.1, affine=True, track_running_stats=True)\n",
       "    (2): ReLU(inplace=True)\n",
       "  )\n",
       "  (block2): Sequential(\n",
       "    (0): MaxPool2d(kernel_size=2, stride=2, padding=0, dilation=1, ceil_mode=False)\n",
       "    (1): ResidualBlock(\n",
       "      (cnn1): Sequential(\n",
       "        (0): Conv2d(64, 64, kernel_size=(3, 3), stride=(1, 1), padding=(1, 1), bias=False)\n",
       "        (1): BatchNorm2d(64, eps=1e-05, momentum=0.1, affine=True, track_running_stats=True)\n",
       "        (2): ReLU(inplace=True)\n",
       "      )\n",
       "      (cnn2): Sequential(\n",
       "        (0): Conv2d(64, 64, kernel_size=(3, 3), stride=(1, 1), padding=(1, 1), bias=False)\n",
       "        (1): BatchNorm2d(64, eps=1e-05, momentum=0.1, affine=True, track_running_stats=True)\n",
       "      )\n",
       "      (shortcut): Sequential()\n",
       "    )\n",
       "    (2): ResidualBlock(\n",
       "      (cnn1): Sequential(\n",
       "        (0): Conv2d(64, 64, kernel_size=(3, 3), stride=(2, 2), padding=(1, 1), bias=False)\n",
       "        (1): BatchNorm2d(64, eps=1e-05, momentum=0.1, affine=True, track_running_stats=True)\n",
       "        (2): ReLU(inplace=True)\n",
       "      )\n",
       "      (cnn2): Sequential(\n",
       "        (0): Conv2d(64, 64, kernel_size=(3, 3), stride=(1, 1), padding=(1, 1), bias=False)\n",
       "        (1): BatchNorm2d(64, eps=1e-05, momentum=0.1, affine=True, track_running_stats=True)\n",
       "      )\n",
       "      (shortcut): Sequential(\n",
       "        (0): Conv2d(64, 64, kernel_size=(1, 1), stride=(2, 2), bias=False)\n",
       "        (1): BatchNorm2d(64, eps=1e-05, momentum=0.1, affine=True, track_running_stats=True)\n",
       "      )\n",
       "    )\n",
       "  )\n",
       "  (block3): Sequential(\n",
       "    (0): ResidualBlock(\n",
       "      (cnn1): Sequential(\n",
       "        (0): Conv2d(64, 128, kernel_size=(3, 3), stride=(1, 1), padding=(1, 1), bias=False)\n",
       "        (1): BatchNorm2d(128, eps=1e-05, momentum=0.1, affine=True, track_running_stats=True)\n",
       "        (2): ReLU(inplace=True)\n",
       "      )\n",
       "      (cnn2): Sequential(\n",
       "        (0): Conv2d(128, 128, kernel_size=(3, 3), stride=(1, 1), padding=(1, 1), bias=False)\n",
       "        (1): BatchNorm2d(128, eps=1e-05, momentum=0.1, affine=True, track_running_stats=True)\n",
       "      )\n",
       "      (shortcut): Sequential(\n",
       "        (0): Conv2d(64, 128, kernel_size=(1, 1), stride=(1, 1), bias=False)\n",
       "        (1): BatchNorm2d(128, eps=1e-05, momentum=0.1, affine=True, track_running_stats=True)\n",
       "      )\n",
       "    )\n",
       "    (1): ResidualBlock(\n",
       "      (cnn1): Sequential(\n",
       "        (0): Conv2d(128, 128, kernel_size=(3, 3), stride=(2, 2), padding=(1, 1), bias=False)\n",
       "        (1): BatchNorm2d(128, eps=1e-05, momentum=0.1, affine=True, track_running_stats=True)\n",
       "        (2): ReLU(inplace=True)\n",
       "      )\n",
       "      (cnn2): Sequential(\n",
       "        (0): Conv2d(128, 128, kernel_size=(3, 3), stride=(1, 1), padding=(1, 1), bias=False)\n",
       "        (1): BatchNorm2d(128, eps=1e-05, momentum=0.1, affine=True, track_running_stats=True)\n",
       "      )\n",
       "      (shortcut): Sequential(\n",
       "        (0): Conv2d(128, 128, kernel_size=(1, 1), stride=(2, 2), bias=False)\n",
       "        (1): BatchNorm2d(128, eps=1e-05, momentum=0.1, affine=True, track_running_stats=True)\n",
       "      )\n",
       "    )\n",
       "  )\n",
       "  (block4): Sequential(\n",
       "    (0): ResidualBlock(\n",
       "      (cnn1): Sequential(\n",
       "        (0): Conv2d(128, 256, kernel_size=(3, 3), stride=(1, 1), padding=(1, 1), bias=False)\n",
       "        (1): BatchNorm2d(256, eps=1e-05, momentum=0.1, affine=True, track_running_stats=True)\n",
       "        (2): ReLU(inplace=True)\n",
       "      )\n",
       "      (cnn2): Sequential(\n",
       "        (0): Conv2d(256, 256, kernel_size=(3, 3), stride=(1, 1), padding=(1, 1), bias=False)\n",
       "        (1): BatchNorm2d(256, eps=1e-05, momentum=0.1, affine=True, track_running_stats=True)\n",
       "      )\n",
       "      (shortcut): Sequential(\n",
       "        (0): Conv2d(128, 256, kernel_size=(1, 1), stride=(1, 1), bias=False)\n",
       "        (1): BatchNorm2d(256, eps=1e-05, momentum=0.1, affine=True, track_running_stats=True)\n",
       "      )\n",
       "    )\n",
       "    (1): ResidualBlock(\n",
       "      (cnn1): Sequential(\n",
       "        (0): Conv2d(256, 256, kernel_size=(3, 3), stride=(2, 2), padding=(1, 1), bias=False)\n",
       "        (1): BatchNorm2d(256, eps=1e-05, momentum=0.1, affine=True, track_running_stats=True)\n",
       "        (2): ReLU(inplace=True)\n",
       "      )\n",
       "      (cnn2): Sequential(\n",
       "        (0): Conv2d(256, 256, kernel_size=(3, 3), stride=(1, 1), padding=(1, 1), bias=False)\n",
       "        (1): BatchNorm2d(256, eps=1e-05, momentum=0.1, affine=True, track_running_stats=True)\n",
       "      )\n",
       "      (shortcut): Sequential(\n",
       "        (0): Conv2d(256, 256, kernel_size=(1, 1), stride=(2, 2), bias=False)\n",
       "        (1): BatchNorm2d(256, eps=1e-05, momentum=0.1, affine=True, track_running_stats=True)\n",
       "      )\n",
       "    )\n",
       "  )\n",
       "  (block5): Sequential(\n",
       "    (0): ResidualBlock(\n",
       "      (cnn1): Sequential(\n",
       "        (0): Conv2d(256, 512, kernel_size=(3, 3), stride=(1, 1), padding=(1, 1), bias=False)\n",
       "        (1): BatchNorm2d(512, eps=1e-05, momentum=0.1, affine=True, track_running_stats=True)\n",
       "        (2): ReLU(inplace=True)\n",
       "      )\n",
       "      (cnn2): Sequential(\n",
       "        (0): Conv2d(512, 512, kernel_size=(3, 3), stride=(1, 1), padding=(1, 1), bias=False)\n",
       "        (1): BatchNorm2d(512, eps=1e-05, momentum=0.1, affine=True, track_running_stats=True)\n",
       "      )\n",
       "      (shortcut): Sequential(\n",
       "        (0): Conv2d(256, 512, kernel_size=(1, 1), stride=(1, 1), bias=False)\n",
       "        (1): BatchNorm2d(512, eps=1e-05, momentum=0.1, affine=True, track_running_stats=True)\n",
       "      )\n",
       "    )\n",
       "    (1): ResidualBlock(\n",
       "      (cnn1): Sequential(\n",
       "        (0): Conv2d(512, 512, kernel_size=(3, 3), stride=(2, 2), padding=(1, 1), bias=False)\n",
       "        (1): BatchNorm2d(512, eps=1e-05, momentum=0.1, affine=True, track_running_stats=True)\n",
       "        (2): ReLU(inplace=True)\n",
       "      )\n",
       "      (cnn2): Sequential(\n",
       "        (0): Conv2d(512, 512, kernel_size=(3, 3), stride=(1, 1), padding=(1, 1), bias=False)\n",
       "        (1): BatchNorm2d(512, eps=1e-05, momentum=0.1, affine=True, track_running_stats=True)\n",
       "      )\n",
       "      (shortcut): Sequential(\n",
       "        (0): Conv2d(512, 512, kernel_size=(1, 1), stride=(2, 2), bias=False)\n",
       "        (1): BatchNorm2d(512, eps=1e-05, momentum=0.1, affine=True, track_running_stats=True)\n",
       "      )\n",
       "    )\n",
       "  )\n",
       "  (avgpool): AvgPool2d(kernel_size=2, stride=2, padding=0)\n",
       "  (classifier): Sequential(\n",
       "    (0): Linear(in_features=8192, out_features=1000, bias=True)\n",
       "    (1): ReLU()\n",
       "    (2): BatchNorm1d(1000, eps=1e-05, momentum=0.1, affine=True, track_running_stats=True)\n",
       "    (3): Dropout1d(p=0.25, inplace=False)\n",
       "    (4): Linear(in_features=1000, out_features=10, bias=True)\n",
       "  )\n",
       ")"
      ]
     },
     "execution_count": 6,
     "metadata": {},
     "output_type": "execute_result"
    }
   ],
   "source": [
    "# Run training and validation loop\n",
    "# Save the best model based on validation accuracy\n",
    "n_epochs = 20\n",
    "best_acc = -1\n",
    "train_loss_history = []; train_acc_history = []\n",
    "val_loss_history = []; val_acc_history = []\n",
    "for epoch in range(n_epochs): # Iterate over epochs\n",
    "    print(f\"\\nEpoch {epoch+1} of {n_epochs}\")\n",
    "    if epoch == n_epochs // 2:\n",
    "        lr = optimizer.param_groups[0]['lr']\n",
    "        print(f'Reducing learning rate from {lr} to {lr/4}')\n",
    "        optimizer.param_groups[0]['lr'] /= 4\n",
    "    train_loss, train_acc  = train(model, trainloader, criterion, optimizer, device) # Train\n",
    "    train_loss, train_acc  = validate(model, train_eval_loader, criterion, device, tag='Train Eval') # Evaluate on Train data\n",
    "    val_loss, val_acc = validate(model, valloader, criterion, device) # Validate\n",
    "    train_loss_history.append(train_loss); train_acc_history.append(train_acc)\n",
    "    val_loss_history.append(val_loss); val_acc_history.append(val_acc)\n",
    "    with open(f'train_loss_history{version_number}.pkl', 'wb') as f:\n",
    "        pickle.dump(train_loss_history, f)\n",
    "    with open(f'train_acc_history{version_number}.pkl', 'wb') as f:\n",
    "        pickle.dump(train_acc_history, f)\n",
    "    with open(f'val_loss_history{version_number}.pkl', 'wb') as f:\n",
    "        pickle.dump(val_loss_history, f)\n",
    "    with open(f'val_acc_history{version_number}.pkl', 'wb') as f:\n",
    "        pickle.dump(val_acc_history, f)\n",
    "    if val_acc > best_acc: # Save best model\n",
    "        best_acc = val_acc\n",
    "        torch.save(model.state_dict(), f\"best_model_v{version_number}.pt\") # saving model parameters (\"state_dict\") saves memory and is faster than saving the entire model\n",
    "\n",
    "epochs = torch.arange(n_epochs)\n",
    "\n",
    "# plot training and validation loss\n",
    "plt.figure()\n",
    "plt.plot(epochs, train_loss_history, label='train_loss')\n",
    "plt.plot(epochs, val_loss_history, label='val_loss')\n",
    "plt.xlabel('epochs')\n",
    "plt.ylabel('Multiclass Cross Entropy Loss')\n",
    "plt.title(f'Loss with miniVGG model')\n",
    "plt.legend()\n",
    "plt.show()\n",
    "\n",
    "# plot training and validation accuracy\n",
    "plt.figure()\n",
    "plt.plot(epochs, train_acc_history, label='train_acc')\n",
    "plt.plot(epochs, val_acc_history, label='val_acc')\n",
    "plt.xlabel('epochs')\n",
    "plt.ylabel('Accuracy')\n",
    "plt.title(f'Accuracy with miniVGG model; Regularizer: {reg_val : 3.2g}')\n",
    "plt.legend()\n",
    "plt.show()\n",
    "\n",
    "\n",
    "model.eval() # set model to evaluation mode "
   ]
  },
  {
   "cell_type": "markdown",
   "id": "b6d6b7ba",
   "metadata": {},
   "source": [
    "# EVALUATION & ACCURACY"
   ]
  },
  {
   "cell_type": "code",
   "execution_count": 7,
   "id": "8af79a5b",
   "metadata": {},
   "outputs": [
    {
     "name": "stderr",
     "output_type": "stream",
     "text": [
      "Val: 100%|██████████| 47/47 [01:31<00:00,  1.94s/batch, loss=0.323, acc=88.5]"
     ]
    },
    {
     "name": "stdout",
     "output_type": "stream",
     "text": [
      "Test accuracy: 0.8847\n"
     ]
    },
    {
     "name": "stderr",
     "output_type": "stream",
     "text": [
      "\n"
     ]
    }
   ],
   "source": [
    "# Load the best model and evaluate on test set\n",
    "model.load_state_dict(torch.load(f\"best_model_v{version_number}.pt\"))\n",
    "test_loss, test_acc = validate(model, testloader, criterion, device)\n",
    "print(f\"Test accuracy: {test_acc:.4f}\")"
   ]
  },
  {
   "cell_type": "code",
   "execution_count": 8,
   "id": "f1a96039",
   "metadata": {},
   "outputs": [
    {
     "data": {
      "image/png": "[encoded data removed]",
      "text/plain": [
       "<Figure size 800x600 with 2 Axes>"
      ]
     },
     "metadata": {},
     "output_type": "display_data"
    }
   ],
   "source": [
    "from sklearn.metrics import confusion_matrix\n",
    "import seaborn as sns\n",
    " \n",
    "# model.load_state_dict(torch.load(\"best_model.pt\"))\n",
    "\n",
    "all_preds = []\n",
    "all_labels = []\n",
    "genre_list = [\"blues\", \"classical\", \"country\", \"disco\", \"hiphop\", \"jazz\", \"metal\", \"pop\", \"reggae\", \"rock\"]\n",
    "\n",
    "for inputs, labels in testloader:  # Replace `testloader` with your DataLoader\n",
    "        inputs, labels = inputs.to(device), labels.to(device)  # Move to the appropriate device (GPU or CPU)\n",
    "        \n",
    "        # Forward pass\n",
    "        outputs = model(inputs)\n",
    "        \n",
    "        # Get the predictions\n",
    "        _, preds = torch.max(outputs, 1)\n",
    "        \n",
    "        # Store all predictions and labels\n",
    "        all_preds.extend(preds.cpu().numpy())  # Convert to numpy and add to list\n",
    "        all_labels.extend(labels.cpu().numpy())  # Convert to numpy and add to list\n",
    "\n",
    "\n",
    "# Create the confusion matrix\n",
    "cm = confusion_matrix(all_labels, all_preds)\n",
    "class_labels = [genre_list[label] for label in all_labels]\n",
    "\n",
    "# Plot the confusion matrix using seaborn\n",
    "plt.figure(figsize=(8, 6))\n",
    "sns.heatmap(cm, annot=True, fmt='d', cmap='Blues', xticklabels=genre_list, yticklabels=genre_list)\n",
    "plt.xlabel('Predicted')\n",
    "plt.ylabel('True')\n",
    "plt.title('Confusion Matrix')\n",
    "plt.show()"
   ]
  },
  {
   "cell_type": "code",
   "execution_count": null,
   "id": "909d7103",
   "metadata": {},
   "outputs": [],
   "source": [
    "model.train()\n",
    "\n",
    "torch.save(model.state_dict(), f\"last_model_v{version_number}.pt\")"
   ]
  },
  {
   "cell_type": "code",
   "execution_count": 12,
   "id": "a3800e4c",
   "metadata": {},
   "outputs": [
    {
     "name": "stderr",
     "output_type": "stream",
     "text": [
      "Val: 100%|██████████| 47/47 [01:25<00:00,  1.82s/batch, loss=0.323, acc=88.5]"
     ]
    },
    {
     "name": "stdout",
     "output_type": "stream",
     "text": [
      "Test accuracy: 0.8847\n"
     ]
    },
    {
     "name": "stderr",
     "output_type": "stream",
     "text": [
      "\n"
     ]
    }
   ],
   "source": [
    "# Load the best model and evaluate on test set\n",
    "model.load_state_dict(torch.load(f\"last_model_v{version_number}.pt\"))\n",
    "test_loss, test_acc = validate(model, testloader, criterion, device)\n",
    "print(f\"Test accuracy: {test_acc:.4f}\")"
   ]
  },
  {
   "cell_type": "markdown",
   "id": "a333e7d0",
   "metadata": {},
   "source": [
    "# RECREATE DATASET"
   ]
  },
  {
   "cell_type": "code",
   "execution_count": null,
   "id": "5c46320f",
   "metadata": {},
   "outputs": [],
   "source": [
    "# Recreating Test Set \n",
    "\n",
    "from torch.utils.data import Subset\n",
    "\n",
    "transform = transforms.Compose([\n",
    "    transforms.ToTensor(),  # Converts [0-255] RGBA to [0.0-1.0], shape [3, H, W]\n",
    "    transforms.Normalize(mean=[.5,.5,.5], std=[.5,.5,.5])  # Normalize for RGB\n",
    "])\n",
    "\n",
    "# Rebuild the original dataset\n",
    "dataset = datasets.ImageFolder(root=f'sliding_spectrograms_{spectro_len}_seconds', transform=transform)\n",
    "\n",
    "# Load indices\n",
    "train_indices = torch.load(f'train_indices_v{version_number}.pt')\n",
    "val_indices = torch.load(f'val_indices_v{version_number}.pt')\n",
    "test_indices = torch.load(f'test_indices_v{version_number}.pt')\n",
    "\n",
    "# Recreate test subset\n",
    "trainset = Subset(dataset, train_indices)\n",
    "valset = Subset(dataset, val_indices)\n",
    "testset = Subset(dataset, test_indices)\n",
    "\n",
    "batchsize = 32\n",
    "\n",
    "# Create DataLoader\n",
    "# trainloader = DataLoader(trainset, batch_size=batchsize, shuffle=True)\n",
    "# train_eval_loader = DataLoader(trainset, batch_size=batchsize, shuffle=False)\n",
    "# valloader = DataLoader(valset, batch_size=batchsize, shuffle=False)\n",
    "testloader = DataLoader(testset, batch_size=batchsize, shuffle=False)"
   ]
  },
  {
   "cell_type": "markdown",
   "id": "35753f6d",
   "metadata": {},
   "source": [
    "# LOADING ACC & LOSS HISTORY"
   ]
  },
  {
   "cell_type": "code",
   "execution_count": null,
   "id": "38843ea3",
   "metadata": {},
   "outputs": [],
   "source": [
    "with open(f'train_loss_history{version_number}.pkl', 'rb') as f:\n",
    "    train_loss_history = pickle.load(f)\n",
    "with open(f'train_acc_history{version_number}.pkl', 'rb') as f:\n",
    "    train_acc_history = pickle.load(f)\n",
    "with open(f'val_loss_history{version_number}.pkl', 'rb') as f:\n",
    "    val_loss_history = pickle.load(f)\n",
    "with open(f'val_acc_history{version_number}.pkl', 'rb') as f:\n",
    "    val_acc_history = pickle.load(f)"
   ]
  },
  {
   "cell_type": "markdown",
   "id": "04b56dbc",
   "metadata": {},
   "source": [
    "CONFUSION MATRIX"
   ]
  },
  {
   "cell_type": "code",
   "execution_count": null,
   "metadata": {},
   "outputs": [],
   "source": []
  }
 ],
 "metadata": {
  "kernelspec": {
   "display_name": "Python 3",
   "language": "python",
   "name": "python3"
  },
  "language_info": {
   "codemirror_mode": {
    "name": "ipython",
    "version": 3
   },
   "file_extension": ".py",
   "mimetype": "text/x-python",
   "name": "python",
   "nbconvert_exporter": "python",
   "pygments_lexer": "ipython3",
   "version": "3.9.21"
  }
 },
 "nbformat": 4,
 "nbformat_minor": 5
}
