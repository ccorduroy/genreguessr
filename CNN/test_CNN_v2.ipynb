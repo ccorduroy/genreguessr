{
 "cells": [
  {
   "cell_type": "code",
   "execution_count": null,
   "id": "72816d67",
   "metadata": {},
   "outputs": [
    {
     "name": "stdout",
     "output_type": "stream",
     "text": [
      "torch.Size([3, 480, 640])\n",
      "0\n",
      "torch.Size([3, 480, 640])\n",
      "9\n",
      "Train set size: 792, Validation set size: 99, Test set size: 99\n",
      "MiniVgg(\n",
      "  (block1): Sequential(\n",
      "    (0): Conv2d(3, 32, kernel_size=(3, 3), stride=(1, 1), padding=same)\n",
      "    (1): ReLU()\n",
      "    (2): BatchNorm2d(32, eps=1e-05, momentum=0.1, affine=True, track_running_stats=True)\n",
      "    (3): Conv2d(32, 32, kernel_size=(3, 3), stride=(1, 1), padding=same)\n",
      "    (4): ReLU()\n",
      "    (5): BatchNorm2d(32, eps=1e-05, momentum=0.1, affine=True, track_running_stats=True)\n",
      "    (6): MaxPool2d(kernel_size=2, stride=2, padding=0, dilation=1, ceil_mode=False)\n",
      "    (7): Dropout2d(p=0.25, inplace=False)\n",
      "  )\n",
      "  (block2): Sequential(\n",
      "    (0): Conv2d(32, 64, kernel_size=(3, 3), stride=(1, 1), padding=same)\n",
      "    (1): ReLU()\n",
      "    (2): BatchNorm2d(64, eps=1e-05, momentum=0.1, affine=True, track_running_stats=True)\n",
      "    (3): Conv2d(64, 64, kernel_size=(3, 3), stride=(1, 1), padding=same)\n",
      "    (4): ReLU()\n",
      "    (5): BatchNorm2d(64, eps=1e-05, momentum=0.1, affine=True, track_running_stats=True)\n",
      "    (6): MaxPool2d(kernel_size=2, stride=2, padding=0, dilation=1, ceil_mode=False)\n",
      "    (7): Dropout2d(p=0.25, inplace=False)\n",
      "  )\n",
      "  (classifier): Sequential(\n",
      "    (0): Flatten(start_dim=1, end_dim=-1)\n",
      "    (1): Linear(in_features=1228800, out_features=512, bias=True)\n",
      "    (2): ReLU()\n",
      "    (3): BatchNorm1d(512, eps=1e-05, momentum=0.1, affine=True, track_running_stats=True)\n",
      "    (4): Dropout1d(p=0.25, inplace=False)\n",
      "    (5): Linear(in_features=512, out_features=10, bias=True)\n",
      "  )\n",
      ")\n",
      "----------------------------------------------------------------\n",
      "        Layer (type)               Output Shape         Param #\n",
      "================================================================\n",
      "            Conv2d-1         [-1, 32, 480, 640]             896\n",
      "              ReLU-2         [-1, 32, 480, 640]               0\n",
      "       BatchNorm2d-3         [-1, 32, 480, 640]              64\n",
      "            Conv2d-4         [-1, 32, 480, 640]           9,248\n",
      "              ReLU-5         [-1, 32, 480, 640]               0\n",
      "       BatchNorm2d-6         [-1, 32, 480, 640]              64\n",
      "         MaxPool2d-7         [-1, 32, 240, 320]               0\n",
      "         Dropout2d-8         [-1, 32, 240, 320]               0\n",
      "            Conv2d-9         [-1, 64, 240, 320]          18,496\n",
      "             ReLU-10         [-1, 64, 240, 320]               0\n",
      "      BatchNorm2d-11         [-1, 64, 240, 320]             128\n",
      "           Conv2d-12         [-1, 64, 240, 320]          36,928\n",
      "             ReLU-13         [-1, 64, 240, 320]               0\n",
      "      BatchNorm2d-14         [-1, 64, 240, 320]             128\n",
      "        MaxPool2d-15         [-1, 64, 120, 160]               0\n",
      "        Dropout2d-16         [-1, 64, 120, 160]               0\n",
      "          Flatten-17              [-1, 1228800]               0\n",
      "           Linear-18                  [-1, 512]     629,146,112\n",
      "             ReLU-19                  [-1, 512]               0\n",
      "      BatchNorm1d-20                  [-1, 512]           1,024\n",
      "        Dropout1d-21                  [-1, 512]               0\n",
      "           Linear-22                   [-1, 10]           5,130\n",
      "================================================================\n",
      "Total params: 629,218,218\n",
      "Trainable params: 629,218,218\n",
      "Non-trainable params: 0\n",
      "----------------------------------------------------------------\n",
      "Input size (MB): 3.52\n",
      "Forward/backward pass size (MB): 740.64\n",
      "Params size (MB): 2400.28\n",
      "Estimated Total Size (MB): 3144.43\n",
      "----------------------------------------------------------------\n",
      "Using device: cpu\n",
      "\n",
      "Epoch 1 of 20\n"
     ]
    },
    {
     "name": "stderr",
     "output_type": "stream",
     "text": [
      "Train: 100%|██████████| 25/25 [07:04<00:00, 16.99s/batch, loss=2.32, acc=26.3]\n",
      "Train Eval: 100%|██████████| 25/25 [01:36<00:00,  3.87s/batch, loss=37.2, acc=18.8]\n",
      "Val: 100%|██████████| 4/4 [00:14<00:00,  3.61s/batch, loss=43.9, acc=13.3]\n"
     ]
    },
    {
     "name": "stdout",
     "output_type": "stream",
     "text": [
      "\n",
      "Epoch 2 of 20\n"
     ]
    },
    {
     "name": "stderr",
     "output_type": "stream",
     "text": [
      "Train: 100%|██████████| 25/25 [06:24<00:00, 15.40s/batch, loss=1.81, acc=33.7]\n",
      "Train Eval: 100%|██████████| 25/25 [01:34<00:00,  3.79s/batch, loss=5.74, acc=32.1]\n",
      "Val: 100%|██████████| 4/4 [00:11<00:00,  2.96s/batch, loss=4.07, acc=35.7]\n"
     ]
    },
    {
     "name": "stdout",
     "output_type": "stream",
     "text": [
      "\n",
      "Epoch 3 of 20\n"
     ]
    },
    {
     "name": "stderr",
     "output_type": "stream",
     "text": [
      "Train: 100%|██████████| 25/25 [06:17<00:00, 15.08s/batch, loss=1.66, acc=37]  \n",
      "Train Eval: 100%|██████████| 25/25 [01:34<00:00,  3.79s/batch, loss=1.49, acc=60.5]\n",
      "Val: 100%|██████████| 4/4 [00:11<00:00,  2.99s/batch, loss=1.47, acc=49.7]\n"
     ]
    },
    {
     "name": "stdout",
     "output_type": "stream",
     "text": [
      "\n",
      "Epoch 4 of 20\n"
     ]
    },
    {
     "name": "stderr",
     "output_type": "stream",
     "text": [
      "Train: 100%|██████████| 25/25 [06:15<00:00, 15.04s/batch, loss=1.4, acc=51.1] \n",
      "Train Eval: 100%|██████████| 25/25 [01:34<00:00,  3.78s/batch, loss=0.984, acc=73.8]\n",
      "Val: 100%|██████████| 4/4 [00:11<00:00,  2.96s/batch, loss=1.32, acc=50.5]\n"
     ]
    },
    {
     "name": "stdout",
     "output_type": "stream",
     "text": [
      "\n",
      "Epoch 5 of 20\n"
     ]
    },
    {
     "name": "stderr",
     "output_type": "stream",
     "text": [
      "Train: 100%|██████████| 25/25 [06:20<00:00, 15.22s/batch, loss=1.29, acc=55]  \n",
      "Train Eval: 100%|██████████| 25/25 [01:35<00:00,  3.80s/batch, loss=0.788, acc=81.9]\n",
      "Val: 100%|██████████| 4/4 [00:11<00:00,  2.95s/batch, loss=1.17, acc=63.5]\n"
     ]
    },
    {
     "name": "stdout",
     "output_type": "stream",
     "text": [
      "\n",
      "Epoch 6 of 20\n"
     ]
    },
    {
     "name": "stderr",
     "output_type": "stream",
     "text": [
      "Train: 100%|██████████| 25/25 [06:10<00:00, 14.83s/batch, loss=1.16, acc=59.2]\n",
      "Train Eval: 100%|██████████| 25/25 [01:33<00:00,  3.75s/batch, loss=0.713, acc=86.8]\n",
      "Val: 100%|██████████| 4/4 [00:11<00:00,  2.94s/batch, loss=1.25, acc=52.9]\n"
     ]
    },
    {
     "name": "stdout",
     "output_type": "stream",
     "text": [
      "\n",
      "Epoch 7 of 20\n"
     ]
    },
    {
     "name": "stderr",
     "output_type": "stream",
     "text": [
      "Train: 100%|██████████| 25/25 [06:09<00:00, 14.77s/batch, loss=1.15, acc=59.4]\n",
      "Train Eval: 100%|██████████| 25/25 [01:34<00:00,  3.78s/batch, loss=0.528, acc=93]  \n",
      "Val: 100%|██████████| 4/4 [00:11<00:00,  2.98s/batch, loss=1.19, acc=52.9]\n"
     ]
    },
    {
     "name": "stdout",
     "output_type": "stream",
     "text": [
      "\n",
      "Epoch 8 of 20\n"
     ]
    },
    {
     "name": "stderr",
     "output_type": "stream",
     "text": [
      "Train: 100%|██████████| 25/25 [06:06<00:00, 14.67s/batch, loss=0.981, acc=65.2]\n",
      "Train Eval: 100%|██████████| 25/25 [01:33<00:00,  3.73s/batch, loss=0.369, acc=97.5]\n",
      "Val: 100%|██████████| 4/4 [00:11<00:00,  2.94s/batch, loss=1.01, acc=62.2] \n"
     ]
    },
    {
     "name": "stdout",
     "output_type": "stream",
     "text": [
      "\n",
      "Epoch 9 of 20\n"
     ]
    },
    {
     "name": "stderr",
     "output_type": "stream",
     "text": [
      "Train: 100%|██████████| 25/25 [06:17<00:00, 15.08s/batch, loss=0.796, acc=73.3]\n",
      "Train Eval: 100%|██████████| 25/25 [01:32<00:00,  3.71s/batch, loss=0.363, acc=97.7]\n",
      "Val: 100%|██████████| 4/4 [00:11<00:00,  2.94s/batch, loss=1.12, acc=55.2]\n"
     ]
    },
    {
     "name": "stdout",
     "output_type": "stream",
     "text": [
      "\n",
      "Epoch 10 of 20\n"
     ]
    },
    {
     "name": "stderr",
     "output_type": "stream",
     "text": [
      "Train: 100%|██████████| 25/25 [06:06<00:00, 14.64s/batch, loss=0.857, acc=70.8]\n",
      "Train Eval: 100%|██████████| 25/25 [01:35<00:00,  3.81s/batch, loss=0.227, acc=98.9]\n",
      "Val: 100%|██████████| 4/4 [00:11<00:00,  2.91s/batch, loss=1.09, acc=56]   \n"
     ]
    },
    {
     "name": "stdout",
     "output_type": "stream",
     "text": [
      "\n",
      "Epoch 11 of 20\n",
      "Reducing learning rate from 0.0005 to 0.000125\n"
     ]
    },
    {
     "name": "stderr",
     "output_type": "stream",
     "text": [
      "Train: 100%|██████████| 25/25 [06:20<00:00, 15.21s/batch, loss=0.745, acc=73.6]\n",
      "Train Eval: 100%|██████████| 25/25 [01:41<00:00,  4.07s/batch, loss=0.175, acc=99.8]\n",
      "Val: 100%|██████████| 4/4 [00:13<00:00,  3.28s/batch, loss=1.05, acc=59.1] \n"
     ]
    },
    {
     "name": "stdout",
     "output_type": "stream",
     "text": [
      "\n",
      "Epoch 12 of 20\n"
     ]
    },
    {
     "name": "stderr",
     "output_type": "stream",
     "text": [
      "Train: 100%|██████████| 25/25 [06:39<00:00, 15.98s/batch, loss=0.722, acc=75.2]\n",
      "Train Eval: 100%|██████████| 25/25 [01:43<00:00,  4.15s/batch, loss=0.145, acc=99.8]\n",
      "Val: 100%|██████████| 4/4 [00:12<00:00,  3.02s/batch, loss=0.993, acc=59.1]\n"
     ]
    },
    {
     "name": "stdout",
     "output_type": "stream",
     "text": [
      "\n",
      "Epoch 13 of 20\n"
     ]
    },
    {
     "name": "stderr",
     "output_type": "stream",
     "text": [
      "Train: 100%|██████████| 25/25 [06:06<00:00, 14.66s/batch, loss=0.713, acc=76.2]\n",
      "Train Eval: 100%|██████████| 25/25 [01:35<00:00,  3.82s/batch, loss=0.127, acc=99.8]\n",
      "Val: 100%|██████████| 4/4 [00:12<00:00,  3.02s/batch, loss=0.979, acc=59.9]\n"
     ]
    },
    {
     "name": "stdout",
     "output_type": "stream",
     "text": [
      "\n",
      "Epoch 14 of 20\n"
     ]
    },
    {
     "name": "stderr",
     "output_type": "stream",
     "text": [
      "Train: 100%|██████████| 25/25 [06:26<00:00, 15.45s/batch, loss=0.696, acc=76]  \n",
      "Train Eval: 100%|██████████| 25/25 [01:51<00:00,  4.47s/batch, loss=0.111, acc=99.8]\n",
      "Val: 100%|██████████| 4/4 [00:14<00:00,  3.55s/batch, loss=1.03, acc=56.8] \n"
     ]
    },
    {
     "name": "stdout",
     "output_type": "stream",
     "text": [
      "\n",
      "Epoch 15 of 20\n"
     ]
    },
    {
     "name": "stderr",
     "output_type": "stream",
     "text": [
      "Train: 100%|██████████| 25/25 [06:08<00:00, 14.74s/batch, loss=0.659, acc=77.5]\n",
      "Train Eval: 100%|██████████| 25/25 [01:33<00:00,  3.74s/batch, loss=0.103, acc=99.9]\n",
      "Val: 100%|██████████| 4/4 [00:11<00:00,  2.94s/batch, loss=1.04, acc=57.6] \n"
     ]
    },
    {
     "name": "stdout",
     "output_type": "stream",
     "text": [
      "\n",
      "Epoch 16 of 20\n"
     ]
    },
    {
     "name": "stderr",
     "output_type": "stream",
     "text": [
      "Train: 100%|██████████| 25/25 [06:08<00:00, 14.74s/batch, loss=0.633, acc=78.1]\n",
      "Train Eval: 100%|██████████| 25/25 [01:36<00:00,  3.86s/batch, loss=0.175, acc=99.5]\n",
      "Val: 100%|██████████| 4/4 [00:12<00:00,  3.02s/batch, loss=1.02, acc=57.6] \n"
     ]
    },
    {
     "name": "stdout",
     "output_type": "stream",
     "text": [
      "\n",
      "Epoch 17 of 20\n"
     ]
    },
    {
     "name": "stderr",
     "output_type": "stream",
     "text": [
      "Train: 100%|██████████| 25/25 [06:11<00:00, 14.88s/batch, loss=0.638, acc=78.1]\n",
      "Train Eval: 100%|██████████| 25/25 [01:43<00:00,  4.12s/batch, loss=0.0961, acc=99.8]\n",
      "Val: 100%|██████████| 4/4 [00:12<00:00,  3.19s/batch, loss=1.01, acc=66.7] \n"
     ]
    },
    {
     "name": "stdout",
     "output_type": "stream",
     "text": [
      "\n",
      "Epoch 18 of 20\n"
     ]
    },
    {
     "name": "stderr",
     "output_type": "stream",
     "text": [
      "Train: 100%|██████████| 25/25 [06:10<00:00, 14.82s/batch, loss=0.65, acc=76.8] \n",
      "Train Eval: 100%|██████████| 25/25 [01:37<00:00,  3.89s/batch, loss=0.0782, acc=99.8]\n",
      "Val: 100%|██████████| 4/4 [00:13<00:00,  3.34s/batch, loss=1.01, acc=57.6] \n"
     ]
    },
    {
     "name": "stdout",
     "output_type": "stream",
     "text": [
      "\n",
      "Epoch 19 of 20\n"
     ]
    },
    {
     "name": "stderr",
     "output_type": "stream",
     "text": [
      "Train: 100%|██████████| 25/25 [06:12<00:00, 14.91s/batch, loss=0.622, acc=77.7]\n",
      "Train Eval: 100%|██████████| 25/25 [01:37<00:00,  3.92s/batch, loss=0.0739, acc=99.7]\n",
      "Val: 100%|██████████| 4/4 [00:12<00:00,  3.02s/batch, loss=1.02, acc=58.3] \n"
     ]
    },
    {
     "name": "stdout",
     "output_type": "stream",
     "text": [
      "\n",
      "Epoch 20 of 20\n"
     ]
    },
    {
     "name": "stderr",
     "output_type": "stream",
     "text": [
      "Train: 100%|██████████| 25/25 [06:16<00:00, 15.08s/batch, loss=0.647, acc=77.6]\n",
      "Train Eval: 100%|██████████| 25/25 [01:36<00:00,  3.87s/batch, loss=0.0608, acc=99.8]\n",
      "Val: 100%|██████████| 4/4 [00:12<00:00,  3.04s/batch, loss=1, acc=59.9]    \n"
     ]
    },
    {
     "data": {
      "image/png": "[encoded data removed]",
      "text/plain": [
       "<Figure size 640x480 with 1 Axes>"
      ]
     },
     "metadata": {},
     "output_type": "display_data"
    },
    {
     "data": {
      "image/png": "[encoded data removed]",
      "text/plain": [
       "<Figure size 640x480 with 1 Axes>"
      ]
     },
     "metadata": {},
     "output_type": "display_data"
    },
    {
     "name": "stderr",
     "output_type": "stream",
     "text": [
      "Val: 100%|██████████| 4/4 [00:13<00:00,  3.29s/batch, loss=1.19, acc=59.9] "
     ]
    },
    {
     "name": "stdout",
     "output_type": "stream",
     "text": [
      "Test accuracy: 0.5990\n"
     ]
    },
    {
     "name": "stderr",
     "output_type": "stream",
     "text": [
      "\n"
     ]
    },
    {
     "ename": "IndexError",
     "evalue": "list index out of range",
     "output_type": "error",
     "traceback": [
      "\u001b[1;31m---------------------------------------------------------------------------\u001b[0m",
      "\u001b[1;31mIndexError\u001b[0m                                Traceback (most recent call last)",
      "Cell \u001b[1;32mIn[3], line 230\u001b[0m\n\u001b[0;32m    228\u001b[0m img \u001b[38;5;241m=\u001b[39m np\u001b[38;5;241m.\u001b[39mrandom\u001b[38;5;241m.\u001b[39mrandint(\u001b[38;5;241m10000\u001b[39m)\n\u001b[0;32m    229\u001b[0m \u001b[38;5;28;01mwith\u001b[39;00m torch\u001b[38;5;241m.\u001b[39mno_grad():\n\u001b[1;32m--> 230\u001b[0m     image, label \u001b[38;5;241m=\u001b[39m \u001b[43mtestset\u001b[49m\u001b[43m[\u001b[49m\u001b[43mimg\u001b[49m\u001b[43m]\u001b[49m \u001b[38;5;66;03m# get first image and label from test set\u001b[39;00m\n\u001b[0;32m    231\u001b[0m     image \u001b[38;5;241m=\u001b[39m image\u001b[38;5;241m.\u001b[39munsqueeze(\u001b[38;5;241m1\u001b[39m)  \u001b[38;5;66;03m# add the batch dimension\u001b[39;00m\n\u001b[0;32m    232\u001b[0m     image \u001b[38;5;241m=\u001b[39m image\u001b[38;5;241m.\u001b[39mto(device)  \u001b[38;5;66;03m# move image to device\u001b[39;00m\n",
      "File \u001b[1;32mc:\\Users\\leduo\\Desktop\\ee460\\.conda\\lib\\site-packages\\torch\\utils\\data\\dataset.py:411\u001b[0m, in \u001b[0;36mSubset.__getitem__\u001b[1;34m(self, idx)\u001b[0m\n\u001b[0;32m    409\u001b[0m \u001b[38;5;28;01mif\u001b[39;00m \u001b[38;5;28misinstance\u001b[39m(idx, \u001b[38;5;28mlist\u001b[39m):\n\u001b[0;32m    410\u001b[0m     \u001b[38;5;28;01mreturn\u001b[39;00m \u001b[38;5;28mself\u001b[39m\u001b[38;5;241m.\u001b[39mdataset[[\u001b[38;5;28mself\u001b[39m\u001b[38;5;241m.\u001b[39mindices[i] \u001b[38;5;28;01mfor\u001b[39;00m i \u001b[38;5;129;01min\u001b[39;00m idx]]\n\u001b[1;32m--> 411\u001b[0m \u001b[38;5;28;01mreturn\u001b[39;00m \u001b[38;5;28mself\u001b[39m\u001b[38;5;241m.\u001b[39mdataset[\u001b[38;5;28;43mself\u001b[39;49m\u001b[38;5;241;43m.\u001b[39;49m\u001b[43mindices\u001b[49m\u001b[43m[\u001b[49m\u001b[43midx\u001b[49m\u001b[43m]\u001b[49m]\n",
      "\u001b[1;31mIndexError\u001b[0m: list index out of range"
     ]
    }
   ],
   "source": [
    "import torch\n",
    "import torch.nn as nn\n",
    "import torch.optim as optim\n",
    "from torch.utils.data import DataLoader, random_split\n",
    "from torchvision import transforms, datasets\n",
    "from tqdm import tqdm\n",
    "import matplotlib.pyplot as plt\n",
    "from torchsummary import summary\n",
    "import torch.nn.functional as F\n",
    "import numpy as np\n",
    "\n",
    "# Parameters for the model\n",
    "n_pixels = 28 * 28\n",
    "n_classes = 10\n",
    "\n",
    "# Parameters for the training\n",
    "USE_CPU = False\n",
    "reg_val = 1e-4\n",
    "lr = 0.001 / 2\n",
    "batchsize = 32\n",
    "\n",
    "\n",
    "transform = transforms.Compose([\n",
    "    transforms.ToTensor(),  # Converts [0-255] RGBA to [0.0-1.0], shape [3, H, W]\n",
    "    transforms.Normalize(mean=[.5,.5,.5], std=[.5,.5,.5])  # Normalize for RGB\n",
    "])\n",
    "\n",
    "# --- 2. Load dataset ---\n",
    "dataset = datasets.ImageFolder(root='sliding_spectrograms_30_seconds', transform=transform)\n",
    "\n",
    "image, label = dataset[0]\n",
    "print(image.shape)  # The transformed image (e.g., torch.Size([3, H, W]))\n",
    "print(label)  # The class label (e.g., 0 for 'cat')\n",
    "\n",
    "\n",
    "# Split into train, val, test (80/10/10)\n",
    "train_size = int(0.8 * len(dataset))\n",
    "val_size = int(0.1 * len(dataset))\n",
    "test_size = len(dataset) - train_size - val_size\n",
    "trainset, valset, testset = random_split(dataset, [train_size, val_size, test_size])\n",
    "\n",
    "image, label = trainset[0] \n",
    "print(image.shape) # torch.Size([1, 28, 28])\n",
    "print(label) \n",
    "input_image_shape = image.shape\n",
    "\n",
    "print(f'Train set size: {len(trainset)}, Validation set size: {len(valset)}, Test set size: {len(testset)}')\n",
    "\n",
    "class FullDataset(torch.utils.data.Dataset):\n",
    "    def __init__(self, dataset):\n",
    "        self.dataset = dataset        \n",
    "        self.data, self.labels = self._load_data()\n",
    "        \n",
    "    def _load_data(self):\n",
    "        data = []\n",
    "        labels = []\n",
    "        \n",
    "        for i in range(len(self.dataset)):\n",
    "            x, y = self.dataset[i]\n",
    "            data.append(x)\n",
    "            labels.append(y)\n",
    "        \n",
    "        return torch.stack(data), torch.tensor(labels)\n",
    "    \n",
    "    def __len__(self):\n",
    "        return len(self.dataset)\n",
    "    \n",
    "    def __getitem__(self, idx):\n",
    "        return self.data[idx], self.labels[idx]\n",
    "    \n",
    "trainset = FullDataset(trainset)\n",
    "valset = FullDataset(valset)\n",
    "\n",
    "# Shuffle the data at the start of each epoch (only useful for training set)\n",
    "\n",
    "trainloader = DataLoader(trainset, batch_size=batchsize, shuffle=True)\n",
    "train_eval_loader = DataLoader(trainset, batch_size=batchsize, shuffle=False)\n",
    "valloader = DataLoader(valset, batch_size=batchsize, shuffle=False)\n",
    "testloader = DataLoader(testset, batch_size=batchsize, shuffle=False)\n",
    "\n",
    "# Define the model\n",
    "# for an alternative approach, see: mini_vgg_like_torch_1.py\n",
    "def vgg_like_block(in_channels, num_filters, ksize=3, drate=0.25, pad='same'):\n",
    "    return nn.Sequential(\n",
    "        nn.Conv2d(in_channels, num_filters, kernel_size=ksize, padding=pad),\n",
    "        nn.ReLU(),\n",
    "        nn.BatchNorm2d(num_filters),\n",
    "        nn.Conv2d(num_filters, num_filters, kernel_size=ksize, padding=pad),\n",
    "        nn.ReLU(),\n",
    "        nn.BatchNorm2d(num_filters),\n",
    "        nn.MaxPool2d(kernel_size=2),\n",
    "        nn.Dropout2d(p=drate)\n",
    "    )\n",
    "\n",
    "def classifier_mlp(n_in, n_hidden, n_classes, drate=0.25):\n",
    "    return nn.Sequential(\n",
    "        nn.Flatten(),\n",
    "        nn.Linear(n_in, n_hidden),\n",
    "        nn.ReLU(),\n",
    "        nn.BatchNorm1d(n_hidden),\n",
    "        nn.Dropout1d(p=drate),\n",
    "        nn.Linear(n_hidden, n_classes)\n",
    "    )\n",
    "\n",
    "class MiniVgg(nn.Module):\n",
    "    def __init__(self, b1_filters=32, b2_filters=64, H=480, W=640, fc_nodes=512, n_classes=10):\n",
    "        super().__init__()\n",
    "        self.block1 = vgg_like_block(3, b1_filters)\n",
    "        self.block2 = vgg_like_block(b1_filters, b2_filters)\n",
    "        assert H % 4 == 0, f'the image height and width must be a multiple of 4: you passed H = {H}'\n",
    "        mlp_in_size = (H * W // 16) * b2_filters  # the H and W are both reduced by 4 with 2 max-pool layers.\n",
    "        self.classifier = classifier_mlp(mlp_in_size, fc_nodes, n_classes)\n",
    "    \n",
    "    def forward(self, x):\n",
    "        batch_size = x.size(0)\n",
    "        y = self.block1(x)\n",
    "        y = self.block2(y)\n",
    "        y = y.view(batch_size, -1)\n",
    "        y = self.classifier(y)\n",
    "        return y\n",
    "\n",
    "model = MiniVgg()\n",
    "print(model)\n",
    "summary(model, input_image_shape)  # call summary before moving the model to a device...\n",
    "\n",
    "criterion = nn.CrossEntropyLoss() # includes softmax (for numerical stability)\n",
    "optimizer = optim.Adam(model.parameters(), lr=lr, weight_decay=reg_val)  # default learning rate is 0.001\n",
    "\n",
    "# set the device to use and move model to device\n",
    "\n",
    "if USE_CPU:\n",
    "    device = torch.device(\"cpu\")\n",
    "elif torch.cuda.is_available():\n",
    "    device = torch.device(\"cuda:0\")\n",
    "elif torch.torch.backends.mps.is_available():\n",
    "    device = torch.device(\"mps\") # MPS acceleration is available on MacOS 12.3+\n",
    "else:\n",
    "    device = torch.device(\"cpu\")\n",
    "\n",
    "print(f'Using device: {device}')\n",
    "model.to(device) # Move model to device\n",
    "\n",
    "\n",
    "# Define function to call for each training epoch (one complete pass over the training set)\n",
    "def train(model, trainloader, criterion, optimizer, device):\n",
    "    model.train() # set model to training mode\n",
    "    running_loss = 0; running_acc = 0\n",
    "    with tqdm(total=len(trainloader), desc=f\"Train\", unit=\"batch\") as pbar:\n",
    "        for n_batch, (images, labels) in enumerate(trainloader): # Iterate over batches\n",
    "            images, labels = images.to(device), labels.to(device) # Move batch to device\n",
    "            optimizer.zero_grad()\n",
    "            output = model(images) # Forward pass\n",
    "            loss = criterion(output, labels) # Compute loss\n",
    "            loss.backward() # Backward pass\n",
    "            optimizer.step() # Update weights\n",
    "            running_loss += loss.item()\n",
    "            running_acc += (output.argmax(1) == labels).float().mean().item()\n",
    "            # pbar.set_postfix({'loss': loss.item(), 'acc': 100. * running_acc / (n_batch+1)})\n",
    "            pbar.set_postfix({'loss': running_loss / (n_batch+1), 'acc': 100. * running_acc / (n_batch+1)})\n",
    "            pbar.update() # Update progress bar\n",
    "    return running_loss / len(trainloader), running_acc / len(trainloader) # return loss and accuracy for this epoch\n",
    "\n",
    "# Define function to call for each validation epoch (one complete pass over the validation set)\n",
    "def validate(model, valloader, criterion, device, tag='Val'):\n",
    "    model.eval() # set model to evaluation mode (e.g. turn off dropout, batchnorm, etc.)\n",
    "    running_loss = 0; running_acc = 0\n",
    "    with torch.no_grad(): # no need to compute gradients for validation\n",
    "        with tqdm(total=len(valloader), desc=tag, unit=\"batch\") as pbar:\n",
    "            for n_batch, (images, labels) in enumerate(valloader): # Iterate over batches\n",
    "                images, labels = images.to(device), labels.to(device) # Move batch to device\n",
    "                output = model(images) # Forward pass\n",
    "                loss = criterion(output, labels) # Compute loss\n",
    "                running_loss += loss.item() \n",
    "                running_acc += (output.argmax(1) == labels).float().mean().item()\n",
    "                pbar.set_postfix({'loss': running_loss / (n_batch+1), 'acc': 100. * running_acc / (n_batch+1)})\n",
    "                pbar.update() # Update progress bar\n",
    "    return running_loss / len(valloader), running_acc / len(valloader)  # return loss and accuracy for this epoch\n",
    "\n",
    "# Run training and validation loop\n",
    "# Save the best model based on validation accuracy\n",
    "n_epochs = 20\n",
    "best_acc = -1\n",
    "train_loss_history = []; train_acc_history = []\n",
    "val_loss_history = []; val_acc_history = []\n",
    "for epoch in range(n_epochs): # Iterate over epochs\n",
    "    print(f\"\\nEpoch {epoch+1} of {n_epochs}\")\n",
    "    if epoch == n_epochs // 2:\n",
    "        lr = optimizer.param_groups[0]['lr']\n",
    "        print(f'Reducing learning rate from {lr} to {lr/4}')\n",
    "        optimizer.param_groups[0]['lr'] /= 4\n",
    "    train_loss, train_acc  = train(model, trainloader, criterion, optimizer, device) # Train\n",
    "    train_loss, train_acc  = validate(model, train_eval_loader, criterion, device, tag='Train Eval') # Evaluate on Train data\n",
    "    val_loss, val_acc = validate(model, valloader, criterion, device) # Validate\n",
    "    train_loss_history.append(train_loss); train_acc_history.append(train_acc)\n",
    "    val_loss_history.append(val_loss); val_acc_history.append(val_acc)\n",
    "    if val_acc > best_acc: # Save best model\n",
    "        best_acc = val_acc\n",
    "        torch.save(model.state_dict(), \"best_model.pt\") # saving model parameters (\"state_dict\") saves memory and is faster than saving the entire model\n",
    "\n",
    "epochs = torch.arange(n_epochs)\n",
    "\n",
    "# plot training and validation loss\n",
    "plt.figure()\n",
    "plt.plot(epochs, train_loss_history, label='train_loss')\n",
    "plt.plot(epochs, val_loss_history, label='val_loss')\n",
    "plt.xlabel('epochs')\n",
    "plt.ylabel('Multiclass Cross Entropy Loss')\n",
    "plt.title(f'Loss with miniVGG model')\n",
    "plt.legend()\n",
    "plt.show()\n",
    "\n",
    "# plot training and validation accuracy\n",
    "plt.figure()\n",
    "plt.plot(epochs, train_acc_history, label='train_acc')\n",
    "plt.plot(epochs, val_acc_history, label='val_acc')\n",
    "plt.xlabel('epochs')\n",
    "plt.ylabel('Accuracy')\n",
    "plt.title(f'Accuracy with miniVGG model; Regularizer: {reg_val : 3.2g}')\n",
    "plt.legend()\n",
    "plt.show()\n",
    "\n",
    "# Load the best model and evaluate on test set\n",
    "model.load_state_dict(torch.load(\"best_model.pt\"))\n",
    "test_loss, test_acc = validate(model, testloader, criterion, device)\n",
    "print(f\"Test accuracy: {test_acc:.4f}\")\n",
    "\n",
    "model.eval() # set model to evaluation mode \n",
    "\n"
   ]
  },
  {
   "cell_type": "code",
   "execution_count": 14,
   "id": "0d6fa40c",
   "metadata": {},
   "outputs": [
    {
     "name": "stdout",
     "output_type": "stream",
     "text": [
      "torch.Size([3, 480, 640])\n",
      "0\n",
      "torch.Size([3, 480, 640])\n",
      "9\n",
      "Train set size: 792, Validation set size: 99, Test set size: 99\n",
      "MiniVgg(\n",
      "  (block1): Sequential(\n",
      "    (0): Conv2d(3, 32, kernel_size=(3, 3), stride=(1, 1), padding=same)\n",
      "    (1): ReLU()\n",
      "    (2): BatchNorm2d(32, eps=1e-05, momentum=0.1, affine=True, track_running_stats=True)\n",
      "    (3): Conv2d(32, 32, kernel_size=(3, 3), stride=(1, 1), padding=same)\n",
      "    (4): ReLU()\n",
      "    (5): BatchNorm2d(32, eps=1e-05, momentum=0.1, affine=True, track_running_stats=True)\n",
      "    (6): MaxPool2d(kernel_size=2, stride=2, padding=0, dilation=1, ceil_mode=False)\n",
      "    (7): Dropout2d(p=0.25, inplace=False)\n",
      "  )\n",
      "  (block2): Sequential(\n",
      "    (0): Conv2d(32, 64, kernel_size=(3, 3), stride=(1, 1), padding=same)\n",
      "    (1): ReLU()\n",
      "    (2): BatchNorm2d(64, eps=1e-05, momentum=0.1, affine=True, track_running_stats=True)\n",
      "    (3): Conv2d(64, 64, kernel_size=(3, 3), stride=(1, 1), padding=same)\n",
      "    (4): ReLU()\n",
      "    (5): BatchNorm2d(64, eps=1e-05, momentum=0.1, affine=True, track_running_stats=True)\n",
      "    (6): MaxPool2d(kernel_size=2, stride=2, padding=0, dilation=1, ceil_mode=False)\n",
      "    (7): Dropout2d(p=0.25, inplace=False)\n",
      "  )\n",
      "  (classifier): Sequential(\n",
      "    (0): Flatten(start_dim=1, end_dim=-1)\n",
      "    (1): Linear(in_features=1228800, out_features=512, bias=True)\n",
      "    (2): ReLU()\n",
      "    (3): BatchNorm1d(512, eps=1e-05, momentum=0.1, affine=True, track_running_stats=True)\n",
      "    (4): Dropout1d(p=0.25, inplace=False)\n",
      "    (5): Linear(in_features=512, out_features=10, bias=True)\n",
      "  )\n",
      ")\n",
      "----------------------------------------------------------------\n",
      "        Layer (type)               Output Shape         Param #\n",
      "================================================================\n",
      "            Conv2d-1         [-1, 32, 480, 640]             896\n",
      "              ReLU-2         [-1, 32, 480, 640]               0\n",
      "       BatchNorm2d-3         [-1, 32, 480, 640]              64\n",
      "            Conv2d-4         [-1, 32, 480, 640]           9,248\n",
      "              ReLU-5         [-1, 32, 480, 640]               0\n",
      "       BatchNorm2d-6         [-1, 32, 480, 640]              64\n",
      "         MaxPool2d-7         [-1, 32, 240, 320]               0\n",
      "         Dropout2d-8         [-1, 32, 240, 320]               0\n",
      "            Conv2d-9         [-1, 64, 240, 320]          18,496\n",
      "             ReLU-10         [-1, 64, 240, 320]               0\n",
      "      BatchNorm2d-11         [-1, 64, 240, 320]             128\n",
      "           Conv2d-12         [-1, 64, 240, 320]          36,928\n",
      "             ReLU-13         [-1, 64, 240, 320]               0\n",
      "      BatchNorm2d-14         [-1, 64, 240, 320]             128\n",
      "        MaxPool2d-15         [-1, 64, 120, 160]               0\n",
      "        Dropout2d-16         [-1, 64, 120, 160]               0\n",
      "          Flatten-17              [-1, 1228800]               0\n",
      "           Linear-18                  [-1, 512]     629,146,112\n",
      "             ReLU-19                  [-1, 512]               0\n",
      "      BatchNorm1d-20                  [-1, 512]           1,024\n",
      "        Dropout1d-21                  [-1, 512]               0\n",
      "           Linear-22                   [-1, 10]           5,130\n",
      "================================================================\n",
      "Total params: 629,218,218\n",
      "Trainable params: 629,218,218\n",
      "Non-trainable params: 0\n",
      "----------------------------------------------------------------\n",
      "Input size (MB): 3.52\n",
      "Forward/backward pass size (MB): 740.64\n",
      "Params size (MB): 2400.28\n",
      "Estimated Total Size (MB): 3144.43\n",
      "----------------------------------------------------------------\n",
      "Using device: cpu\n",
      "Prediction:  [1]\n",
      "Label:  1\n"
     ]
    }
   ],
   "source": [
    "import torch\n",
    "import torch.nn as nn\n",
    "import torch.optim as optim\n",
    "from torch.utils.data import DataLoader, random_split\n",
    "from torchvision import transforms, datasets\n",
    "from tqdm import tqdm\n",
    "import matplotlib.pyplot as plt\n",
    "from torchsummary import summary\n",
    "import torch.nn.functional as F\n",
    "import numpy as np\n",
    "import cv2\n",
    "\n",
    "# Parameters for the model\n",
    "n_pixels = 28 * 28\n",
    "n_classes = 10\n",
    "\n",
    "# Parameters for the training\n",
    "USE_CPU = False\n",
    "reg_val = 1e-4\n",
    "lr = 0.001 / 2\n",
    "batchsize = 32\n",
    "\n",
    "\n",
    "transform = transforms.Compose([\n",
    "    transforms.ToTensor(),  # Converts [0-255] RGBA to [0.0-1.0], shape [3, H, W]\n",
    "    transforms.Normalize(mean=[.5,.5,.5], std=[.5,.5,.5])  # Normalize for RGB\n",
    "])\n",
    "\n",
    "# --- 2. Load dataset ---\n",
    "dataset = datasets.ImageFolder(root='sliding_spectrograms_30_seconds', transform=transform)\n",
    "\n",
    "image, label = dataset[0]\n",
    "print(image.shape)  # The transformed image (e.g., torch.Size([3, H, W]))\n",
    "print(label)  # The class label (e.g., 0 for 'cat')\n",
    "\n",
    "\n",
    "# Split into train, val, test (80/10/10)\n",
    "train_size = int(0.8 * len(dataset))\n",
    "val_size = int(0.1 * len(dataset))\n",
    "test_size = len(dataset) - train_size - val_size\n",
    "trainset, valset, testset = random_split(dataset, [train_size, val_size, test_size])\n",
    "\n",
    "image, label = trainset[0] \n",
    "print(image.shape) # torch.Size([1, 28, 28])\n",
    "print(label) \n",
    "input_image_shape = image.shape\n",
    "\n",
    "print(f'Train set size: {len(trainset)}, Validation set size: {len(valset)}, Test set size: {len(testset)}')\n",
    "\n",
    "class FullDataset(torch.utils.data.Dataset):\n",
    "    def __init__(self, dataset):\n",
    "        self.dataset = dataset        \n",
    "        self.data, self.labels = self._load_data()\n",
    "        \n",
    "    def _load_data(self):\n",
    "        data = []\n",
    "        labels = []\n",
    "        \n",
    "        for i in range(len(self.dataset)):\n",
    "            x, y = self.dataset[i]\n",
    "            data.append(x)\n",
    "            labels.append(y)\n",
    "        \n",
    "        return torch.stack(data), torch.tensor(labels)\n",
    "    \n",
    "    def __len__(self):\n",
    "        return len(self.dataset)\n",
    "    \n",
    "    def __getitem__(self, idx):\n",
    "        return self.data[idx], self.labels[idx]\n",
    "    \n",
    "trainset = FullDataset(trainset)\n",
    "valset = FullDataset(valset)\n",
    "\n",
    "# Shuffle the data at the start of each epoch (only useful for training set)\n",
    "\n",
    "trainloader = DataLoader(trainset, batch_size=batchsize, shuffle=True)\n",
    "train_eval_loader = DataLoader(trainset, batch_size=batchsize, shuffle=False)\n",
    "valloader = DataLoader(valset, batch_size=batchsize, shuffle=False)\n",
    "testloader = DataLoader(testset, batch_size=batchsize, shuffle=False)\n",
    "\n",
    "# Define the model\n",
    "# for an alternative approach, see: mini_vgg_like_torch_1.py\n",
    "def vgg_like_block(in_channels, num_filters, ksize=3, drate=0.25, pad='same'):\n",
    "    return nn.Sequential(\n",
    "        nn.Conv2d(in_channels, num_filters, kernel_size=ksize, padding=pad),\n",
    "        nn.ReLU(),\n",
    "        nn.BatchNorm2d(num_filters),\n",
    "        nn.Conv2d(num_filters, num_filters, kernel_size=ksize, padding=pad),\n",
    "        nn.ReLU(),\n",
    "        nn.BatchNorm2d(num_filters),\n",
    "        nn.MaxPool2d(kernel_size=2),\n",
    "        nn.Dropout2d(p=drate)\n",
    "    )\n",
    "\n",
    "def classifier_mlp(n_in, n_hidden, n_classes, drate=0.25):\n",
    "    return nn.Sequential(\n",
    "        nn.Flatten(),\n",
    "        nn.Linear(n_in, n_hidden),\n",
    "        nn.ReLU(),\n",
    "        nn.BatchNorm1d(n_hidden),\n",
    "        nn.Dropout1d(p=drate),\n",
    "        nn.Linear(n_hidden, n_classes)\n",
    "    )\n",
    "\n",
    "class MiniVgg(nn.Module):\n",
    "    def __init__(self, b1_filters=32, b2_filters=64, H=480, W=640, fc_nodes=512, n_classes=10):\n",
    "        super().__init__()\n",
    "        self.block1 = vgg_like_block(3, b1_filters)\n",
    "        self.block2 = vgg_like_block(b1_filters, b2_filters)\n",
    "        assert H % 4 == 0, f'the image height and width must be a multiple of 4: you passed H = {H}'\n",
    "        mlp_in_size = (H * W // 16) * b2_filters  # the H and W are both reduced by 4 with 2 max-pool layers.\n",
    "        self.classifier = classifier_mlp(mlp_in_size, fc_nodes, n_classes)\n",
    "    \n",
    "    def forward(self, x):\n",
    "        batch_size = x.size(0)\n",
    "        y = self.block1(x)\n",
    "        y = self.block2(y)\n",
    "        y = y.view(batch_size, -1)\n",
    "        y = self.classifier(y)\n",
    "        return y\n",
    "\n",
    "model = MiniVgg()\n",
    "print(model)\n",
    "summary(model, input_image_shape)  # call summary before moving the model to a device...\n",
    "\n",
    "criterion = nn.CrossEntropyLoss() # includes softmax (for numerical stability)\n",
    "optimizer = optim.Adam(model.parameters(), lr=lr, weight_decay=reg_val)  # default learning rate is 0.001\n",
    "\n",
    "# set the device to use and move model to device\n",
    "\n",
    "if USE_CPU:\n",
    "    device = torch.device(\"cpu\")\n",
    "elif torch.cuda.is_available():\n",
    "    device = torch.device(\"cuda:0\")\n",
    "elif torch.torch.backends.mps.is_available():\n",
    "    device = torch.device(\"mps\") # MPS acceleration is available on MacOS 12.3+\n",
    "else:\n",
    "    device = torch.device(\"cpu\")\n",
    "\n",
    "print(f'Using device: {device}')\n",
    "model.to(device) # Move model to device\n",
    "\n",
    "\n",
    "# Define function to call for each training epoch (one complete pass over the training set)\n",
    "def train(model, trainloader, criterion, optimizer, device):\n",
    "    model.train() # set model to training mode\n",
    "    running_loss = 0; running_acc = 0\n",
    "    with tqdm(total=len(trainloader), desc=f\"Train\", unit=\"batch\") as pbar:\n",
    "        for n_batch, (images, labels) in enumerate(trainloader): # Iterate over batches\n",
    "            images, labels = images.to(device), labels.to(device) # Move batch to device\n",
    "            optimizer.zero_grad()\n",
    "            output = model(images) # Forward pass\n",
    "            loss = criterion(output, labels) # Compute loss\n",
    "            loss.backward() # Backward pass\n",
    "            optimizer.step() # Update weights\n",
    "            running_loss += loss.item()\n",
    "            running_acc += (output.argmax(1) == labels).float().mean().item()\n",
    "            # pbar.set_postfix({'loss': loss.item(), 'acc': 100. * running_acc / (n_batch+1)})\n",
    "            pbar.set_postfix({'loss': running_loss / (n_batch+1), 'acc': 100. * running_acc / (n_batch+1)})\n",
    "            pbar.update() # Update progress bar\n",
    "    return running_loss / len(trainloader), running_acc / len(trainloader) # return loss and accuracy for this epoch\n",
    "\n",
    "# Define function to call for each validation epoch (one complete pass over the validation set)\n",
    "def validate(model, valloader, criterion, device, tag='Val'):\n",
    "    model.eval() # set model to evaluation mode (e.g. turn off dropout, batchnorm, etc.)\n",
    "    running_loss = 0; running_acc = 0\n",
    "    with torch.no_grad(): # no need to compute gradients for validation\n",
    "        with tqdm(total=len(valloader), desc=tag, unit=\"batch\") as pbar:\n",
    "            for n_batch, (images, labels) in enumerate(valloader): # Iterate over batches\n",
    "                images, labels = images.to(device), labels.to(device) # Move batch to device\n",
    "                output = model(images) # Forward pass\n",
    "                loss = criterion(output, labels) # Compute loss\n",
    "                running_loss += loss.item() \n",
    "                running_acc += (output.argmax(1) == labels).float().mean().item()\n",
    "                pbar.set_postfix({'loss': running_loss / (n_batch+1), 'acc': 100. * running_acc / (n_batch+1)})\n",
    "                pbar.update() # Update progress bar\n",
    "    return running_loss / len(valloader), running_acc / len(valloader)  # return loss and accuracy for this epoch\n",
    "\n",
    "# Run training and validation loop\n",
    "# Save the best model based on validation accuracy\n",
    "# n_epochs = 20\n",
    "# best_acc = -1\n",
    "# train_loss_history = []; train_acc_history = []\n",
    "# val_loss_history = []; val_acc_history = []\n",
    "# for epoch in range(n_epochs): # Iterate over epochs\n",
    "#     print(f\"\\nEpoch {epoch+1} of {n_epochs}\")\n",
    "#     if epoch == n_epochs // 2:\n",
    "#         lr = optimizer.param_groups[0]['lr']\n",
    "#         print(f'Reducing learning rate from {lr} to {lr/4}')\n",
    "#         optimizer.param_groups[0]['lr'] /= 4\n",
    "#     train_loss, train_acc  = train(model, trainloader, criterion, optimizer, device) # Train\n",
    "#     train_loss, train_acc  = validate(model, train_eval_loader, criterion, device, tag='Train Eval') # Evaluate on Train data\n",
    "#     val_loss, val_acc = validate(model, valloader, criterion, device) # Validate\n",
    "#     train_loss_history.append(train_loss); train_acc_history.append(train_acc)\n",
    "#     val_loss_history.append(val_loss); val_acc_history.append(val_acc)\n",
    "#     if val_acc > best_acc: # Save best model\n",
    "#         best_acc = val_acc\n",
    "#         torch.save(model.state_dict(), \"best_model.pt\") # saving model parameters (\"state_dict\") saves memory and is faster than saving the entire model\n",
    "\n",
    "# epochs = torch.arange(n_epochs)\n",
    "\n",
    "# # plot training and validation loss\n",
    "# plt.figure()\n",
    "# plt.plot(epochs, train_loss_history, label='train_loss')\n",
    "# plt.plot(epochs, val_loss_history, label='val_loss')\n",
    "# plt.xlabel('epochs')\n",
    "# plt.ylabel('Multiclass Cross Entropy Loss')\n",
    "# plt.title(f'Loss with miniVGG model')\n",
    "# plt.legend()\n",
    "# plt.show()\n",
    "\n",
    "# # plot training and validation accuracy\n",
    "# plt.figure()\n",
    "# plt.plot(epochs, train_acc_history, label='train_acc')\n",
    "# plt.plot(epochs, val_acc_history, label='val_acc')\n",
    "# plt.xlabel('epochs')\n",
    "# plt.ylabel('Accuracy')\n",
    "# plt.title(f'Accuracy with miniVGG model; Regularizer: {reg_val : 3.2g}')\n",
    "# plt.legend()\n",
    "# plt.show()\n",
    "\n",
    "# Load the best model and evaluate on test set\n",
    "model.load_state_dict(torch.load(\"best_model.pt\"))\n",
    "# test_loss, test_acc = validate(model, testloader, criterion, device)\n",
    "# print(f\"Test accuracy: {test_acc:.4f}\")\n",
    "\n",
    "model.eval() # set model to evaluation mode \n",
    "# inputs = \"onclassical_demo_fiati-di-parma_thuille_terzo-tempo_sestetto_small-version_spectrogram.png\"\n",
    "inputs = \"onclassical_demo_luisi_chopin_scherzo_2_31_small-version_i-middle_spectrogram.png\"\n",
    "from torchvision import transforms\n",
    "from PIL import Image\n",
    "\n",
    "img = Image.open(inputs)\n",
    "transform = transforms.Compose([\n",
    "    transforms.ToTensor(),  # Converts [0-255] RGBA to [0.0-1.0], shape [3, H, W]\n",
    "    transforms.Normalize(mean=[.5,.5,.5], std=[.5,.5,.5])  # Normalize for RGB\n",
    "])\n",
    "tensor_img = transform(img)\n",
    "tensor_img = tensor_img.unsqueeze(0)\n",
    "# tensor_img = tensor_img.permute(0,3, 1, 2)\n",
    "# (1, 3, 480, 640)\n",
    "# (1, 480, 640, 3)\n",
    "# 1, 640, 3, 480\n",
    "\n",
    "# img = cv2.imread(inputs)\n",
    "labels = 1\n",
    "outputs = model(tensor_img)\n",
    "_, preds = torch.max(outputs, 1)\n",
    "print(\"Prediction: \",preds.cpu().numpy())\n",
    "print(\"Label: \", labels)"
   ]
  },
  {
   "cell_type": "markdown",
   "id": "104ba523",
   "metadata": {},
   "source": []
  },
  {
   "cell_type": "code",
   "execution_count": null,
   "id": "388abc8c",
   "metadata": {},
   "outputs": [],
   "source": []
  },
  {
   "cell_type": "code",
   "execution_count": null,
   "id": "801bc3d1",
   "metadata": {},
   "outputs": [],
   "source": []
  },
  {
   "cell_type": "code",
   "execution_count": null,
   "id": "9435f75f",
   "metadata": {},
   "outputs": [
    {
     "ename": "NameError",
     "evalue": "name 'model' is not defined",
     "output_type": "error",
     "traceback": [
      "\u001b[1;31m---------------------------------------------------------------------------\u001b[0m",
      "\u001b[1;31mNameError\u001b[0m                                 Traceback (most recent call last)",
      "Cell \u001b[1;32mIn[2], line 4\u001b[0m\n\u001b[0;32m      1\u001b[0m \u001b[38;5;28;01mfrom\u001b[39;00m\u001b[38;5;250m \u001b[39m\u001b[38;5;21;01msklearn\u001b[39;00m\u001b[38;5;21;01m.\u001b[39;00m\u001b[38;5;21;01mmetrics\u001b[39;00m\u001b[38;5;250m \u001b[39m\u001b[38;5;28;01mimport\u001b[39;00m confusion_matrix\n\u001b[0;32m      2\u001b[0m \u001b[38;5;28;01mimport\u001b[39;00m\u001b[38;5;250m \u001b[39m\u001b[38;5;21;01mseaborn\u001b[39;00m\u001b[38;5;250m \u001b[39m\u001b[38;5;28;01mas\u001b[39;00m\u001b[38;5;250m \u001b[39m\u001b[38;5;21;01msns\u001b[39;00m\n\u001b[1;32m----> 4\u001b[0m \u001b[43mmodel\u001b[49m\u001b[38;5;241m.\u001b[39mload_state_dict(torch\u001b[38;5;241m.\u001b[39mload(\u001b[38;5;124m\"\u001b[39m\u001b[38;5;124mbest_model.pt\u001b[39m\u001b[38;5;124m\"\u001b[39m))\n\u001b[0;32m      6\u001b[0m all_preds \u001b[38;5;241m=\u001b[39m []\n\u001b[0;32m      7\u001b[0m all_labels \u001b[38;5;241m=\u001b[39m []\n",
      "\u001b[1;31mNameError\u001b[0m: name 'model' is not defined"
     ]
    }
   ],
   "source": [
    "from sklearn.metrics import confusion_matrix\n",
    "import seaborn as sns\n",
    " \n",
    "# model.load_state_dict(torch.load(\"best_model.pt\"))\n",
    "\n",
    "all_preds = []\n",
    "all_labels = []\n",
    "genre_list = [\"blues\", \"classical\", \"country\", \"disco\", \"hiphop\", \"jazz\", \"metal\", \"pop\", \"reggae\", \"rock\"]\n",
    "\n",
    "for inputs, labels in testloader:  # Replace `testloader` with your DataLoader\n",
    "        inputs, labels = inputs.to(device), labels.to(device)  # Move to the appropriate device (GPU or CPU)\n",
    "        \n",
    "        # Forward pass\n",
    "        outputs = model(inputs)\n",
    "        \n",
    "        # Get the predictions\n",
    "        _, preds = torch.max(outputs, 1)\n",
    "        \n",
    "        # Store all predictions and labels\n",
    "        all_preds.extend(preds.cpu().numpy())  # Convert to numpy and add to list\n",
    "        all_labels.extend(labels.cpu().numpy())  # Convert to numpy and add to list\n",
    "\n",
    "\n",
    "# Create the confusion matrix\n",
    "cm = confusion_matrix(all_labels, all_preds)\n",
    "class_labels = [genre_list[label] for label in all_labels]\n",
    "\n",
    "# Plot the confusion matrix using seaborn\n",
    "plt.figure(figsize=(8, 6))\n",
    "sns.heatmap(cm, annot=True, fmt='d', cmap='Blues', xticklabels=genre_list, yticklabels=genre_list)\n",
    "plt.xlabel('Predicted')\n",
    "plt.ylabel('True')\n",
    "plt.title('Confusion Matrix')\n",
    "plt.show()\n",
    "\n"
   ]
  },
  {
   "cell_type": "code",
   "execution_count": null,
   "id": "31ca15a5",
   "metadata": {},
   "outputs": [
    {
     "name": "stderr",
     "output_type": "stream",
     "text": [
      "Val: 100%|██████████| 4/4 [00:12<00:00,  3.13s/batch, loss=1.19, acc=59.9] "
     ]
    },
    {
     "name": "stdout",
     "output_type": "stream",
     "text": [
      "Test accuracy: 0.5990\n"
     ]
    },
    {
     "name": "stderr",
     "output_type": "stream",
     "text": [
      "\n"
     ]
    }
   ],
   "source": [
    "test_loss, test_acc = validate(model, testloader, criterion, device)\n",
    "print(f\"Test accuracy: {test_acc:.4f}\")"
   ]
  },
  {
   "cell_type": "code",
   "execution_count": null,
   "metadata": {},
   "outputs": [],
   "source": []
  },
  {
   "cell_type": "code",
   "execution_count": 23,
   "id": "74db9b00",
   "metadata": {},
   "outputs": [
    {
     "data": {
      "text/plain": [
       "(480, 640, 3)"
      ]
     },
     "execution_count": 23,
     "metadata": {},
     "output_type": "execute_result"
    }
   ],
   "source": [
    "(3, 480, 640)\n",
    "(1, 3, 480, 640)\n",
    "(480, 640, 3)\n"
   ]
  },
  {
   "cell_type": "code",
   "execution_count": null,
   "id": "8d431a57",
   "metadata": {},
   "outputs": [],
   "source": []
  }
 ],
 "metadata": {
  "kernelspec": {
   "display_name": "Python 3",
   "language": "python",
   "name": "python3"
  },
  "language_info": {
   "codemirror_mode": {
    "name": "ipython",
    "version": 3
   },
   "file_extension": ".py",
   "mimetype": "text/x-python",
   "name": "python",
   "nbconvert_exporter": "python",
   "pygments_lexer": "ipython3",
   "version": "3.9.21"
  }
 },
 "nbformat": 4,
 "nbformat_minor": 5
}
