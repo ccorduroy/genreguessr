{
 "cells": [
  {
   "cell_type": "code",
   "execution_count": null,
   "id": "f4b79d5e",
   "metadata": {},
   "outputs": [
    {
     "name": "stdout",
     "output_type": "stream",
     "text": [
      "torch.Size([3, 288, 432])\n",
      "0\n",
      "<torch.utils.data.dataset.Subset object at 0x0000020BEF53DCA0>\n",
      "\n",
      "Epoch 1/10\n"
     ]
    },
    {
     "name": "stderr",
     "output_type": "stream",
     "text": [
      "Training: 100%|██████████| 25/25 [01:03<00:00,  2.54s/batch, acc=8.88, loss=2.31]\n",
      "Validation: 100%|██████████| 4/4 [00:03<00:00,  1.19batch/s, acc=6.25, loss=2.31]\n"
     ]
    },
    {
     "name": "stdout",
     "output_type": "stream",
     "text": [
      "\n",
      "Epoch 2/10\n"
     ]
    },
    {
     "name": "stderr",
     "output_type": "stream",
     "text": [
      "Training: 100%|██████████| 25/25 [00:56<00:00,  2.25s/batch, acc=11.1, loss=2.31]\n",
      "Validation: 100%|██████████| 4/4 [00:02<00:00,  1.56batch/s, acc=7.03, loss=2.32]\n"
     ]
    },
    {
     "name": "stdout",
     "output_type": "stream",
     "text": [
      "\n",
      "Epoch 3/10\n"
     ]
    },
    {
     "name": "stderr",
     "output_type": "stream",
     "text": [
      "Training: 100%|██████████| 25/25 [00:56<00:00,  2.27s/batch, acc=10.1, loss=2.3] \n",
      "Validation: 100%|██████████| 4/4 [00:02<00:00,  1.57batch/s, acc=7.03, loss=2.32]\n"
     ]
    },
    {
     "name": "stdout",
     "output_type": "stream",
     "text": [
      "\n",
      "Epoch 4/10\n"
     ]
    },
    {
     "name": "stderr",
     "output_type": "stream",
     "text": [
      "Training: 100%|██████████| 25/25 [00:57<00:00,  2.29s/batch, acc=11.6, loss=2.28]\n",
      "Validation: 100%|██████████| 4/4 [00:02<00:00,  1.51batch/s, acc=7.03, loss=2.24]\n"
     ]
    },
    {
     "name": "stdout",
     "output_type": "stream",
     "text": [
      "\n",
      "Epoch 5/10\n"
     ]
    },
    {
     "name": "stderr",
     "output_type": "stream",
     "text": [
      "Training: 100%|██████████| 25/25 [00:56<00:00,  2.27s/batch, acc=14.2, loss=2.28]\n",
      "Validation: 100%|██████████| 4/4 [00:02<00:00,  1.52batch/s, acc=10.9, loss=2.06]\n"
     ]
    },
    {
     "name": "stdout",
     "output_type": "stream",
     "text": [
      "\n",
      "Epoch 6/10\n"
     ]
    },
    {
     "name": "stderr",
     "output_type": "stream",
     "text": [
      "Training: 100%|██████████| 25/25 [00:56<00:00,  2.26s/batch, acc=13.1, loss=2.28]\n",
      "Validation: 100%|██████████| 4/4 [00:02<00:00,  1.56batch/s, acc=14.8, loss=2.03]\n"
     ]
    },
    {
     "name": "stdout",
     "output_type": "stream",
     "text": [
      "\n",
      "Epoch 7/10\n"
     ]
    },
    {
     "name": "stderr",
     "output_type": "stream",
     "text": [
      "Training: 100%|██████████| 25/25 [00:56<00:00,  2.25s/batch, acc=14.8, loss=2.27]\n",
      "Validation: 100%|██████████| 4/4 [00:02<00:00,  1.58batch/s, acc=14.8, loss=1.97]\n"
     ]
    },
    {
     "name": "stdout",
     "output_type": "stream",
     "text": [
      "\n",
      "Epoch 8/10\n"
     ]
    },
    {
     "name": "stderr",
     "output_type": "stream",
     "text": [
      "Training: 100%|██████████| 25/25 [00:57<00:00,  2.29s/batch, acc=13.8, loss=2.31]\n",
      "Validation: 100%|██████████| 4/4 [00:02<00:00,  1.57batch/s, acc=15.6, loss=1.86]\n"
     ]
    },
    {
     "name": "stdout",
     "output_type": "stream",
     "text": [
      "\n",
      "Epoch 9/10\n"
     ]
    },
    {
     "name": "stderr",
     "output_type": "stream",
     "text": [
      "Training: 100%|██████████| 25/25 [00:56<00:00,  2.28s/batch, acc=14, loss=2.27]  \n",
      "Validation: 100%|██████████| 4/4 [00:02<00:00,  1.56batch/s, acc=17.2, loss=1.83]\n"
     ]
    },
    {
     "name": "stdout",
     "output_type": "stream",
     "text": [
      "\n",
      "Epoch 10/10\n"
     ]
    },
    {
     "name": "stderr",
     "output_type": "stream",
     "text": [
      "Training: 100%|██████████| 25/25 [00:56<00:00,  2.27s/batch, acc=14.8, loss=2.19]\n",
      "Validation: 100%|██████████| 4/4 [00:02<00:00,  1.56batch/s, acc=16.4, loss=1.79]\n",
      "Testing: 100%|██████████| 4/4 [00:03<00:00,  1.20batch/s, acc=12.5, loss=2.23]"
     ]
    },
    {
     "name": "stdout",
     "output_type": "stream",
     "text": [
      "\n",
      "Test Accuracy: 15.84%\n"
     ]
    },
    {
     "name": "stderr",
     "output_type": "stream",
     "text": [
      "\n"
     ]
    }
   ],
   "source": [
    "import torch\n",
    "import torch.nn as nn\n",
    "import torch.optim as optim\n",
    "from torch.utils.data import DataLoader, random_split\n",
    "from torchvision import transforms, datasets\n",
    "from tqdm import tqdm\n",
    "import matplotlib.pyplot as plt\n",
    "\n",
    "class RGBAtoRGB(object):\n",
    "    def __call__(self, image):\n",
    "        # Convert RGBA image to RGB by removing the alpha channel\n",
    "        return image.convert(\"RGB\")\n",
    "\n",
    "# --- 1. Define transformations ---\n",
    "transform = transforms.Compose([\n",
    "    RGBAtoRGB(), \n",
    "    transforms.ToTensor(),  # Converts [0-255] RGBA to [0.0-1.0], shape [3, H, W]\n",
    "    transforms.Normalize(mean=[0.485, 0.456, 0.406], std=[0.229, 0.224, 0.225])  # Normalize for RGB\n",
    "])\n",
    "\n",
    "# --- 2. Load dataset ---\n",
    "dataset = datasets.ImageFolder(root='images_original', transform=transform)\n",
    "\n",
    "image, label = dataset[0]\n",
    "print(image.shape)  # The transformed image (e.g., torch.Size([3, H, W]))\n",
    "print(label)  # The class label (e.g., 0 for 'cat')\n",
    "\n",
    "# Split into train, val, test (80/10/10)\n",
    "train_size = int(0.8 * len(dataset))\n",
    "val_size = int(0.1 * len(dataset))\n",
    "test_size = len(dataset) - train_size - val_size\n",
    "train_ds, val_ds, test_ds = random_split(dataset, [train_size, val_size, test_size])\n",
    "\n",
    "print(train_ds)\n",
    "\n",
    "# --- 3. Create DataLoaders ---\n",
    "batch_size = 32\n",
    "train_loader = DataLoader(train_ds, batch_size=batch_size, shuffle=True)\n",
    "val_loader = DataLoader(val_ds, batch_size=batch_size, shuffle=False)\n",
    "test_loader = DataLoader(test_ds, batch_size=batch_size, shuffle=False)\n",
    "\n",
    "# --- 4. Define CNN Model ---\n",
    "class CNNModel(nn.Module):\n",
    "    def __init__(self, num_classes=10):\n",
    "        super(CNNModel, self).__init__()\n",
    "        self.conv_block = nn.Sequential(\n",
    "            nn.Conv2d(3, 32, kernel_size=3, padding=1),  # 3 input channels (RGB)\n",
    "            nn.ReLU(),\n",
    "            nn.MaxPool2d(2),  # 288x432 -> 144x216\n",
    "            nn.Conv2d(32, 64, kernel_size=3, padding=1),\n",
    "            nn.ReLU(),\n",
    "            nn.MaxPool2d(2),  # 144x216 -> 72x108\n",
    "        )\n",
    "        self.classifier = nn.Sequential(\n",
    "            nn.Flatten(),\n",
    "            nn.Linear(64 * 72 * 108, 256),\n",
    "            nn.ReLU(),\n",
    "            nn.Dropout(0.5),\n",
    "            nn.Linear(256, num_classes)\n",
    "        )\n",
    "\n",
    "    def forward(self, x):\n",
    "        x = self.conv_block(x)\n",
    "        x = self.classifier(x)\n",
    "        return x\n",
    "\n",
    "model = CNNModel(num_classes=10)\n",
    "\n",
    "# --- 5. Set device ---\n",
    "device = torch.device('cuda' if torch.cuda.is_available() else 'cpu')\n",
    "model.to(device)\n",
    "\n",
    "# --- 6. Loss and optimizer ---\n",
    "criterion = nn.CrossEntropyLoss()\n",
    "optimizer = optim.Adam(model.parameters(), lr=1e-4)\n",
    "\n",
    "# --- 7. Training & Validation Loops ---\n",
    "def train(model, loader, criterion, optimizer, device):\n",
    "    model.train()\n",
    "    total_loss, total_correct = 0, 0\n",
    "    pbar = tqdm(loader, desc=\"Training\", unit=\"batch\")\n",
    "    for images, labels in pbar:\n",
    "        images, labels = images.to(device), labels.to(device)\n",
    "\n",
    "        optimizer.zero_grad()\n",
    "        outputs = model(images)\n",
    "        loss = criterion(outputs, labels)\n",
    "        loss.backward()\n",
    "        optimizer.step()\n",
    "\n",
    "        total_loss += loss.item()\n",
    "        total_correct += (outputs.argmax(1) == labels).sum().item()\n",
    "\n",
    "        pbar.set_postfix(loss=loss.item(), acc=100.0 * total_correct / ((pbar.n + 1) * loader.batch_size))\n",
    "\n",
    "    avg_loss = total_loss / len(loader)\n",
    "    accuracy = total_correct / len(loader.dataset)\n",
    "    return avg_loss, accuracy\n",
    "\n",
    "def evaluate(model, loader, criterion, device, tag=\"Validation\"):\n",
    "    model.eval()\n",
    "    total_loss, total_correct = 0, 0\n",
    "    pbar = tqdm(loader, desc=tag, unit=\"batch\")\n",
    "    with torch.no_grad():\n",
    "        for images, labels in pbar:\n",
    "            images, labels = images.to(device), labels.to(device)\n",
    "            outputs = model(images)\n",
    "            loss = criterion(outputs, labels)\n",
    "\n",
    "            total_loss += loss.item()\n",
    "            total_correct += (outputs.argmax(1) == labels).sum().item()\n",
    "\n",
    "            pbar.set_postfix(loss=loss.item(), acc=100.0 * total_correct / ((pbar.n + 1) * loader.batch_size))\n",
    "\n",
    "    avg_loss = total_loss / len(loader)\n",
    "    accuracy = total_correct / len(loader.dataset)\n",
    "    return avg_loss, accuracy\n",
    "\n",
    "# --- 8. Train the model ---\n",
    "epochs = 10\n",
    "for epoch in range(epochs):\n",
    "    print(f\"\\nEpoch {epoch+1}/{epochs}\")\n",
    "    train_loss, train_acc = train(model, train_loader, criterion, optimizer, device)\n",
    "    val_loss, val_acc = evaluate(model, val_loader, criterion, device)\n",
    "\n",
    "# --- 9. Test ---\n",
    "test_loss, test_acc = evaluate(model, test_loader, criterion, device, tag=\"Testing\")\n",
    "print(f\"\\nTest Accuracy: {100 * test_acc:.2f}%\")\n"
   ]
  },
  {
   "cell_type": "code",
   "execution_count": 1,
   "id": "9dca8edd",
   "metadata": {},
   "outputs": [
    {
     "name": "stdout",
     "output_type": "stream",
     "text": [
      "torch.Size([3, 288, 432])\n",
      "0\n",
      "<torch.utils.data.dataset.Subset object at 0x000002B20AC4BF70>\n",
      "\n",
      "Epoch 1/150\n"
     ]
    },
    {
     "name": "stderr",
     "output_type": "stream",
     "text": [
      "Training: 100%|██████████| 25/25 [00:56<00:00,  2.25s/batch, acc=11.4, loss=2.29]\n",
      "Validation: 100%|██████████| 4/4 [00:02<00:00,  1.57batch/s, acc=14.8, loss=2.13]\n"
     ]
    },
    {
     "name": "stdout",
     "output_type": "stream",
     "text": [
      "\n",
      "Epoch 2/150\n"
     ]
    },
    {
     "name": "stderr",
     "output_type": "stream",
     "text": [
      "Training: 100%|██████████| 25/25 [00:55<00:00,  2.23s/batch, acc=18.2, loss=2.24]\n",
      "Validation: 100%|██████████| 4/4 [00:02<00:00,  1.59batch/s, acc=10.9, loss=2.31]\n"
     ]
    },
    {
     "name": "stdout",
     "output_type": "stream",
     "text": [
      "\n",
      "Epoch 3/150\n"
     ]
    },
    {
     "name": "stderr",
     "output_type": "stream",
     "text": [
      "Training: 100%|██████████| 25/25 [00:57<00:00,  2.31s/batch, acc=19.5, loss=2.23]\n",
      "Validation: 100%|██████████| 4/4 [00:02<00:00,  1.49batch/s, acc=20.3, loss=2.07]\n"
     ]
    },
    {
     "name": "stdout",
     "output_type": "stream",
     "text": [
      "\n",
      "Epoch 4/150\n"
     ]
    },
    {
     "name": "stderr",
     "output_type": "stream",
     "text": [
      "Training: 100%|██████████| 25/25 [01:04<00:00,  2.56s/batch, acc=19.5, loss=2.08]\n",
      "Validation: 100%|██████████| 4/4 [00:02<00:00,  1.51batch/s, acc=21.1, loss=1.98]\n"
     ]
    },
    {
     "name": "stdout",
     "output_type": "stream",
     "text": [
      "\n",
      "Epoch 5/150\n"
     ]
    },
    {
     "name": "stderr",
     "output_type": "stream",
     "text": [
      "Training: 100%|██████████| 25/25 [01:02<00:00,  2.48s/batch, acc=21.2, loss=2.19]\n",
      "Validation: 100%|██████████| 4/4 [00:02<00:00,  1.47batch/s, acc=18, loss=1.91]  \n"
     ]
    },
    {
     "name": "stdout",
     "output_type": "stream",
     "text": [
      "\n",
      "Epoch 6/150\n"
     ]
    },
    {
     "name": "stderr",
     "output_type": "stream",
     "text": [
      "Training: 100%|██████████| 25/25 [01:02<00:00,  2.50s/batch, acc=18.9, loss=2.25]\n",
      "Validation: 100%|██████████| 4/4 [00:02<00:00,  1.45batch/s, acc=25, loss=1.94]  \n"
     ]
    },
    {
     "name": "stdout",
     "output_type": "stream",
     "text": [
      "\n",
      "Epoch 7/150\n"
     ]
    },
    {
     "name": "stderr",
     "output_type": "stream",
     "text": [
      "Training: 100%|██████████| 25/25 [00:59<00:00,  2.40s/batch, acc=23.6, loss=2.15]\n",
      "Validation: 100%|██████████| 4/4 [00:02<00:00,  1.58batch/s, acc=20.3, loss=1.81]\n"
     ]
    },
    {
     "name": "stdout",
     "output_type": "stream",
     "text": [
      "\n",
      "Epoch 8/150\n"
     ]
    },
    {
     "name": "stderr",
     "output_type": "stream",
     "text": [
      "Training: 100%|██████████| 25/25 [01:00<00:00,  2.41s/batch, acc=24.5, loss=2.05]\n",
      "Validation: 100%|██████████| 4/4 [00:02<00:00,  1.42batch/s, acc=20.3, loss=1.77]\n"
     ]
    },
    {
     "name": "stdout",
     "output_type": "stream",
     "text": [
      "\n",
      "Epoch 9/150\n"
     ]
    },
    {
     "name": "stderr",
     "output_type": "stream",
     "text": [
      "Training: 100%|██████████| 25/25 [01:04<00:00,  2.57s/batch, acc=24.4, loss=1.91]\n",
      "Validation: 100%|██████████| 4/4 [00:02<00:00,  1.49batch/s, acc=21.1, loss=1.76]\n"
     ]
    },
    {
     "name": "stdout",
     "output_type": "stream",
     "text": [
      "\n",
      "Epoch 10/150\n"
     ]
    },
    {
     "name": "stderr",
     "output_type": "stream",
     "text": [
      "Training: 100%|██████████| 25/25 [01:00<00:00,  2.43s/batch, acc=26.9, loss=1.85]\n",
      "Validation: 100%|██████████| 4/4 [00:02<00:00,  1.36batch/s, acc=22.7, loss=1.85]\n"
     ]
    },
    {
     "name": "stdout",
     "output_type": "stream",
     "text": [
      "\n",
      "Epoch 11/150\n"
     ]
    },
    {
     "name": "stderr",
     "output_type": "stream",
     "text": [
      "Training: 100%|██████████| 25/25 [01:00<00:00,  2.43s/batch, acc=24.1, loss=1.98]\n",
      "Validation: 100%|██████████| 4/4 [00:02<00:00,  1.37batch/s, acc=23.4, loss=1.54]\n"
     ]
    },
    {
     "name": "stdout",
     "output_type": "stream",
     "text": [
      "\n",
      "Epoch 12/150\n"
     ]
    },
    {
     "name": "stderr",
     "output_type": "stream",
     "text": [
      "Training: 100%|██████████| 25/25 [00:59<00:00,  2.38s/batch, acc=27.5, loss=1.74]\n",
      "Validation: 100%|██████████| 4/4 [00:02<00:00,  1.63batch/s, acc=25, loss=1.54]  \n"
     ]
    },
    {
     "name": "stdout",
     "output_type": "stream",
     "text": [
      "\n",
      "Epoch 13/150\n"
     ]
    },
    {
     "name": "stderr",
     "output_type": "stream",
     "text": [
      "Training: 100%|██████████| 25/25 [00:58<00:00,  2.34s/batch, acc=26.2, loss=1.65]\n",
      "Validation: 100%|██████████| 4/4 [00:02<00:00,  1.43batch/s, acc=24.2, loss=1.62]\n"
     ]
    },
    {
     "name": "stdout",
     "output_type": "stream",
     "text": [
      "\n",
      "Epoch 14/150\n"
     ]
    },
    {
     "name": "stderr",
     "output_type": "stream",
     "text": [
      "Training: 100%|██████████| 25/25 [01:04<00:00,  2.57s/batch, acc=26.1, loss=1.66]\n",
      "Validation: 100%|██████████| 4/4 [00:02<00:00,  1.39batch/s, acc=25.8, loss=1.5] \n"
     ]
    },
    {
     "name": "stdout",
     "output_type": "stream",
     "text": [
      "\n",
      "Epoch 15/150\n"
     ]
    },
    {
     "name": "stderr",
     "output_type": "stream",
     "text": [
      "Training: 100%|██████████| 25/25 [00:57<00:00,  2.31s/batch, acc=28, loss=1.86]  \n",
      "Validation: 100%|██████████| 4/4 [00:02<00:00,  1.57batch/s, acc=25.8, loss=1.53]\n"
     ]
    },
    {
     "name": "stdout",
     "output_type": "stream",
     "text": [
      "\n",
      "Epoch 16/150\n"
     ]
    },
    {
     "name": "stderr",
     "output_type": "stream",
     "text": [
      "Training: 100%|██████████| 25/25 [00:59<00:00,  2.39s/batch, acc=29.1, loss=1.8] \n",
      "Validation: 100%|██████████| 4/4 [00:02<00:00,  1.60batch/s, acc=27.3, loss=1.57]\n"
     ]
    },
    {
     "name": "stdout",
     "output_type": "stream",
     "text": [
      "\n",
      "Epoch 17/150\n"
     ]
    },
    {
     "name": "stderr",
     "output_type": "stream",
     "text": [
      "Training: 100%|██████████| 25/25 [00:55<00:00,  2.23s/batch, acc=28.6, loss=1.81]\n",
      "Validation: 100%|██████████| 4/4 [00:02<00:00,  1.60batch/s, acc=29.7, loss=1.41]\n"
     ]
    },
    {
     "name": "stdout",
     "output_type": "stream",
     "text": [
      "\n",
      "Epoch 18/150\n"
     ]
    },
    {
     "name": "stderr",
     "output_type": "stream",
     "text": [
      "Training: 100%|██████████| 25/25 [00:55<00:00,  2.22s/batch, acc=30.4, loss=1.69]\n",
      "Validation: 100%|██████████| 4/4 [00:02<00:00,  1.60batch/s, acc=31.2, loss=1.46]\n"
     ]
    },
    {
     "name": "stdout",
     "output_type": "stream",
     "text": [
      "\n",
      "Epoch 19/150\n"
     ]
    },
    {
     "name": "stderr",
     "output_type": "stream",
     "text": [
      "Training: 100%|██████████| 25/25 [00:55<00:00,  2.23s/batch, acc=31.9, loss=1.65]\n",
      "Validation: 100%|██████████| 4/4 [00:02<00:00,  1.62batch/s, acc=29.7, loss=1.34]\n"
     ]
    },
    {
     "name": "stdout",
     "output_type": "stream",
     "text": [
      "\n",
      "Epoch 20/150\n"
     ]
    },
    {
     "name": "stderr",
     "output_type": "stream",
     "text": [
      "Training: 100%|██████████| 25/25 [00:56<00:00,  2.26s/batch, acc=35.2, loss=1.53]\n",
      "Validation: 100%|██████████| 4/4 [00:02<00:00,  1.48batch/s, acc=28.9, loss=1.45]\n"
     ]
    },
    {
     "name": "stdout",
     "output_type": "stream",
     "text": [
      "\n",
      "Epoch 21/150\n"
     ]
    },
    {
     "name": "stderr",
     "output_type": "stream",
     "text": [
      "Training: 100%|██████████| 25/25 [00:55<00:00,  2.20s/batch, acc=31.9, loss=1.64]\n",
      "Validation: 100%|██████████| 4/4 [00:02<00:00,  1.67batch/s, acc=31.2, loss=1.44]\n"
     ]
    },
    {
     "name": "stdout",
     "output_type": "stream",
     "text": [
      "\n",
      "Epoch 22/150\n"
     ]
    },
    {
     "name": "stderr",
     "output_type": "stream",
     "text": [
      "Training: 100%|██████████| 25/25 [00:56<00:00,  2.24s/batch, acc=34, loss=1.64]  \n",
      "Validation: 100%|██████████| 4/4 [00:02<00:00,  1.63batch/s, acc=31.2, loss=1.36]\n"
     ]
    },
    {
     "name": "stdout",
     "output_type": "stream",
     "text": [
      "\n",
      "Epoch 23/150\n"
     ]
    },
    {
     "name": "stderr",
     "output_type": "stream",
     "text": [
      "Training: 100%|██████████| 25/25 [00:56<00:00,  2.27s/batch, acc=34, loss=1.44]  \n",
      "Validation: 100%|██████████| 4/4 [00:02<00:00,  1.60batch/s, acc=33.6, loss=1.31]\n"
     ]
    },
    {
     "name": "stdout",
     "output_type": "stream",
     "text": [
      "\n",
      "Epoch 24/150\n"
     ]
    },
    {
     "name": "stderr",
     "output_type": "stream",
     "text": [
      "Training: 100%|██████████| 25/25 [00:56<00:00,  2.25s/batch, acc=37.5, loss=1.53]\n",
      "Validation: 100%|██████████| 4/4 [00:02<00:00,  1.60batch/s, acc=34.4, loss=1.3] \n"
     ]
    },
    {
     "name": "stdout",
     "output_type": "stream",
     "text": [
      "\n",
      "Epoch 25/150\n"
     ]
    },
    {
     "name": "stderr",
     "output_type": "stream",
     "text": [
      "Training: 100%|██████████| 25/25 [00:55<00:00,  2.22s/batch, acc=36.2, loss=1.44]\n",
      "Validation: 100%|██████████| 4/4 [00:02<00:00,  1.59batch/s, acc=31.2, loss=1.32]\n"
     ]
    },
    {
     "name": "stdout",
     "output_type": "stream",
     "text": [
      "\n",
      "Epoch 26/150\n"
     ]
    },
    {
     "name": "stderr",
     "output_type": "stream",
     "text": [
      "Training: 100%|██████████| 25/25 [00:55<00:00,  2.21s/batch, acc=33.6, loss=1.58]\n",
      "Validation: 100%|██████████| 4/4 [00:02<00:00,  1.61batch/s, acc=33.6, loss=1.32]\n"
     ]
    },
    {
     "name": "stdout",
     "output_type": "stream",
     "text": [
      "\n",
      "Epoch 27/150\n"
     ]
    },
    {
     "name": "stderr",
     "output_type": "stream",
     "text": [
      "Training: 100%|██████████| 25/25 [00:56<00:00,  2.26s/batch, acc=37.5, loss=1.62]\n",
      "Validation: 100%|██████████| 4/4 [00:02<00:00,  1.60batch/s, acc=39.1, loss=1.28]\n"
     ]
    },
    {
     "name": "stdout",
     "output_type": "stream",
     "text": [
      "\n",
      "Epoch 28/150\n"
     ]
    },
    {
     "name": "stderr",
     "output_type": "stream",
     "text": [
      "Training: 100%|██████████| 25/25 [00:57<00:00,  2.32s/batch, acc=36.9, loss=1.43]\n",
      "Validation: 100%|██████████| 4/4 [00:02<00:00,  1.55batch/s, acc=35.2, loss=1.22]\n"
     ]
    },
    {
     "name": "stdout",
     "output_type": "stream",
     "text": [
      "\n",
      "Epoch 29/150\n"
     ]
    },
    {
     "name": "stderr",
     "output_type": "stream",
     "text": [
      "Training: 100%|██████████| 25/25 [00:59<00:00,  2.39s/batch, acc=36.2, loss=1.5] \n",
      "Validation: 100%|██████████| 4/4 [00:02<00:00,  1.62batch/s, acc=39.8, loss=1.24]\n"
     ]
    },
    {
     "name": "stdout",
     "output_type": "stream",
     "text": [
      "\n",
      "Epoch 30/150\n"
     ]
    },
    {
     "name": "stderr",
     "output_type": "stream",
     "text": [
      "Training: 100%|██████████| 25/25 [00:59<00:00,  2.38s/batch, acc=38.8, loss=1.62]\n",
      "Validation: 100%|██████████| 4/4 [00:02<00:00,  1.64batch/s, acc=39.8, loss=1.22]\n"
     ]
    },
    {
     "name": "stdout",
     "output_type": "stream",
     "text": [
      "\n",
      "Epoch 31/150\n"
     ]
    },
    {
     "name": "stderr",
     "output_type": "stream",
     "text": [
      "Training: 100%|██████████| 25/25 [00:59<00:00,  2.38s/batch, acc=39.8, loss=1.39]\n",
      "Validation: 100%|██████████| 4/4 [00:02<00:00,  1.53batch/s, acc=39.8, loss=1.19]\n"
     ]
    },
    {
     "name": "stdout",
     "output_type": "stream",
     "text": [
      "\n",
      "Epoch 32/150\n"
     ]
    },
    {
     "name": "stderr",
     "output_type": "stream",
     "text": [
      "Training: 100%|██████████| 25/25 [00:58<00:00,  2.32s/batch, acc=38.9, loss=1.35]\n",
      "Validation: 100%|██████████| 4/4 [00:02<00:00,  1.61batch/s, acc=37.5, loss=1.08]\n"
     ]
    },
    {
     "name": "stdout",
     "output_type": "stream",
     "text": [
      "\n",
      "Epoch 33/150\n"
     ]
    },
    {
     "name": "stderr",
     "output_type": "stream",
     "text": [
      "Training: 100%|██████████| 25/25 [00:56<00:00,  2.27s/batch, acc=42, loss=1.32]  \n",
      "Validation: 100%|██████████| 4/4 [00:02<00:00,  1.53batch/s, acc=39.8, loss=1.09]\n"
     ]
    },
    {
     "name": "stdout",
     "output_type": "stream",
     "text": [
      "\n",
      "Epoch 34/150\n"
     ]
    },
    {
     "name": "stderr",
     "output_type": "stream",
     "text": [
      "Training: 100%|██████████| 25/25 [00:57<00:00,  2.28s/batch, acc=41.2, loss=1.36]\n",
      "Validation: 100%|██████████| 4/4 [00:02<00:00,  1.61batch/s, acc=43.8, loss=1.14]\n"
     ]
    },
    {
     "name": "stdout",
     "output_type": "stream",
     "text": [
      "\n",
      "Epoch 35/150\n"
     ]
    },
    {
     "name": "stderr",
     "output_type": "stream",
     "text": [
      "Training: 100%|██████████| 25/25 [00:59<00:00,  2.37s/batch, acc=45.1, loss=1.29]\n",
      "Validation: 100%|██████████| 4/4 [00:02<00:00,  1.46batch/s, acc=37.5, loss=1.08]\n"
     ]
    },
    {
     "name": "stdout",
     "output_type": "stream",
     "text": [
      "\n",
      "Epoch 36/150\n"
     ]
    },
    {
     "name": "stderr",
     "output_type": "stream",
     "text": [
      "Training: 100%|██████████| 25/25 [00:58<00:00,  2.35s/batch, acc=47.1, loss=1.52]\n",
      "Validation: 100%|██████████| 4/4 [00:02<00:00,  1.49batch/s, acc=38.3, loss=0.971]\n"
     ]
    },
    {
     "name": "stdout",
     "output_type": "stream",
     "text": [
      "\n",
      "Epoch 37/150\n"
     ]
    },
    {
     "name": "stderr",
     "output_type": "stream",
     "text": [
      "Training: 100%|██████████| 25/25 [00:59<00:00,  2.37s/batch, acc=44.9, loss=1.52]\n",
      "Validation: 100%|██████████| 4/4 [00:02<00:00,  1.63batch/s, acc=37.5, loss=1.05]\n"
     ]
    },
    {
     "name": "stdout",
     "output_type": "stream",
     "text": [
      "\n",
      "Epoch 38/150\n"
     ]
    },
    {
     "name": "stderr",
     "output_type": "stream",
     "text": [
      "Training: 100%|██████████| 25/25 [00:57<00:00,  2.29s/batch, acc=43.9, loss=1.46]\n",
      "Validation: 100%|██████████| 4/4 [00:02<00:00,  1.58batch/s, acc=41.4, loss=1.02]\n"
     ]
    },
    {
     "name": "stdout",
     "output_type": "stream",
     "text": [
      "\n",
      "Epoch 39/150\n"
     ]
    },
    {
     "name": "stderr",
     "output_type": "stream",
     "text": [
      "Training: 100%|██████████| 25/25 [00:57<00:00,  2.29s/batch, acc=46.4, loss=1.52] \n",
      "Validation: 100%|██████████| 4/4 [00:02<00:00,  1.60batch/s, acc=39.8, loss=0.999]\n"
     ]
    },
    {
     "name": "stdout",
     "output_type": "stream",
     "text": [
      "\n",
      "Epoch 40/150\n"
     ]
    },
    {
     "name": "stderr",
     "output_type": "stream",
     "text": [
      "Training: 100%|██████████| 25/25 [00:57<00:00,  2.28s/batch, acc=47, loss=1.39]  \n",
      "Validation: 100%|██████████| 4/4 [00:02<00:00,  1.51batch/s, acc=42.2, loss=0.964]\n"
     ]
    },
    {
     "name": "stdout",
     "output_type": "stream",
     "text": [
      "\n",
      "Epoch 41/150\n"
     ]
    },
    {
     "name": "stderr",
     "output_type": "stream",
     "text": [
      "Training: 100%|██████████| 25/25 [00:55<00:00,  2.22s/batch, acc=45, loss=1.19]  \n",
      "Validation: 100%|██████████| 4/4 [00:02<00:00,  1.61batch/s, acc=39.8, loss=0.936]\n"
     ]
    },
    {
     "name": "stdout",
     "output_type": "stream",
     "text": [
      "\n",
      "Epoch 42/150\n"
     ]
    },
    {
     "name": "stderr",
     "output_type": "stream",
     "text": [
      "Training: 100%|██████████| 25/25 [00:55<00:00,  2.22s/batch, acc=48.1, loss=1.26] \n",
      "Validation: 100%|██████████| 4/4 [00:02<00:00,  1.62batch/s, acc=35.9, loss=0.828]\n"
     ]
    },
    {
     "name": "stdout",
     "output_type": "stream",
     "text": [
      "\n",
      "Epoch 43/150\n"
     ]
    },
    {
     "name": "stderr",
     "output_type": "stream",
     "text": [
      "Training: 100%|██████████| 25/25 [00:56<00:00,  2.26s/batch, acc=50.1, loss=1.44]\n",
      "Validation: 100%|██████████| 4/4 [00:02<00:00,  1.54batch/s, acc=43, loss=0.87]  \n"
     ]
    },
    {
     "name": "stdout",
     "output_type": "stream",
     "text": [
      "\n",
      "Epoch 44/150\n"
     ]
    },
    {
     "name": "stderr",
     "output_type": "stream",
     "text": [
      "Training: 100%|██████████| 25/25 [01:01<00:00,  2.48s/batch, acc=49.6, loss=0.941]\n",
      "Validation: 100%|██████████| 4/4 [00:02<00:00,  1.60batch/s, acc=39.1, loss=0.897]\n"
     ]
    },
    {
     "name": "stdout",
     "output_type": "stream",
     "text": [
      "\n",
      "Epoch 45/150\n"
     ]
    },
    {
     "name": "stderr",
     "output_type": "stream",
     "text": [
      "Training: 100%|██████████| 25/25 [00:58<00:00,  2.36s/batch, acc=48.2, loss=1.2] \n",
      "Validation: 100%|██████████| 4/4 [00:02<00:00,  1.43batch/s, acc=39.8, loss=0.891]\n"
     ]
    },
    {
     "name": "stdout",
     "output_type": "stream",
     "text": [
      "\n",
      "Epoch 46/150\n"
     ]
    },
    {
     "name": "stderr",
     "output_type": "stream",
     "text": [
      "Training: 100%|██████████| 25/25 [00:57<00:00,  2.29s/batch, acc=52.4, loss=1.08] \n",
      "Validation: 100%|██████████| 4/4 [00:02<00:00,  1.57batch/s, acc=39.1, loss=0.779]\n"
     ]
    },
    {
     "name": "stdout",
     "output_type": "stream",
     "text": [
      "\n",
      "Epoch 47/150\n"
     ]
    },
    {
     "name": "stderr",
     "output_type": "stream",
     "text": [
      "Training: 100%|██████████| 25/25 [00:57<00:00,  2.29s/batch, acc=50.6, loss=1.16]\n",
      "Validation: 100%|██████████| 4/4 [00:02<00:00,  1.61batch/s, acc=41.4, loss=0.744]\n"
     ]
    },
    {
     "name": "stdout",
     "output_type": "stream",
     "text": [
      "\n",
      "Epoch 48/150\n"
     ]
    },
    {
     "name": "stderr",
     "output_type": "stream",
     "text": [
      "Training: 100%|██████████| 25/25 [00:56<00:00,  2.25s/batch, acc=54.8, loss=1.04] \n",
      "Validation: 100%|██████████| 4/4 [00:02<00:00,  1.58batch/s, acc=43, loss=0.734] \n"
     ]
    },
    {
     "name": "stdout",
     "output_type": "stream",
     "text": [
      "\n",
      "Epoch 49/150\n"
     ]
    },
    {
     "name": "stderr",
     "output_type": "stream",
     "text": [
      "Training: 100%|██████████| 25/25 [00:55<00:00,  2.22s/batch, acc=48.5, loss=1.31]\n",
      "Validation: 100%|██████████| 4/4 [00:02<00:00,  1.58batch/s, acc=39.8, loss=0.713]\n"
     ]
    },
    {
     "name": "stdout",
     "output_type": "stream",
     "text": [
      "\n",
      "Epoch 50/150\n"
     ]
    },
    {
     "name": "stderr",
     "output_type": "stream",
     "text": [
      "Training: 100%|██████████| 25/25 [00:55<00:00,  2.23s/batch, acc=53.2, loss=1.23] \n",
      "Validation: 100%|██████████| 4/4 [00:02<00:00,  1.64batch/s, acc=37.5, loss=0.682]\n"
     ]
    },
    {
     "name": "stdout",
     "output_type": "stream",
     "text": [
      "\n",
      "Epoch 51/150\n"
     ]
    },
    {
     "name": "stderr",
     "output_type": "stream",
     "text": [
      "Training: 100%|██████████| 25/25 [00:55<00:00,  2.23s/batch, acc=51.1, loss=1.03]\n",
      "Validation: 100%|██████████| 4/4 [00:02<00:00,  1.63batch/s, acc=39.8, loss=0.745]\n"
     ]
    },
    {
     "name": "stdout",
     "output_type": "stream",
     "text": [
      "\n",
      "Epoch 52/150\n"
     ]
    },
    {
     "name": "stderr",
     "output_type": "stream",
     "text": [
      "Training: 100%|██████████| 25/25 [00:56<00:00,  2.25s/batch, acc=54, loss=1.27]   \n",
      "Validation: 100%|██████████| 4/4 [00:02<00:00,  1.47batch/s, acc=43, loss=0.709] \n"
     ]
    },
    {
     "name": "stdout",
     "output_type": "stream",
     "text": [
      "\n",
      "Epoch 53/150\n"
     ]
    },
    {
     "name": "stderr",
     "output_type": "stream",
     "text": [
      "Training: 100%|██████████| 25/25 [00:55<00:00,  2.24s/batch, acc=53.1, loss=1.08] \n",
      "Validation: 100%|██████████| 4/4 [00:02<00:00,  1.63batch/s, acc=42.2, loss=0.794]\n"
     ]
    },
    {
     "name": "stdout",
     "output_type": "stream",
     "text": [
      "\n",
      "Epoch 54/150\n"
     ]
    },
    {
     "name": "stderr",
     "output_type": "stream",
     "text": [
      "Training: 100%|██████████| 25/25 [00:57<00:00,  2.29s/batch, acc=52.9, loss=1.04] \n",
      "Validation: 100%|██████████| 4/4 [00:02<00:00,  1.59batch/s, acc=39.8, loss=0.632]\n"
     ]
    },
    {
     "name": "stdout",
     "output_type": "stream",
     "text": [
      "\n",
      "Epoch 55/150\n"
     ]
    },
    {
     "name": "stderr",
     "output_type": "stream",
     "text": [
      "Training: 100%|██████████| 25/25 [00:56<00:00,  2.25s/batch, acc=56.5, loss=0.991]\n",
      "Validation: 100%|██████████| 4/4 [00:02<00:00,  1.59batch/s, acc=43.8, loss=0.672]\n"
     ]
    },
    {
     "name": "stdout",
     "output_type": "stream",
     "text": [
      "\n",
      "Epoch 56/150\n"
     ]
    },
    {
     "name": "stderr",
     "output_type": "stream",
     "text": [
      "Training: 100%|██████████| 25/25 [00:56<00:00,  2.25s/batch, acc=52.4, loss=0.756]\n",
      "Validation: 100%|██████████| 4/4 [00:02<00:00,  1.60batch/s, acc=40.6, loss=0.608]\n"
     ]
    },
    {
     "name": "stdout",
     "output_type": "stream",
     "text": [
      "\n",
      "Epoch 57/150\n"
     ]
    },
    {
     "name": "stderr",
     "output_type": "stream",
     "text": [
      "Training: 100%|██████████| 25/25 [00:55<00:00,  2.24s/batch, acc=54.1, loss=0.95] \n",
      "Validation: 100%|██████████| 4/4 [00:02<00:00,  1.62batch/s, acc=44.5, loss=0.545]\n"
     ]
    },
    {
     "name": "stdout",
     "output_type": "stream",
     "text": [
      "\n",
      "Epoch 58/150\n"
     ]
    },
    {
     "name": "stderr",
     "output_type": "stream",
     "text": [
      "Training: 100%|██████████| 25/25 [00:55<00:00,  2.22s/batch, acc=57.4, loss=1.02] \n",
      "Validation: 100%|██████████| 4/4 [00:02<00:00,  1.61batch/s, acc=39.8, loss=0.575]\n"
     ]
    },
    {
     "name": "stdout",
     "output_type": "stream",
     "text": [
      "\n",
      "Epoch 59/150\n"
     ]
    },
    {
     "name": "stderr",
     "output_type": "stream",
     "text": [
      "Training: 100%|██████████| 25/25 [00:56<00:00,  2.28s/batch, acc=53.6, loss=1.2]  \n",
      "Validation: 100%|██████████| 4/4 [00:02<00:00,  1.62batch/s, acc=42.2, loss=0.57]\n"
     ]
    },
    {
     "name": "stdout",
     "output_type": "stream",
     "text": [
      "\n",
      "Epoch 60/150\n"
     ]
    },
    {
     "name": "stderr",
     "output_type": "stream",
     "text": [
      "Training: 100%|██████████| 25/25 [00:56<00:00,  2.27s/batch, acc=54.9, loss=1.15] \n",
      "Validation: 100%|██████████| 4/4 [00:02<00:00,  1.54batch/s, acc=46.1, loss=0.569]\n"
     ]
    },
    {
     "name": "stdout",
     "output_type": "stream",
     "text": [
      "\n",
      "Epoch 61/150\n"
     ]
    },
    {
     "name": "stderr",
     "output_type": "stream",
     "text": [
      "Training: 100%|██████████| 25/25 [00:58<00:00,  2.33s/batch, acc=57.5, loss=1.04] \n",
      "Validation: 100%|██████████| 4/4 [00:02<00:00,  1.61batch/s, acc=43, loss=0.538] \n"
     ]
    },
    {
     "name": "stdout",
     "output_type": "stream",
     "text": [
      "\n",
      "Epoch 62/150\n"
     ]
    },
    {
     "name": "stderr",
     "output_type": "stream",
     "text": [
      "Training: 100%|██████████| 25/25 [00:56<00:00,  2.27s/batch, acc=53.2, loss=1.18] \n",
      "Validation: 100%|██████████| 4/4 [00:02<00:00,  1.58batch/s, acc=39.8, loss=0.563]\n"
     ]
    },
    {
     "name": "stdout",
     "output_type": "stream",
     "text": [
      "\n",
      "Epoch 63/150\n"
     ]
    },
    {
     "name": "stderr",
     "output_type": "stream",
     "text": [
      "Training: 100%|██████████| 25/25 [00:55<00:00,  2.24s/batch, acc=56.9, loss=0.915]\n",
      "Validation: 100%|██████████| 4/4 [00:02<00:00,  1.61batch/s, acc=42.2, loss=0.571]\n"
     ]
    },
    {
     "name": "stdout",
     "output_type": "stream",
     "text": [
      "\n",
      "Epoch 64/150\n"
     ]
    },
    {
     "name": "stderr",
     "output_type": "stream",
     "text": [
      "Training: 100%|██████████| 25/25 [00:55<00:00,  2.24s/batch, acc=57.1, loss=1.06] \n",
      "Validation: 100%|██████████| 4/4 [00:02<00:00,  1.62batch/s, acc=36.7, loss=0.616]\n"
     ]
    },
    {
     "name": "stdout",
     "output_type": "stream",
     "text": [
      "\n",
      "Epoch 65/150\n"
     ]
    },
    {
     "name": "stderr",
     "output_type": "stream",
     "text": [
      "Training: 100%|██████████| 25/25 [00:55<00:00,  2.22s/batch, acc=57, loss=1.05]   \n",
      "Validation: 100%|██████████| 4/4 [00:02<00:00,  1.62batch/s, acc=43.8, loss=0.487]\n"
     ]
    },
    {
     "name": "stdout",
     "output_type": "stream",
     "text": [
      "\n",
      "Epoch 66/150\n"
     ]
    },
    {
     "name": "stderr",
     "output_type": "stream",
     "text": [
      "Training: 100%|██████████| 25/25 [00:55<00:00,  2.23s/batch, acc=56.8, loss=1.19] \n",
      "Validation: 100%|██████████| 4/4 [00:02<00:00,  1.65batch/s, acc=40.6, loss=0.533]\n"
     ]
    },
    {
     "name": "stdout",
     "output_type": "stream",
     "text": [
      "\n",
      "Epoch 67/150\n"
     ]
    },
    {
     "name": "stderr",
     "output_type": "stream",
     "text": [
      "Training: 100%|██████████| 25/25 [00:55<00:00,  2.23s/batch, acc=53.5, loss=0.887]\n",
      "Validation: 100%|██████████| 4/4 [00:02<00:00,  1.59batch/s, acc=45.3, loss=0.57]\n"
     ]
    },
    {
     "name": "stdout",
     "output_type": "stream",
     "text": [
      "\n",
      "Epoch 68/150\n"
     ]
    },
    {
     "name": "stderr",
     "output_type": "stream",
     "text": [
      "Training: 100%|██████████| 25/25 [00:55<00:00,  2.23s/batch, acc=53.5, loss=1.27] \n",
      "Validation: 100%|██████████| 4/4 [00:02<00:00,  1.63batch/s, acc=39.8, loss=0.51]\n"
     ]
    },
    {
     "name": "stdout",
     "output_type": "stream",
     "text": [
      "\n",
      "Epoch 69/150\n"
     ]
    },
    {
     "name": "stderr",
     "output_type": "stream",
     "text": [
      "Training: 100%|██████████| 25/25 [00:55<00:00,  2.22s/batch, acc=55.9, loss=1.13] \n",
      "Validation: 100%|██████████| 4/4 [00:02<00:00,  1.60batch/s, acc=39.8, loss=0.535]\n"
     ]
    },
    {
     "name": "stdout",
     "output_type": "stream",
     "text": [
      "\n",
      "Epoch 70/150\n"
     ]
    },
    {
     "name": "stderr",
     "output_type": "stream",
     "text": [
      "Training: 100%|██████████| 25/25 [00:55<00:00,  2.23s/batch, acc=54.8, loss=1.14] \n",
      "Validation: 100%|██████████| 4/4 [00:02<00:00,  1.63batch/s, acc=39.8, loss=0.51]\n"
     ]
    },
    {
     "name": "stdout",
     "output_type": "stream",
     "text": [
      "\n",
      "Epoch 71/150\n"
     ]
    },
    {
     "name": "stderr",
     "output_type": "stream",
     "text": [
      "Training: 100%|██████████| 25/25 [01:01<00:00,  2.45s/batch, acc=55.8, loss=1.01] \n",
      "Validation: 100%|██████████| 4/4 [00:02<00:00,  1.63batch/s, acc=37.5, loss=0.55]\n"
     ]
    },
    {
     "name": "stdout",
     "output_type": "stream",
     "text": [
      "\n",
      "Epoch 72/150\n"
     ]
    },
    {
     "name": "stderr",
     "output_type": "stream",
     "text": [
      "Training: 100%|██████████| 25/25 [00:59<00:00,  2.36s/batch, acc=54.4, loss=1.02] \n",
      "Validation: 100%|██████████| 4/4 [00:02<00:00,  1.65batch/s, acc=41.4, loss=0.618]\n"
     ]
    },
    {
     "name": "stdout",
     "output_type": "stream",
     "text": [
      "\n",
      "Epoch 73/150\n"
     ]
    },
    {
     "name": "stderr",
     "output_type": "stream",
     "text": [
      "Training: 100%|██████████| 25/25 [00:57<00:00,  2.30s/batch, acc=57.4, loss=1.04] \n",
      "Validation: 100%|██████████| 4/4 [00:02<00:00,  1.67batch/s, acc=42.2, loss=0.525]\n"
     ]
    },
    {
     "name": "stdout",
     "output_type": "stream",
     "text": [
      "\n",
      "Epoch 74/150\n"
     ]
    },
    {
     "name": "stderr",
     "output_type": "stream",
     "text": [
      "Training: 100%|██████████| 25/25 [00:57<00:00,  2.29s/batch, acc=57.6, loss=1.03] \n",
      "Validation: 100%|██████████| 4/4 [00:02<00:00,  1.62batch/s, acc=42.2, loss=0.526]\n"
     ]
    },
    {
     "name": "stdout",
     "output_type": "stream",
     "text": [
      "\n",
      "Epoch 75/150\n"
     ]
    },
    {
     "name": "stderr",
     "output_type": "stream",
     "text": [
      "Training: 100%|██████████| 25/25 [00:57<00:00,  2.30s/batch, acc=58.1, loss=0.928]\n",
      "Validation: 100%|██████████| 4/4 [00:02<00:00,  1.61batch/s, acc=39.8, loss=0.562]\n"
     ]
    },
    {
     "name": "stdout",
     "output_type": "stream",
     "text": [
      "\n",
      "Epoch 76/150\n"
     ]
    },
    {
     "name": "stderr",
     "output_type": "stream",
     "text": [
      "Training: 100%|██████████| 25/25 [00:57<00:00,  2.28s/batch, acc=58.8, loss=1.12] \n",
      "Validation: 100%|██████████| 4/4 [00:02<00:00,  1.63batch/s, acc=40.6, loss=0.455]\n"
     ]
    },
    {
     "name": "stdout",
     "output_type": "stream",
     "text": [
      "\n",
      "Epoch 77/150\n"
     ]
    },
    {
     "name": "stderr",
     "output_type": "stream",
     "text": [
      "Training: 100%|██████████| 25/25 [00:55<00:00,  2.22s/batch, acc=60.1, loss=0.77] \n",
      "Validation: 100%|██████████| 4/4 [00:02<00:00,  1.60batch/s, acc=39.8, loss=0.467]\n"
     ]
    },
    {
     "name": "stdout",
     "output_type": "stream",
     "text": [
      "\n",
      "Epoch 78/150\n"
     ]
    },
    {
     "name": "stderr",
     "output_type": "stream",
     "text": [
      "Training: 100%|██████████| 25/25 [02:15<00:00,  5.43s/batch, acc=56.9, loss=1.15] \n",
      "Validation: 100%|██████████| 4/4 [00:02<00:00,  1.57batch/s, acc=42.2, loss=0.489]\n"
     ]
    },
    {
     "name": "stdout",
     "output_type": "stream",
     "text": [
      "\n",
      "Epoch 79/150\n"
     ]
    },
    {
     "name": "stderr",
     "output_type": "stream",
     "text": [
      "Training: 100%|██████████| 25/25 [01:00<00:00,  2.42s/batch, acc=55.9, loss=1.15] \n",
      "Validation: 100%|██████████| 4/4 [00:02<00:00,  1.54batch/s, acc=43, loss=0.431] \n"
     ]
    },
    {
     "name": "stdout",
     "output_type": "stream",
     "text": [
      "\n",
      "Epoch 80/150\n"
     ]
    },
    {
     "name": "stderr",
     "output_type": "stream",
     "text": [
      "Training: 100%|██████████| 25/25 [00:57<00:00,  2.29s/batch, acc=59.2, loss=0.916]\n",
      "Validation: 100%|██████████| 4/4 [00:02<00:00,  1.62batch/s, acc=42.2, loss=0.538]\n"
     ]
    },
    {
     "name": "stdout",
     "output_type": "stream",
     "text": [
      "\n",
      "Epoch 81/150\n"
     ]
    },
    {
     "name": "stderr",
     "output_type": "stream",
     "text": [
      "Training: 100%|██████████| 25/25 [00:57<00:00,  2.29s/batch, acc=58.1, loss=0.844]\n",
      "Validation: 100%|██████████| 4/4 [00:02<00:00,  1.59batch/s, acc=40.6, loss=0.426]\n"
     ]
    },
    {
     "name": "stdout",
     "output_type": "stream",
     "text": [
      "\n",
      "Epoch 82/150\n"
     ]
    },
    {
     "name": "stderr",
     "output_type": "stream",
     "text": [
      "Training: 100%|██████████| 25/25 [01:00<00:00,  2.41s/batch, acc=58.6, loss=0.986]\n",
      "Validation: 100%|██████████| 4/4 [00:02<00:00,  1.62batch/s, acc=41.4, loss=0.456]\n"
     ]
    },
    {
     "name": "stdout",
     "output_type": "stream",
     "text": [
      "\n",
      "Epoch 83/150\n"
     ]
    },
    {
     "name": "stderr",
     "output_type": "stream",
     "text": [
      "Training: 100%|██████████| 25/25 [01:01<00:00,  2.44s/batch, acc=57.6, loss=0.941]\n",
      "Validation: 100%|██████████| 4/4 [00:02<00:00,  1.62batch/s, acc=35.9, loss=0.434]\n"
     ]
    },
    {
     "name": "stdout",
     "output_type": "stream",
     "text": [
      "\n",
      "Epoch 84/150\n"
     ]
    },
    {
     "name": "stderr",
     "output_type": "stream",
     "text": [
      "Training: 100%|██████████| 25/25 [01:01<00:00,  2.46s/batch, acc=56.1, loss=0.926]\n",
      "Validation: 100%|██████████| 4/4 [00:02<00:00,  1.59batch/s, acc=42.2, loss=0.463]\n"
     ]
    },
    {
     "name": "stdout",
     "output_type": "stream",
     "text": [
      "\n",
      "Epoch 85/150\n"
     ]
    },
    {
     "name": "stderr",
     "output_type": "stream",
     "text": [
      "Training: 100%|██████████| 25/25 [00:59<00:00,  2.37s/batch, acc=58.6, loss=0.744]\n",
      "Validation: 100%|██████████| 4/4 [00:02<00:00,  1.58batch/s, acc=40.6, loss=0.467]\n"
     ]
    },
    {
     "name": "stdout",
     "output_type": "stream",
     "text": [
      "\n",
      "Epoch 86/150\n"
     ]
    },
    {
     "name": "stderr",
     "output_type": "stream",
     "text": [
      "Training: 100%|██████████| 25/25 [00:58<00:00,  2.32s/batch, acc=55.2, loss=0.93] \n",
      "Validation: 100%|██████████| 4/4 [00:02<00:00,  1.58batch/s, acc=39.1, loss=0.456]\n"
     ]
    },
    {
     "name": "stdout",
     "output_type": "stream",
     "text": [
      "\n",
      "Epoch 87/150\n"
     ]
    },
    {
     "name": "stderr",
     "output_type": "stream",
     "text": [
      "Training: 100%|██████████| 25/25 [00:57<00:00,  2.31s/batch, acc=57, loss=0.904]  \n",
      "Validation: 100%|██████████| 4/4 [00:02<00:00,  1.59batch/s, acc=40.6, loss=0.449]\n"
     ]
    },
    {
     "name": "stdout",
     "output_type": "stream",
     "text": [
      "\n",
      "Epoch 88/150\n"
     ]
    },
    {
     "name": "stderr",
     "output_type": "stream",
     "text": [
      "Training: 100%|██████████| 25/25 [01:00<00:00,  2.43s/batch, acc=62, loss=1.06]   \n",
      "Validation: 100%|██████████| 4/4 [00:02<00:00,  1.56batch/s, acc=43, loss=0.498] \n"
     ]
    },
    {
     "name": "stdout",
     "output_type": "stream",
     "text": [
      "\n",
      "Epoch 89/150\n"
     ]
    },
    {
     "name": "stderr",
     "output_type": "stream",
     "text": [
      "Training: 100%|██████████| 25/25 [00:59<00:00,  2.39s/batch, acc=60.9, loss=0.944]\n",
      "Validation: 100%|██████████| 4/4 [00:02<00:00,  1.61batch/s, acc=39.1, loss=0.428]\n"
     ]
    },
    {
     "name": "stdout",
     "output_type": "stream",
     "text": [
      "\n",
      "Epoch 90/150\n"
     ]
    },
    {
     "name": "stderr",
     "output_type": "stream",
     "text": [
      "Training: 100%|██████████| 25/25 [00:58<00:00,  2.34s/batch, acc=58, loss=1.05]   \n",
      "Validation: 100%|██████████| 4/4 [00:02<00:00,  1.59batch/s, acc=36.7, loss=0.422]\n"
     ]
    },
    {
     "name": "stdout",
     "output_type": "stream",
     "text": [
      "\n",
      "Epoch 91/150\n"
     ]
    },
    {
     "name": "stderr",
     "output_type": "stream",
     "text": [
      "Training: 100%|██████████| 25/25 [00:58<00:00,  2.32s/batch, acc=60.9, loss=0.916]\n",
      "Validation: 100%|██████████| 4/4 [00:02<00:00,  1.60batch/s, acc=40.6, loss=0.431]\n"
     ]
    },
    {
     "name": "stdout",
     "output_type": "stream",
     "text": [
      "\n",
      "Epoch 92/150\n"
     ]
    },
    {
     "name": "stderr",
     "output_type": "stream",
     "text": [
      "Training: 100%|██████████| 25/25 [00:57<00:00,  2.32s/batch, acc=58.8, loss=0.857]\n",
      "Validation: 100%|██████████| 4/4 [00:02<00:00,  1.60batch/s, acc=39.1, loss=0.45]\n"
     ]
    },
    {
     "name": "stdout",
     "output_type": "stream",
     "text": [
      "\n",
      "Epoch 93/150\n"
     ]
    },
    {
     "name": "stderr",
     "output_type": "stream",
     "text": [
      "Training: 100%|██████████| 25/25 [01:00<00:00,  2.41s/batch, acc=59.9, loss=0.685]\n",
      "Validation: 100%|██████████| 4/4 [00:02<00:00,  1.60batch/s, acc=37.5, loss=0.496]\n"
     ]
    },
    {
     "name": "stdout",
     "output_type": "stream",
     "text": [
      "\n",
      "Epoch 94/150\n"
     ]
    },
    {
     "name": "stderr",
     "output_type": "stream",
     "text": [
      "Training: 100%|██████████| 25/25 [01:00<00:00,  2.42s/batch, acc=58.2, loss=0.729]\n",
      "Validation: 100%|██████████| 4/4 [00:02<00:00,  1.58batch/s, acc=37.5, loss=0.495]\n"
     ]
    },
    {
     "name": "stdout",
     "output_type": "stream",
     "text": [
      "\n",
      "Epoch 95/150\n"
     ]
    },
    {
     "name": "stderr",
     "output_type": "stream",
     "text": [
      "Training: 100%|██████████| 25/25 [01:00<00:00,  2.41s/batch, acc=59.4, loss=0.832]\n",
      "Validation: 100%|██████████| 4/4 [00:02<00:00,  1.59batch/s, acc=42.2, loss=0.433]\n"
     ]
    },
    {
     "name": "stdout",
     "output_type": "stream",
     "text": [
      "\n",
      "Epoch 96/150\n"
     ]
    },
    {
     "name": "stderr",
     "output_type": "stream",
     "text": [
      "Training: 100%|██████████| 25/25 [01:00<00:00,  2.41s/batch, acc=60.9, loss=0.876]\n",
      "Validation: 100%|██████████| 4/4 [00:02<00:00,  1.59batch/s, acc=37.5, loss=0.426]\n"
     ]
    },
    {
     "name": "stdout",
     "output_type": "stream",
     "text": [
      "\n",
      "Epoch 97/150\n"
     ]
    },
    {
     "name": "stderr",
     "output_type": "stream",
     "text": [
      "Training: 100%|██████████| 25/25 [00:57<00:00,  2.32s/batch, acc=59.4, loss=0.92] \n",
      "Validation: 100%|██████████| 4/4 [00:02<00:00,  1.60batch/s, acc=43.8, loss=0.434]\n"
     ]
    },
    {
     "name": "stdout",
     "output_type": "stream",
     "text": [
      "\n",
      "Epoch 98/150\n"
     ]
    },
    {
     "name": "stderr",
     "output_type": "stream",
     "text": [
      "Training: 100%|██████████| 25/25 [00:56<00:00,  2.24s/batch, acc=62.1, loss=0.785]\n",
      "Validation: 100%|██████████| 4/4 [00:02<00:00,  1.59batch/s, acc=39.8, loss=0.439]\n"
     ]
    },
    {
     "name": "stdout",
     "output_type": "stream",
     "text": [
      "\n",
      "Epoch 99/150\n"
     ]
    },
    {
     "name": "stderr",
     "output_type": "stream",
     "text": [
      "Training: 100%|██████████| 25/25 [00:55<00:00,  2.24s/batch, acc=61.4, loss=1.08] \n",
      "Validation: 100%|██████████| 4/4 [00:02<00:00,  1.66batch/s, acc=37.5, loss=0.412]\n"
     ]
    },
    {
     "name": "stdout",
     "output_type": "stream",
     "text": [
      "\n",
      "Epoch 100/150\n"
     ]
    },
    {
     "name": "stderr",
     "output_type": "stream",
     "text": [
      "Training: 100%|██████████| 25/25 [00:55<00:00,  2.23s/batch, acc=60.4, loss=0.947]\n",
      "Validation: 100%|██████████| 4/4 [00:02<00:00,  1.59batch/s, acc=38.3, loss=0.369]\n"
     ]
    },
    {
     "name": "stdout",
     "output_type": "stream",
     "text": [
      "\n",
      "Epoch 101/150\n"
     ]
    },
    {
     "name": "stderr",
     "output_type": "stream",
     "text": [
      "Training: 100%|██████████| 25/25 [00:55<00:00,  2.23s/batch, acc=57.8, loss=1.05] \n",
      "Validation: 100%|██████████| 4/4 [00:02<00:00,  1.60batch/s, acc=39.8, loss=0.426]\n"
     ]
    },
    {
     "name": "stdout",
     "output_type": "stream",
     "text": [
      "\n",
      "Epoch 102/150\n"
     ]
    },
    {
     "name": "stderr",
     "output_type": "stream",
     "text": [
      "Training: 100%|██████████| 25/25 [00:55<00:00,  2.24s/batch, acc=60.2, loss=1.1]  \n",
      "Validation: 100%|██████████| 4/4 [00:02<00:00,  1.65batch/s, acc=39.1, loss=0.473]\n"
     ]
    },
    {
     "name": "stdout",
     "output_type": "stream",
     "text": [
      "\n",
      "Epoch 103/150\n"
     ]
    },
    {
     "name": "stderr",
     "output_type": "stream",
     "text": [
      "Training: 100%|██████████| 25/25 [00:56<00:00,  2.24s/batch, acc=56.9, loss=0.903]\n",
      "Validation: 100%|██████████| 4/4 [00:02<00:00,  1.62batch/s, acc=42.2, loss=0.452]\n"
     ]
    },
    {
     "name": "stdout",
     "output_type": "stream",
     "text": [
      "\n",
      "Epoch 104/150\n"
     ]
    },
    {
     "name": "stderr",
     "output_type": "stream",
     "text": [
      "Training: 100%|██████████| 25/25 [00:56<00:00,  2.25s/batch, acc=59.2, loss=0.892]\n",
      "Validation: 100%|██████████| 4/4 [00:02<00:00,  1.60batch/s, acc=35.9, loss=0.411]\n"
     ]
    },
    {
     "name": "stdout",
     "output_type": "stream",
     "text": [
      "\n",
      "Epoch 105/150\n"
     ]
    },
    {
     "name": "stderr",
     "output_type": "stream",
     "text": [
      "Training: 100%|██████████| 25/25 [00:55<00:00,  2.23s/batch, acc=61.8, loss=0.83] \n",
      "Validation: 100%|██████████| 4/4 [00:02<00:00,  1.59batch/s, acc=37.5, loss=0.382]\n"
     ]
    },
    {
     "name": "stdout",
     "output_type": "stream",
     "text": [
      "\n",
      "Epoch 106/150\n"
     ]
    },
    {
     "name": "stderr",
     "output_type": "stream",
     "text": [
      "Training: 100%|██████████| 25/25 [00:56<00:00,  2.26s/batch, acc=60, loss=1.05]   \n",
      "Validation: 100%|██████████| 4/4 [00:02<00:00,  1.60batch/s, acc=37.5, loss=0.336]\n"
     ]
    },
    {
     "name": "stdout",
     "output_type": "stream",
     "text": [
      "\n",
      "Epoch 107/150\n"
     ]
    },
    {
     "name": "stderr",
     "output_type": "stream",
     "text": [
      "Training: 100%|██████████| 25/25 [00:56<00:00,  2.25s/batch, acc=59.1, loss=1.04] \n",
      "Validation: 100%|██████████| 4/4 [00:02<00:00,  1.66batch/s, acc=39.8, loss=0.392]\n"
     ]
    },
    {
     "name": "stdout",
     "output_type": "stream",
     "text": [
      "\n",
      "Epoch 108/150\n"
     ]
    },
    {
     "name": "stderr",
     "output_type": "stream",
     "text": [
      "Training: 100%|██████████| 25/25 [00:56<00:00,  2.26s/batch, acc=59.1, loss=1.03] \n",
      "Validation: 100%|██████████| 4/4 [00:02<00:00,  1.61batch/s, acc=39.8, loss=0.363]\n"
     ]
    },
    {
     "name": "stdout",
     "output_type": "stream",
     "text": [
      "\n",
      "Epoch 109/150\n"
     ]
    },
    {
     "name": "stderr",
     "output_type": "stream",
     "text": [
      "Training: 100%|██████████| 25/25 [00:55<00:00,  2.23s/batch, acc=58.6, loss=0.782]\n",
      "Validation: 100%|██████████| 4/4 [00:02<00:00,  1.61batch/s, acc=36.7, loss=0.425]\n"
     ]
    },
    {
     "name": "stdout",
     "output_type": "stream",
     "text": [
      "\n",
      "Epoch 110/150\n"
     ]
    },
    {
     "name": "stderr",
     "output_type": "stream",
     "text": [
      "Training: 100%|██████████| 25/25 [00:55<00:00,  2.23s/batch, acc=60.9, loss=0.734]\n",
      "Validation: 100%|██████████| 4/4 [00:02<00:00,  1.58batch/s, acc=39.1, loss=0.384]\n"
     ]
    },
    {
     "name": "stdout",
     "output_type": "stream",
     "text": [
      "\n",
      "Epoch 111/150\n"
     ]
    },
    {
     "name": "stderr",
     "output_type": "stream",
     "text": [
      "Training: 100%|██████████| 25/25 [00:56<00:00,  2.24s/batch, acc=57.8, loss=0.963]\n",
      "Validation: 100%|██████████| 4/4 [00:02<00:00,  1.60batch/s, acc=38.3, loss=0.375]\n"
     ]
    },
    {
     "name": "stdout",
     "output_type": "stream",
     "text": [
      "\n",
      "Epoch 112/150\n"
     ]
    },
    {
     "name": "stderr",
     "output_type": "stream",
     "text": [
      "Training: 100%|██████████| 25/25 [00:56<00:00,  2.27s/batch, acc=60.4, loss=0.755]\n",
      "Validation: 100%|██████████| 4/4 [00:02<00:00,  1.56batch/s, acc=38.3, loss=0.355]\n"
     ]
    },
    {
     "name": "stdout",
     "output_type": "stream",
     "text": [
      "\n",
      "Epoch 113/150\n"
     ]
    },
    {
     "name": "stderr",
     "output_type": "stream",
     "text": [
      "Training: 100%|██████████| 25/25 [00:56<00:00,  2.24s/batch, acc=62.4, loss=0.96] \n",
      "Validation: 100%|██████████| 4/4 [00:02<00:00,  1.60batch/s, acc=41.4, loss=0.357]\n"
     ]
    },
    {
     "name": "stdout",
     "output_type": "stream",
     "text": [
      "\n",
      "Epoch 114/150\n"
     ]
    },
    {
     "name": "stderr",
     "output_type": "stream",
     "text": [
      "Training: 100%|██████████| 25/25 [00:55<00:00,  2.23s/batch, acc=60.4, loss=0.973]\n",
      "Validation: 100%|██████████| 4/4 [00:02<00:00,  1.58batch/s, acc=37.5, loss=0.365]\n"
     ]
    },
    {
     "name": "stdout",
     "output_type": "stream",
     "text": [
      "\n",
      "Epoch 115/150\n"
     ]
    },
    {
     "name": "stderr",
     "output_type": "stream",
     "text": [
      "Training: 100%|██████████| 25/25 [00:56<00:00,  2.25s/batch, acc=61.4, loss=0.855]\n",
      "Validation: 100%|██████████| 4/4 [00:02<00:00,  1.62batch/s, acc=38.3, loss=0.348]\n"
     ]
    },
    {
     "name": "stdout",
     "output_type": "stream",
     "text": [
      "\n",
      "Epoch 116/150\n"
     ]
    },
    {
     "name": "stderr",
     "output_type": "stream",
     "text": [
      "Training: 100%|██████████| 25/25 [00:56<00:00,  2.25s/batch, acc=58.1, loss=1.03] \n",
      "Validation: 100%|██████████| 4/4 [00:02<00:00,  1.59batch/s, acc=39.8, loss=0.385]\n"
     ]
    },
    {
     "name": "stdout",
     "output_type": "stream",
     "text": [
      "\n",
      "Epoch 117/150\n"
     ]
    },
    {
     "name": "stderr",
     "output_type": "stream",
     "text": [
      "Training: 100%|██████████| 25/25 [00:56<00:00,  2.27s/batch, acc=60.1, loss=0.908]\n",
      "Validation: 100%|██████████| 4/4 [00:02<00:00,  1.49batch/s, acc=39.1, loss=0.388]\n"
     ]
    },
    {
     "name": "stdout",
     "output_type": "stream",
     "text": [
      "\n",
      "Epoch 118/150\n"
     ]
    },
    {
     "name": "stderr",
     "output_type": "stream",
     "text": [
      "Training: 100%|██████████| 25/25 [00:56<00:00,  2.24s/batch, acc=62, loss=0.689]  \n",
      "Validation: 100%|██████████| 4/4 [00:02<00:00,  1.58batch/s, acc=37.5, loss=0.43]\n"
     ]
    },
    {
     "name": "stdout",
     "output_type": "stream",
     "text": [
      "\n",
      "Epoch 119/150\n"
     ]
    },
    {
     "name": "stderr",
     "output_type": "stream",
     "text": [
      "Training: 100%|██████████| 25/25 [00:55<00:00,  2.23s/batch, acc=59.4, loss=0.889]\n",
      "Validation: 100%|██████████| 4/4 [00:02<00:00,  1.58batch/s, acc=38.3, loss=0.413]\n"
     ]
    },
    {
     "name": "stdout",
     "output_type": "stream",
     "text": [
      "\n",
      "Epoch 120/150\n"
     ]
    },
    {
     "name": "stderr",
     "output_type": "stream",
     "text": [
      "Training: 100%|██████████| 25/25 [00:55<00:00,  2.24s/batch, acc=58.6, loss=1.14] \n",
      "Validation: 100%|██████████| 4/4 [00:02<00:00,  1.59batch/s, acc=38.3, loss=0.402]\n"
     ]
    },
    {
     "name": "stdout",
     "output_type": "stream",
     "text": [
      "\n",
      "Epoch 121/150\n"
     ]
    },
    {
     "name": "stderr",
     "output_type": "stream",
     "text": [
      "Training: 100%|██████████| 25/25 [00:55<00:00,  2.23s/batch, acc=60, loss=0.999]  \n",
      "Validation: 100%|██████████| 4/4 [00:02<00:00,  1.58batch/s, acc=38.3, loss=0.355]\n"
     ]
    },
    {
     "name": "stdout",
     "output_type": "stream",
     "text": [
      "\n",
      "Epoch 122/150\n"
     ]
    },
    {
     "name": "stderr",
     "output_type": "stream",
     "text": [
      "Training: 100%|██████████| 25/25 [00:55<00:00,  2.24s/batch, acc=62, loss=0.759]  \n",
      "Validation: 100%|██████████| 4/4 [00:02<00:00,  1.61batch/s, acc=36.7, loss=0.343]\n"
     ]
    },
    {
     "name": "stdout",
     "output_type": "stream",
     "text": [
      "\n",
      "Epoch 123/150\n"
     ]
    },
    {
     "name": "stderr",
     "output_type": "stream",
     "text": [
      "Training: 100%|██████████| 25/25 [00:56<00:00,  2.24s/batch, acc=62.4, loss=0.718]\n",
      "Validation: 100%|██████████| 4/4 [00:02<00:00,  1.61batch/s, acc=40.6, loss=0.338]\n"
     ]
    },
    {
     "name": "stdout",
     "output_type": "stream",
     "text": [
      "\n",
      "Epoch 124/150\n"
     ]
    },
    {
     "name": "stderr",
     "output_type": "stream",
     "text": [
      "Training: 100%|██████████| 25/25 [00:55<00:00,  2.24s/batch, acc=60.5, loss=0.924]\n",
      "Validation: 100%|██████████| 4/4 [00:02<00:00,  1.63batch/s, acc=37.5, loss=0.399]\n"
     ]
    },
    {
     "name": "stdout",
     "output_type": "stream",
     "text": [
      "\n",
      "Epoch 125/150\n"
     ]
    },
    {
     "name": "stderr",
     "output_type": "stream",
     "text": [
      "Training: 100%|██████████| 25/25 [00:55<00:00,  2.23s/batch, acc=63, loss=0.811]  \n",
      "Validation: 100%|██████████| 4/4 [00:02<00:00,  1.61batch/s, acc=38.3, loss=0.36]\n"
     ]
    },
    {
     "name": "stdout",
     "output_type": "stream",
     "text": [
      "\n",
      "Epoch 126/150\n"
     ]
    },
    {
     "name": "stderr",
     "output_type": "stream",
     "text": [
      "Training: 100%|██████████| 25/25 [00:55<00:00,  2.22s/batch, acc=61.4, loss=0.892]\n",
      "Validation: 100%|██████████| 4/4 [00:02<00:00,  1.58batch/s, acc=36.7, loss=0.394]\n"
     ]
    },
    {
     "name": "stdout",
     "output_type": "stream",
     "text": [
      "\n",
      "Epoch 127/150\n"
     ]
    },
    {
     "name": "stderr",
     "output_type": "stream",
     "text": [
      "Training: 100%|██████████| 25/25 [00:55<00:00,  2.23s/batch, acc=60.5, loss=0.892]\n",
      "Validation: 100%|██████████| 4/4 [00:02<00:00,  1.64batch/s, acc=41.4, loss=0.363]\n"
     ]
    },
    {
     "name": "stdout",
     "output_type": "stream",
     "text": [
      "\n",
      "Epoch 128/150\n"
     ]
    },
    {
     "name": "stderr",
     "output_type": "stream",
     "text": [
      "Training: 100%|██████████| 25/25 [00:56<00:00,  2.24s/batch, acc=63.2, loss=0.876]\n",
      "Validation: 100%|██████████| 4/4 [00:02<00:00,  1.59batch/s, acc=37.5, loss=0.356]\n"
     ]
    },
    {
     "name": "stdout",
     "output_type": "stream",
     "text": [
      "\n",
      "Epoch 129/150\n"
     ]
    },
    {
     "name": "stderr",
     "output_type": "stream",
     "text": [
      "Training: 100%|██████████| 25/25 [00:56<00:00,  2.24s/batch, acc=60.2, loss=1.12] \n",
      "Validation: 100%|██████████| 4/4 [00:02<00:00,  1.62batch/s, acc=39.8, loss=0.393]\n"
     ]
    },
    {
     "name": "stdout",
     "output_type": "stream",
     "text": [
      "\n",
      "Epoch 130/150\n"
     ]
    },
    {
     "name": "stderr",
     "output_type": "stream",
     "text": [
      "Training: 100%|██████████| 25/25 [00:56<00:00,  2.25s/batch, acc=61.8, loss=0.985]\n",
      "Validation: 100%|██████████| 4/4 [00:02<00:00,  1.60batch/s, acc=39.1, loss=0.391]\n"
     ]
    },
    {
     "name": "stdout",
     "output_type": "stream",
     "text": [
      "\n",
      "Epoch 131/150\n"
     ]
    },
    {
     "name": "stderr",
     "output_type": "stream",
     "text": [
      "Training: 100%|██████████| 25/25 [00:55<00:00,  2.22s/batch, acc=64.6, loss=0.585]\n",
      "Validation: 100%|██████████| 4/4 [00:02<00:00,  1.59batch/s, acc=41.4, loss=0.419]\n"
     ]
    },
    {
     "name": "stdout",
     "output_type": "stream",
     "text": [
      "\n",
      "Epoch 132/150\n"
     ]
    },
    {
     "name": "stderr",
     "output_type": "stream",
     "text": [
      "Training: 100%|██████████| 25/25 [00:55<00:00,  2.23s/batch, acc=60.6, loss=1.01] \n",
      "Validation: 100%|██████████| 4/4 [00:02<00:00,  1.60batch/s, acc=42.2, loss=0.38]\n"
     ]
    },
    {
     "name": "stdout",
     "output_type": "stream",
     "text": [
      "\n",
      "Epoch 133/150\n"
     ]
    },
    {
     "name": "stderr",
     "output_type": "stream",
     "text": [
      "Training: 100%|██████████| 25/25 [00:55<00:00,  2.23s/batch, acc=62.1, loss=1.04] \n",
      "Validation: 100%|██████████| 4/4 [00:02<00:00,  1.62batch/s, acc=38.3, loss=0.377]\n"
     ]
    },
    {
     "name": "stdout",
     "output_type": "stream",
     "text": [
      "\n",
      "Epoch 134/150\n"
     ]
    },
    {
     "name": "stderr",
     "output_type": "stream",
     "text": [
      "Training: 100%|██████████| 25/25 [00:55<00:00,  2.24s/batch, acc=60.6, loss=1.09] \n",
      "Validation: 100%|██████████| 4/4 [00:02<00:00,  1.62batch/s, acc=39.1, loss=0.342]\n"
     ]
    },
    {
     "name": "stdout",
     "output_type": "stream",
     "text": [
      "\n",
      "Epoch 135/150\n"
     ]
    },
    {
     "name": "stderr",
     "output_type": "stream",
     "text": [
      "Training: 100%|██████████| 25/25 [00:55<00:00,  2.24s/batch, acc=56.6, loss=0.881]\n",
      "Validation: 100%|██████████| 4/4 [00:02<00:00,  1.60batch/s, acc=40.6, loss=0.358]\n"
     ]
    },
    {
     "name": "stdout",
     "output_type": "stream",
     "text": [
      "\n",
      "Epoch 136/150\n"
     ]
    },
    {
     "name": "stderr",
     "output_type": "stream",
     "text": [
      "Training: 100%|██████████| 25/25 [00:55<00:00,  2.23s/batch, acc=61.2, loss=0.736]\n",
      "Validation: 100%|██████████| 4/4 [00:02<00:00,  1.61batch/s, acc=39.8, loss=0.406]\n"
     ]
    },
    {
     "name": "stdout",
     "output_type": "stream",
     "text": [
      "\n",
      "Epoch 137/150\n"
     ]
    },
    {
     "name": "stderr",
     "output_type": "stream",
     "text": [
      "Training: 100%|██████████| 25/25 [00:56<00:00,  2.24s/batch, acc=62.8, loss=0.566]\n",
      "Validation: 100%|██████████| 4/4 [00:02<00:00,  1.59batch/s, acc=41.4, loss=0.343]\n"
     ]
    },
    {
     "name": "stdout",
     "output_type": "stream",
     "text": [
      "\n",
      "Epoch 138/150\n"
     ]
    },
    {
     "name": "stderr",
     "output_type": "stream",
     "text": [
      "Training: 100%|██████████| 25/25 [00:56<00:00,  2.24s/batch, acc=62.4, loss=0.826]\n",
      "Validation: 100%|██████████| 4/4 [00:02<00:00,  1.61batch/s, acc=39.1, loss=0.338]\n"
     ]
    },
    {
     "name": "stdout",
     "output_type": "stream",
     "text": [
      "\n",
      "Epoch 139/150\n"
     ]
    },
    {
     "name": "stderr",
     "output_type": "stream",
     "text": [
      "Training: 100%|██████████| 25/25 [00:55<00:00,  2.21s/batch, acc=63, loss=0.86]   \n",
      "Validation: 100%|██████████| 4/4 [00:02<00:00,  1.63batch/s, acc=36.7, loss=0.318]\n"
     ]
    },
    {
     "name": "stdout",
     "output_type": "stream",
     "text": [
      "\n",
      "Epoch 140/150\n"
     ]
    },
    {
     "name": "stderr",
     "output_type": "stream",
     "text": [
      "Training: 100%|██████████| 25/25 [00:55<00:00,  2.24s/batch, acc=63, loss=0.875]  \n",
      "Validation: 100%|██████████| 4/4 [00:02<00:00,  1.68batch/s, acc=38.3, loss=0.32]\n"
     ]
    },
    {
     "name": "stdout",
     "output_type": "stream",
     "text": [
      "\n",
      "Epoch 141/150\n"
     ]
    },
    {
     "name": "stderr",
     "output_type": "stream",
     "text": [
      "Training: 100%|██████████| 25/25 [00:56<00:00,  2.25s/batch, acc=62.2, loss=0.851]\n",
      "Validation: 100%|██████████| 4/4 [00:02<00:00,  1.60batch/s, acc=36.7, loss=0.311]\n"
     ]
    },
    {
     "name": "stdout",
     "output_type": "stream",
     "text": [
      "\n",
      "Epoch 142/150\n"
     ]
    },
    {
     "name": "stderr",
     "output_type": "stream",
     "text": [
      "Training: 100%|██████████| 25/25 [00:56<00:00,  2.26s/batch, acc=62.4, loss=0.654]\n",
      "Validation: 100%|██████████| 4/4 [00:02<00:00,  1.61batch/s, acc=39.1, loss=0.326]\n"
     ]
    },
    {
     "name": "stdout",
     "output_type": "stream",
     "text": [
      "\n",
      "Epoch 143/150\n"
     ]
    },
    {
     "name": "stderr",
     "output_type": "stream",
     "text": [
      "Training: 100%|██████████| 25/25 [00:56<00:00,  2.24s/batch, acc=62.4, loss=0.889]\n",
      "Validation: 100%|██████████| 4/4 [00:02<00:00,  1.59batch/s, acc=38.3, loss=0.344]\n"
     ]
    },
    {
     "name": "stdout",
     "output_type": "stream",
     "text": [
      "\n",
      "Epoch 144/150\n"
     ]
    },
    {
     "name": "stderr",
     "output_type": "stream",
     "text": [
      "Training: 100%|██████████| 25/25 [00:55<00:00,  2.22s/batch, acc=56.5, loss=1.22] \n",
      "Validation: 100%|██████████| 4/4 [00:02<00:00,  1.61batch/s, acc=38.3, loss=0.336]\n"
     ]
    },
    {
     "name": "stdout",
     "output_type": "stream",
     "text": [
      "\n",
      "Epoch 145/150\n"
     ]
    },
    {
     "name": "stderr",
     "output_type": "stream",
     "text": [
      "Training: 100%|██████████| 25/25 [00:55<00:00,  2.23s/batch, acc=63.4, loss=0.789]\n",
      "Validation: 100%|██████████| 4/4 [00:02<00:00,  1.63batch/s, acc=37.5, loss=0.323]\n"
     ]
    },
    {
     "name": "stdout",
     "output_type": "stream",
     "text": [
      "\n",
      "Epoch 146/150\n"
     ]
    },
    {
     "name": "stderr",
     "output_type": "stream",
     "text": [
      "Training: 100%|██████████| 25/25 [00:55<00:00,  2.22s/batch, acc=60.2, loss=0.89] \n",
      "Validation: 100%|██████████| 4/4 [00:02<00:00,  1.59batch/s, acc=38.3, loss=0.294]\n"
     ]
    },
    {
     "name": "stdout",
     "output_type": "stream",
     "text": [
      "\n",
      "Epoch 147/150\n"
     ]
    },
    {
     "name": "stderr",
     "output_type": "stream",
     "text": [
      "Training: 100%|██████████| 25/25 [00:55<00:00,  2.24s/batch, acc=62.4, loss=0.887]\n",
      "Validation: 100%|██████████| 4/4 [00:02<00:00,  1.62batch/s, acc=40.6, loss=0.301]\n"
     ]
    },
    {
     "name": "stdout",
     "output_type": "stream",
     "text": [
      "\n",
      "Epoch 148/150\n"
     ]
    },
    {
     "name": "stderr",
     "output_type": "stream",
     "text": [
      "Training: 100%|██████████| 25/25 [00:56<00:00,  2.26s/batch, acc=61.5, loss=0.994]\n",
      "Validation: 100%|██████████| 4/4 [00:02<00:00,  1.60batch/s, acc=42.2, loss=0.303]\n"
     ]
    },
    {
     "name": "stdout",
     "output_type": "stream",
     "text": [
      "\n",
      "Epoch 149/150\n"
     ]
    },
    {
     "name": "stderr",
     "output_type": "stream",
     "text": [
      "Training: 100%|██████████| 25/25 [00:55<00:00,  2.22s/batch, acc=61.6, loss=0.957]\n",
      "Validation: 100%|██████████| 4/4 [00:02<00:00,  1.61batch/s, acc=38.3, loss=0.32]\n"
     ]
    },
    {
     "name": "stdout",
     "output_type": "stream",
     "text": [
      "\n",
      "Epoch 150/150\n"
     ]
    },
    {
     "name": "stderr",
     "output_type": "stream",
     "text": [
      "Training: 100%|██████████| 25/25 [00:55<00:00,  2.20s/batch, acc=60.9, loss=0.968]\n",
      "Validation: 100%|██████████| 4/4 [00:02<00:00,  1.63batch/s, acc=40.6, loss=0.333]\n",
      "Testing: 100%|██████████| 4/4 [00:02<00:00,  1.62batch/s, acc=45.3, loss=1.73] "
     ]
    },
    {
     "name": "stdout",
     "output_type": "stream",
     "text": [
      "\n",
      "Test Accuracy: 57.43%\n"
     ]
    },
    {
     "name": "stderr",
     "output_type": "stream",
     "text": [
      "\n"
     ]
    }
   ],
   "source": [
    "import torch\n",
    "import torch.nn as nn\n",
    "import torch.optim as optim\n",
    "from torch.utils.data import DataLoader, random_split\n",
    "from torchvision import transforms, datasets\n",
    "from tqdm import tqdm\n",
    "import matplotlib.pyplot as plt\n",
    "\n",
    "class RGBAtoRGB(object):\n",
    "    def __call__(self, image):\n",
    "        # Convert RGBA image to RGB by removing the alpha channel\n",
    "        return image.convert(\"RGB\")\n",
    "\n",
    "# --- 1. Define transformations ---\n",
    "transform = transforms.Compose([\n",
    "    RGBAtoRGB(), \n",
    "    transforms.ToTensor(),  # Converts [0-255] RGBA to [0.0-1.0], shape [3, H, W]\n",
    "    transforms.Normalize(mean=[0.485, 0.456, 0.406], std=[0.229, 0.224, 0.225])  # Normalize for RGB\n",
    "])\n",
    "\n",
    "# --- 2. Load dataset ---\n",
    "dataset = datasets.ImageFolder(root='images_original', transform=transform)\n",
    "\n",
    "image, label = dataset[0]\n",
    "print(image.shape)  # The transformed image (e.g., torch.Size([3, H, W]))\n",
    "print(label)  # The class label (e.g., 0 for 'cat')\n",
    "\n",
    "# Split into train, val, test (80/10/10)\n",
    "train_size = int(0.8 * len(dataset))\n",
    "val_size = int(0.1 * len(dataset))\n",
    "test_size = len(dataset) - train_size - val_size\n",
    "train_ds, val_ds, test_ds = random_split(dataset, [train_size, val_size, test_size])\n",
    "\n",
    "print(train_ds)\n",
    "\n",
    "# --- 3. Create DataLoaders ---\n",
    "batch_size = 32\n",
    "train_loader = DataLoader(train_ds, batch_size=batch_size, shuffle=True)\n",
    "val_loader = DataLoader(val_ds, batch_size=batch_size, shuffle=False)\n",
    "test_loader = DataLoader(test_ds, batch_size=batch_size, shuffle=False)\n",
    "\n",
    "# --- 4. Define CNN Model ---\n",
    "class CNNModel(nn.Module):\n",
    "    def __init__(self, num_classes=10):\n",
    "        super(CNNModel, self).__init__()\n",
    "        self.conv_block = nn.Sequential(\n",
    "            nn.Conv2d(3, 32, kernel_size=3, padding=1),  # 3 input channels (RGB)\n",
    "            nn.ReLU(),\n",
    "            nn.MaxPool2d(2),  # 288x432 -> 144x216\n",
    "            nn.Conv2d(32, 64, kernel_size=3, padding=1),\n",
    "            nn.ReLU(),\n",
    "            nn.MaxPool2d(2),  # 144x216 -> 72x108\n",
    "        )\n",
    "        self.classifier = nn.Sequential(\n",
    "            nn.Flatten(),\n",
    "            nn.Linear(64 * 72 * 108, 256),\n",
    "            nn.ReLU(),\n",
    "            nn.Dropout(0.5),\n",
    "            nn.Linear(256, num_classes)\n",
    "        )\n",
    "\n",
    "    def forward(self, x):\n",
    "        x = self.conv_block(x)\n",
    "        x = self.classifier(x)\n",
    "        return x\n",
    "\n",
    "model = CNNModel(num_classes=10)\n",
    "\n",
    "# --- 5. Set device ---\n",
    "device = torch.device('cuda' if torch.cuda.is_available() else 'cpu')\n",
    "model.to(device)\n",
    "\n",
    "# --- 6. Loss and optimizer ---\n",
    "criterion = nn.CrossEntropyLoss()\n",
    "optimizer = optim.Adam(model.parameters(), lr=1e-4)\n",
    "\n",
    "# --- 7. Training & Validation Loops ---\n",
    "def train(model, loader, criterion, optimizer, device):\n",
    "    model.train()\n",
    "    total_loss, total_correct = 0, 0\n",
    "    pbar = tqdm(loader, desc=\"Training\", unit=\"batch\")\n",
    "    for images, labels in pbar:\n",
    "        images, labels = images.to(device), labels.to(device)\n",
    "\n",
    "        optimizer.zero_grad()\n",
    "        outputs = model(images)\n",
    "        loss = criterion(outputs, labels)\n",
    "        loss.backward()\n",
    "        optimizer.step()\n",
    "\n",
    "        total_loss += loss.item()\n",
    "        total_correct += (outputs.argmax(1) == labels).sum().item()\n",
    "\n",
    "        pbar.set_postfix(loss=loss.item(), acc=100.0 * total_correct / ((pbar.n + 1) * loader.batch_size))\n",
    "\n",
    "    avg_loss = total_loss / len(loader)\n",
    "    accuracy = total_correct / len(loader.dataset)\n",
    "    return avg_loss, accuracy\n",
    "\n",
    "def evaluate(model, loader, criterion, device, tag=\"Validation\"):\n",
    "    model.eval()\n",
    "    total_loss, total_correct = 0, 0\n",
    "    pbar = tqdm(loader, desc=tag, unit=\"batch\")\n",
    "    with torch.no_grad():\n",
    "        for images, labels in pbar:\n",
    "            images, labels = images.to(device), labels.to(device)\n",
    "            outputs = model(images)\n",
    "            loss = criterion(outputs, labels)\n",
    "\n",
    "            total_loss += loss.item()\n",
    "            total_correct += (outputs.argmax(1) == labels).sum().item()\n",
    "\n",
    "            pbar.set_postfix(loss=loss.item(), acc=100.0 * total_correct / ((pbar.n + 1) * loader.batch_size))\n",
    "\n",
    "    avg_loss = total_loss / len(loader)\n",
    "    accuracy = total_correct / len(loader.dataset)\n",
    "    return avg_loss, accuracy\n",
    "\n",
    "# --- 8. Train the model ---\n",
    "epochs = 150\n",
    "for epoch in range(epochs):\n",
    "    print(f\"\\nEpoch {epoch+1}/{epochs}\")\n",
    "    train_loss, train_acc = train(model, train_loader, criterion, optimizer, device)\n",
    "    val_loss, val_acc = evaluate(model, val_loader, criterion, device)\n",
    "    torch.save(model.state_dict(), 'model.pth')\n",
    "    torch.save(optimizer.state_dict(), 'optimizer.pth')\n",
    "\n",
    "\n",
    "# --- 9. Test ---\n",
    "test_loss, test_acc = evaluate(model, test_loader, criterion, device, tag=\"Testing\")\n",
    "print(f\"\\nTest Accuracy: {100 * test_acc:.2f}%\")\n"
   ]
  },
  {
   "cell_type": "code",
   "execution_count": null,
   "id": "40fbd528",
   "metadata": {},
   "outputs": [],
   "source": []
  }
 ],
 "metadata": {
  "kernelspec": {
   "display_name": "Python 3",
   "language": "python",
   "name": "python3"
  },
  "language_info": {
   "codemirror_mode": {
    "name": "ipython",
    "version": 3
   },
   "file_extension": ".py",
   "mimetype": "text/x-python",
   "name": "python",
   "nbconvert_exporter": "python",
   "pygments_lexer": "ipython3",
   "version": "3.9.21"
  }
 },
 "nbformat": 4,
 "nbformat_minor": 5
}
