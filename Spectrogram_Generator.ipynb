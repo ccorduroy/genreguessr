{
 "cells": [
  {
   "cell_type": "markdown",
   "id": "dcc76470",
   "metadata": {},
   "source": [
    "# Generating Spectrogram"
   ]
  },
  {
   "cell_type": "markdown",
   "id": "453f0710",
   "metadata": {},
   "source": [
    "Notes:\n",
    "\n",
    "1\\) Use create_spectrogram_sliding_window to batch process wav files\n",
    "\n",
    "2\\) Use create_single_spectrogram for live-inputs to create spectrograms 1 wav file at a time\n",
    "    (This option does allow max duration. It's ok for .wav file is not as long as duration,\n",
    "    it'll go until the end of the file in that case.)\n",
    "\n",
    "2\\) jazz.00054 is corrupted \n"
   ]
  },
  {
   "cell_type": "code",
   "execution_count": 4,
   "id": "14ab9bdb",
   "metadata": {},
   "outputs": [],
   "source": [
    "import librosa\n",
    "import librosa.display\n",
    "import matplotlib.pyplot as plt\n",
    "import os\n",
    "import numpy as np\n",
    "import cv2\n",
    "from PIL import Image"
   ]
  },
  {
   "cell_type": "code",
   "execution_count": null,
   "id": "f4bb6af4",
   "metadata": {},
   "outputs": [],
   "source": [
    "def visualize_single_spectrogram(file_name):\n",
    "\n",
    "    # Load audio file\n",
    "    y, sr = librosa.load(file_name)\n",
    "\n",
    "    # Compute spectrogram (Short-Time Fourier Transform)\n",
    "    D = librosa.stft(y)\n",
    "    S_db = librosa.amplitude_to_db(abs(D), ref=np.max)\n",
    "\n",
    "    # Display the spectrogram\n",
    "    plt.figure(figsize=(10, 5))\n",
    "    librosa.display.specshow(S_db, sr=sr, x_axis='time', y_axis='log')  # y_axis='linear' or 'log'\n",
    "    plt.colorbar(format='%+2.0f dB')\n",
    "    plt.title('Spectrogram')\n",
    "    plt.tight_layout()\n",
    "    plt.show()\n",
    "    plt.close()\n"
   ]
  },
  {
   "cell_type": "code",
   "execution_count": 8,
   "id": "cb4f0e46",
   "metadata": {},
   "outputs": [],
   "source": [
    "def create_single_spectrogram(file_path, duration):\n",
    "    y, sr = librosa.load(file_path)\n",
    "    # print(\"sampling rate: \", sr)\n",
    "    total_duration = librosa.get_duration(y=y, sr=sr)\n",
    "    adjusted_length = int(duration * sr)\n",
    "    adjusted_y = y[0:adjusted_length]\n",
    "    # Create spectrogram\n",
    "    # Perform Short-time Fourier transform (STFT)\n",
    "    D = librosa.stft(adjusted_y) #np.abs(D[..., f, t]) is the magnitude of frequency bin f at frame t\n",
    "    S_db = librosa.amplitude_to_db(np.abs(D), ref=np.max) # Converts amplitude from V to dB\n",
    "\n",
    "    S_db_normalized = cv2.normalize(S_db, None, 0, 255, cv2.NORM_MINMAX)\n",
    "    S_db_normalized = np.uint8(S_db_normalized)\n",
    "\n",
    "    # Create colored maps & Resize/Rotate\n",
    "    color_map = cv2.COLORMAP_INFERNO  # Looks similar to matplotlib's 'magma'\n",
    "    colored_img = cv2.applyColorMap(S_db_normalized, color_map)\n",
    "    resized_img = cv2.resize(colored_img, (640, 480), interpolation=cv2.INTER_AREA)\n",
    "    rotated_image = cv2.rotate(resized_img, cv2.ROTATE_180)\n",
    "\n",
    "    output_path = f\"{os.path.splitext(file_path)[0]}_spectrogram.png\"\n",
    "    \n",
    "    cv2.imwrite(output_path, rotated_image)"
   ]
  },
  {
   "cell_type": "code",
   "execution_count": 2,
   "id": "6e038bd7",
   "metadata": {},
   "outputs": [],
   "source": [
    "def create_spectrogram_sliding_window(window_duration, overlap_duration, parent_folder, genre=None):\n",
    "    # Settings\n",
    "    if (genre is None):\n",
    "        input_folder = f'{parent_folder}'\n",
    "    else:\n",
    "        input_folder = f'{parent_folder}/{genre}'\n",
    "    output_folder = f'sliding_spectrograms_{window_duration}_seconds'\n",
    "\n",
    "    # Walk through WAV files\n",
    "    for root, dirs, files in os.walk(input_folder):\n",
    "        # print (f\"root: {root}   dirs: {dirs}  files: {files}\")     #FOR DEBUGGING\n",
    "        for file in files:\n",
    "            if file.endswith('.wav'):\n",
    "                input_path = os.path.join(root, file)\n",
    "                # relative_path = os.path.relpath(root, input_folder) # ONLY USED FOR \"genres_original\"\n",
    "                relative_path = os.path.basename(root)\n",
    "                temp_output_folder = os.path.join(output_folder, relative_path)\n",
    "                # print(\"input path: \", input_path)    #FOR DEBUGGING\n",
    "                # print(\"relative path: \", relative_path)    #FOR DEBUGGING\n",
    "                # print(\"output path: \", temp_output_folder)    #FOR DEBUGGING\n",
    "                \n",
    "                os.makedirs(temp_output_folder, exist_ok=True)\n",
    "\n",
    "                # Load audio\n",
    "                y, sr = librosa.load(input_path)\n",
    "                # print(\"sampling rate: \", sr)\n",
    "                total_duration = librosa.get_duration(y=y, sr=sr)\n",
    "\n",
    "                # Convert time-based window/overlap to samples\n",
    "                window_length = int(window_duration * sr)\n",
    "                overlap_length = int(overlap_duration * sr)\n",
    "\n",
    "                for i, start_sample in enumerate(range(0, len(y) - window_length + 1, overlap_length)):\n",
    "                    end_sample = start_sample + window_length\n",
    "                    y_chunk = y[start_sample:end_sample]\n",
    "\n",
    "                    # Create spectrogram\n",
    "                    # Perform Short-time Fourier transform (STFT)\n",
    "                    D = librosa.stft(y_chunk) #np.abs(D[..., f, t]) is the magnitude of frequency bin f at frame t\n",
    "                    S_db = librosa.amplitude_to_db(np.abs(D), ref=np.max) # Converts amplitude from V to dB\n",
    "\n",
    "                    S_db_normalized = cv2.normalize(S_db, None, 0, 255, cv2.NORM_MINMAX)\n",
    "                    S_db_normalized = np.uint8(S_db_normalized)\n",
    "\n",
    "                    # Create colored maps & Resize/Rotate\n",
    "                    #color_map = cv2.COLORMAP_INFERNO  # Looks similar to matplotlib's 'magma'\n",
    "                    #colored_img = cv2.applyColorMap(S_db_normalized, color_map)\n",
    "                    colored_img = S_db_normalized
    "                    resized_img = cv2.resize(colored_img, (640, 480), interpolation=cv2.INTER_AREA)\n",
    "                    rotated_image = cv2.rotate(resized_img, cv2.ROTATE_180)\n",
    "\n",
    "                    output_name = f\"{os.path.splitext(file)[0]}_win{i}.png\"\n",
    "                    output_path = os.path.join(temp_output_folder, output_name)\n",
    "                    \n",
    "                    cv2.imwrite(output_path, rotated_image)\n",
    "\n",
    "                    # Plot and save\n",
    "                    # plt.figure(figsize=(10, 4))     # FOR GRAPH VISUALS\n",
    "                    # librosa.display.specshow(S_db, sr=sr, x_axis='time', y_axis='log')     # FOR GRAPH VISUALS\n",
    "                    # plt.colorbar(format='%+2.0f dB')     # FOR GRAPH VISUALS\n",
    "                    # plt.title(f\"{file} - window {i}\")     # FOR GRAPH VISUALS\n",
    "                    # plt.tight_layout()\n",
    "                    # plt.savefig(output_path)\n",
    "                    # plt.close()\n",
    "\n",
    "                    # print(f\"Saved: {output_path}\")\n"
   ]
  },
  {
   "cell_type": "code",
   "execution_count": null,
   "id": "2b3ed971",
   "metadata": {},
   "outputs": [],
   "source": [
    "# To generate only 1 image\n",
    "filePath = \"blues.00000.wav\"\n",
    "create_single_spectrogram(file_path=filePath, duration=30)\n",
    "\n",
    "# -------------------------------------------------------------------------\n",
    "\n",
    "#  To generate spectrograms for only 1 genre\n",
    "\n",
    "# create_spectrogram_sliding_window(window_duration=10, overlap_duration=5, parent_folder='genres_original', genre=\"rock\")\n",
    "\n",
    "# -------------------------------------------------------------------------\n",
    "\n",
    "# To generate whatever genre is in the list\n",
    "\n",
    "# genre_list = [\"blues\", \"classical\", \"country\", \"disco\", \"hiphop\", \"jazz\", \"metal\", \"pop\", \"reggae\", \"rock\"]\n",
    "# for genre in genre_list:\n",
    "#     create_spectrogram_sliding_window(window_duration=10, overlap_duration=5, parent_folder='genres_original' genre=genre)\n",
    "\n",
    "# -------------------------------------------------------------------------\n",
    "\n",
    "# To generate spectrogram for all genre in the parent folder\n",
    "\n",
    "# CAUTION: this will eat up your memory so don't run it on a big folder\n",
    "# create_spectrogram_sliding_window(window_duration=10, overlap_duration=5, parent_folder='genres_original')"
   ]
  },
  {
   "cell_type": "code",
   "execution_count": 28,
   "id": "0a80b185",
   "metadata": {},
   "outputs": [
    {
     "name": "stdout",
     "output_type": "stream",
     "text": [
      "RGB\n",
      "Width: 640, Height: 480\n"
     ]
    }
   ],
   "source": [
    "from PIL import Image\n",
    "\n",
    "# To check what image type is (and therefore # of channels, aka depth):\n",
    "    # Mode \"L\" means grayscale (1 channel).\n",
    "    # Mode \"RGB\" means color image (3 channels).\n",
    "    # Mode \"RGBA\" means color image with transparency (4 channels).\n",
    "\n",
    "img = Image.open(\"sliding_spectrograms_10_seconds/rock/rock.00094_win0.png\")\n",
    "width, height = img.size\n",
    "print(img.mode)\n",
    "print(f\"Width: {width}, Height: {height}\")"
   ]
  },
  {
   "cell_type": "code",
   "execution_count": null,
   "id": "713a4293",
   "metadata": {},
   "outputs": [],
   "source": []
  }
 ],
 "metadata": {
  "kernelspec": {
   "display_name": "Python 3",
   "language": "python",
   "name": "python3"
  },
  "language_info": {
   "codemirror_mode": {
    "name": "ipython",
    "version": 3
   },
   "file_extension": ".py",
   "mimetype": "text/x-python",
   "name": "python",
   "nbconvert_exporter": "python",
   "pygments_lexer": "ipython3",
   "version": "3.9.21"
  }
 },
 "nbformat": 4,
 "nbformat_minor": 5
}
